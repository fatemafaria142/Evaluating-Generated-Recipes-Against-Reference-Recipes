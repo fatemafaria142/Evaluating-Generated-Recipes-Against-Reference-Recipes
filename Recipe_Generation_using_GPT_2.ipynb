{
  "nbformat": 4,
  "nbformat_minor": 0,
  "metadata": {
    "colab": {
      "provenance": [],
      "gpuType": "T4",
      "include_colab_link": true
    },
    "kernelspec": {
      "name": "python3",
      "display_name": "Python 3"
    },
    "accelerator": "GPU",
    "widgets": {
      "application/vnd.jupyter.widget-state+json": {
        "deab151f2a5e49299901a4fa088dd8b3": {
          "model_module": "@jupyter-widgets/controls",
          "model_name": "HBoxModel",
          "model_module_version": "1.5.0",
          "state": {
            "_dom_classes": [],
            "_model_module": "@jupyter-widgets/controls",
            "_model_module_version": "1.5.0",
            "_model_name": "HBoxModel",
            "_view_count": null,
            "_view_module": "@jupyter-widgets/controls",
            "_view_module_version": "1.5.0",
            "_view_name": "HBoxView",
            "box_style": "",
            "children": [
              "IPY_MODEL_a2b95873768e47d186fdae86c8169aa7",
              "IPY_MODEL_5e8532badee64d9cb0ba0440fd55a7c0",
              "IPY_MODEL_3cf7e8fa0bca4974bb0582bc302f1358"
            ],
            "layout": "IPY_MODEL_b23579c5825a4196b7b145f4cb8b47f0"
          }
        },
        "a2b95873768e47d186fdae86c8169aa7": {
          "model_module": "@jupyter-widgets/controls",
          "model_name": "HTMLModel",
          "model_module_version": "1.5.0",
          "state": {
            "_dom_classes": [],
            "_model_module": "@jupyter-widgets/controls",
            "_model_module_version": "1.5.0",
            "_model_name": "HTMLModel",
            "_view_count": null,
            "_view_module": "@jupyter-widgets/controls",
            "_view_module_version": "1.5.0",
            "_view_name": "HTMLView",
            "description": "",
            "description_tooltip": null,
            "layout": "IPY_MODEL_37a042ae8b854226bbe30278f615fab2",
            "placeholder": "​",
            "style": "IPY_MODEL_d43797eb157e4613a9847374cca381c4",
            "value": "Downloading builder script: 100%"
          }
        },
        "5e8532badee64d9cb0ba0440fd55a7c0": {
          "model_module": "@jupyter-widgets/controls",
          "model_name": "FloatProgressModel",
          "model_module_version": "1.5.0",
          "state": {
            "_dom_classes": [],
            "_model_module": "@jupyter-widgets/controls",
            "_model_module_version": "1.5.0",
            "_model_name": "FloatProgressModel",
            "_view_count": null,
            "_view_module": "@jupyter-widgets/controls",
            "_view_module_version": "1.5.0",
            "_view_name": "ProgressView",
            "bar_style": "success",
            "description": "",
            "description_tooltip": null,
            "layout": "IPY_MODEL_f552462ce4d942dc9993c3fe38c862d8",
            "max": 4485,
            "min": 0,
            "orientation": "horizontal",
            "style": "IPY_MODEL_79a32c929b0a4a439be3075f97b5e6cb",
            "value": 4485
          }
        },
        "3cf7e8fa0bca4974bb0582bc302f1358": {
          "model_module": "@jupyter-widgets/controls",
          "model_name": "HTMLModel",
          "model_module_version": "1.5.0",
          "state": {
            "_dom_classes": [],
            "_model_module": "@jupyter-widgets/controls",
            "_model_module_version": "1.5.0",
            "_model_name": "HTMLModel",
            "_view_count": null,
            "_view_module": "@jupyter-widgets/controls",
            "_view_module_version": "1.5.0",
            "_view_name": "HTMLView",
            "description": "",
            "description_tooltip": null,
            "layout": "IPY_MODEL_9fd80916ea354afeaff5d70f4f21bba1",
            "placeholder": "​",
            "style": "IPY_MODEL_00cd3a0cf969461c80ad8f80e3addccc",
            "value": " 4.49k/4.49k [00:00&lt;00:00, 260kB/s]"
          }
        },
        "b23579c5825a4196b7b145f4cb8b47f0": {
          "model_module": "@jupyter-widgets/base",
          "model_name": "LayoutModel",
          "model_module_version": "1.2.0",
          "state": {
            "_model_module": "@jupyter-widgets/base",
            "_model_module_version": "1.2.0",
            "_model_name": "LayoutModel",
            "_view_count": null,
            "_view_module": "@jupyter-widgets/base",
            "_view_module_version": "1.2.0",
            "_view_name": "LayoutView",
            "align_content": null,
            "align_items": null,
            "align_self": null,
            "border": null,
            "bottom": null,
            "display": null,
            "flex": null,
            "flex_flow": null,
            "grid_area": null,
            "grid_auto_columns": null,
            "grid_auto_flow": null,
            "grid_auto_rows": null,
            "grid_column": null,
            "grid_gap": null,
            "grid_row": null,
            "grid_template_areas": null,
            "grid_template_columns": null,
            "grid_template_rows": null,
            "height": null,
            "justify_content": null,
            "justify_items": null,
            "left": null,
            "margin": null,
            "max_height": null,
            "max_width": null,
            "min_height": null,
            "min_width": null,
            "object_fit": null,
            "object_position": null,
            "order": null,
            "overflow": null,
            "overflow_x": null,
            "overflow_y": null,
            "padding": null,
            "right": null,
            "top": null,
            "visibility": null,
            "width": null
          }
        },
        "37a042ae8b854226bbe30278f615fab2": {
          "model_module": "@jupyter-widgets/base",
          "model_name": "LayoutModel",
          "model_module_version": "1.2.0",
          "state": {
            "_model_module": "@jupyter-widgets/base",
            "_model_module_version": "1.2.0",
            "_model_name": "LayoutModel",
            "_view_count": null,
            "_view_module": "@jupyter-widgets/base",
            "_view_module_version": "1.2.0",
            "_view_name": "LayoutView",
            "align_content": null,
            "align_items": null,
            "align_self": null,
            "border": null,
            "bottom": null,
            "display": null,
            "flex": null,
            "flex_flow": null,
            "grid_area": null,
            "grid_auto_columns": null,
            "grid_auto_flow": null,
            "grid_auto_rows": null,
            "grid_column": null,
            "grid_gap": null,
            "grid_row": null,
            "grid_template_areas": null,
            "grid_template_columns": null,
            "grid_template_rows": null,
            "height": null,
            "justify_content": null,
            "justify_items": null,
            "left": null,
            "margin": null,
            "max_height": null,
            "max_width": null,
            "min_height": null,
            "min_width": null,
            "object_fit": null,
            "object_position": null,
            "order": null,
            "overflow": null,
            "overflow_x": null,
            "overflow_y": null,
            "padding": null,
            "right": null,
            "top": null,
            "visibility": null,
            "width": null
          }
        },
        "d43797eb157e4613a9847374cca381c4": {
          "model_module": "@jupyter-widgets/controls",
          "model_name": "DescriptionStyleModel",
          "model_module_version": "1.5.0",
          "state": {
            "_model_module": "@jupyter-widgets/controls",
            "_model_module_version": "1.5.0",
            "_model_name": "DescriptionStyleModel",
            "_view_count": null,
            "_view_module": "@jupyter-widgets/base",
            "_view_module_version": "1.2.0",
            "_view_name": "StyleView",
            "description_width": ""
          }
        },
        "f552462ce4d942dc9993c3fe38c862d8": {
          "model_module": "@jupyter-widgets/base",
          "model_name": "LayoutModel",
          "model_module_version": "1.2.0",
          "state": {
            "_model_module": "@jupyter-widgets/base",
            "_model_module_version": "1.2.0",
            "_model_name": "LayoutModel",
            "_view_count": null,
            "_view_module": "@jupyter-widgets/base",
            "_view_module_version": "1.2.0",
            "_view_name": "LayoutView",
            "align_content": null,
            "align_items": null,
            "align_self": null,
            "border": null,
            "bottom": null,
            "display": null,
            "flex": null,
            "flex_flow": null,
            "grid_area": null,
            "grid_auto_columns": null,
            "grid_auto_flow": null,
            "grid_auto_rows": null,
            "grid_column": null,
            "grid_gap": null,
            "grid_row": null,
            "grid_template_areas": null,
            "grid_template_columns": null,
            "grid_template_rows": null,
            "height": null,
            "justify_content": null,
            "justify_items": null,
            "left": null,
            "margin": null,
            "max_height": null,
            "max_width": null,
            "min_height": null,
            "min_width": null,
            "object_fit": null,
            "object_position": null,
            "order": null,
            "overflow": null,
            "overflow_x": null,
            "overflow_y": null,
            "padding": null,
            "right": null,
            "top": null,
            "visibility": null,
            "width": null
          }
        },
        "79a32c929b0a4a439be3075f97b5e6cb": {
          "model_module": "@jupyter-widgets/controls",
          "model_name": "ProgressStyleModel",
          "model_module_version": "1.5.0",
          "state": {
            "_model_module": "@jupyter-widgets/controls",
            "_model_module_version": "1.5.0",
            "_model_name": "ProgressStyleModel",
            "_view_count": null,
            "_view_module": "@jupyter-widgets/base",
            "_view_module_version": "1.2.0",
            "_view_name": "StyleView",
            "bar_color": null,
            "description_width": ""
          }
        },
        "9fd80916ea354afeaff5d70f4f21bba1": {
          "model_module": "@jupyter-widgets/base",
          "model_name": "LayoutModel",
          "model_module_version": "1.2.0",
          "state": {
            "_model_module": "@jupyter-widgets/base",
            "_model_module_version": "1.2.0",
            "_model_name": "LayoutModel",
            "_view_count": null,
            "_view_module": "@jupyter-widgets/base",
            "_view_module_version": "1.2.0",
            "_view_name": "LayoutView",
            "align_content": null,
            "align_items": null,
            "align_self": null,
            "border": null,
            "bottom": null,
            "display": null,
            "flex": null,
            "flex_flow": null,
            "grid_area": null,
            "grid_auto_columns": null,
            "grid_auto_flow": null,
            "grid_auto_rows": null,
            "grid_column": null,
            "grid_gap": null,
            "grid_row": null,
            "grid_template_areas": null,
            "grid_template_columns": null,
            "grid_template_rows": null,
            "height": null,
            "justify_content": null,
            "justify_items": null,
            "left": null,
            "margin": null,
            "max_height": null,
            "max_width": null,
            "min_height": null,
            "min_width": null,
            "object_fit": null,
            "object_position": null,
            "order": null,
            "overflow": null,
            "overflow_x": null,
            "overflow_y": null,
            "padding": null,
            "right": null,
            "top": null,
            "visibility": null,
            "width": null
          }
        },
        "00cd3a0cf969461c80ad8f80e3addccc": {
          "model_module": "@jupyter-widgets/controls",
          "model_name": "DescriptionStyleModel",
          "model_module_version": "1.5.0",
          "state": {
            "_model_module": "@jupyter-widgets/controls",
            "_model_module_version": "1.5.0",
            "_model_name": "DescriptionStyleModel",
            "_view_count": null,
            "_view_module": "@jupyter-widgets/base",
            "_view_module_version": "1.2.0",
            "_view_name": "StyleView",
            "description_width": ""
          }
        },
        "fc6f5c313c14406ca0f4aa59992c34a0": {
          "model_module": "@jupyter-widgets/controls",
          "model_name": "HBoxModel",
          "model_module_version": "1.5.0",
          "state": {
            "_dom_classes": [],
            "_model_module": "@jupyter-widgets/controls",
            "_model_module_version": "1.5.0",
            "_model_name": "HBoxModel",
            "_view_count": null,
            "_view_module": "@jupyter-widgets/controls",
            "_view_module_version": "1.5.0",
            "_view_name": "HBoxView",
            "box_style": "",
            "children": [
              "IPY_MODEL_1a1fd000bacd40a488b908ea9bc5cf31",
              "IPY_MODEL_b90e29416fde455c8476157cc2c5d268",
              "IPY_MODEL_838c5f1219d4412c954c2029e969855e"
            ],
            "layout": "IPY_MODEL_3f4b2921f640452a8704648ac563c60d"
          }
        },
        "1a1fd000bacd40a488b908ea9bc5cf31": {
          "model_module": "@jupyter-widgets/controls",
          "model_name": "HTMLModel",
          "model_module_version": "1.5.0",
          "state": {
            "_dom_classes": [],
            "_model_module": "@jupyter-widgets/controls",
            "_model_module_version": "1.5.0",
            "_model_name": "HTMLModel",
            "_view_count": null,
            "_view_module": "@jupyter-widgets/controls",
            "_view_module_version": "1.5.0",
            "_view_name": "HTMLView",
            "description": "",
            "description_tooltip": null,
            "layout": "IPY_MODEL_e19273718c274a3b9943b6f8079c260a",
            "placeholder": "​",
            "style": "IPY_MODEL_73af0cb53d7841bbb154813bac8dd015",
            "value": "Downloading builder script: 100%"
          }
        },
        "b90e29416fde455c8476157cc2c5d268": {
          "model_module": "@jupyter-widgets/controls",
          "model_name": "FloatProgressModel",
          "model_module_version": "1.5.0",
          "state": {
            "_dom_classes": [],
            "_model_module": "@jupyter-widgets/controls",
            "_model_module_version": "1.5.0",
            "_model_name": "FloatProgressModel",
            "_view_count": null,
            "_view_module": "@jupyter-widgets/controls",
            "_view_module_version": "1.5.0",
            "_view_name": "ProgressView",
            "bar_style": "success",
            "description": "",
            "description_tooltip": null,
            "layout": "IPY_MODEL_b3e3735f6eec4512b624cf5d9faabb0b",
            "max": 6927,
            "min": 0,
            "orientation": "horizontal",
            "style": "IPY_MODEL_a40fc9baed754100bf5a6ac9c3942daa",
            "value": 6927
          }
        },
        "838c5f1219d4412c954c2029e969855e": {
          "model_module": "@jupyter-widgets/controls",
          "model_name": "HTMLModel",
          "model_module_version": "1.5.0",
          "state": {
            "_dom_classes": [],
            "_model_module": "@jupyter-widgets/controls",
            "_model_module_version": "1.5.0",
            "_model_name": "HTMLModel",
            "_view_count": null,
            "_view_module": "@jupyter-widgets/controls",
            "_view_module_version": "1.5.0",
            "_view_name": "HTMLView",
            "description": "",
            "description_tooltip": null,
            "layout": "IPY_MODEL_442900f8b6094af49dc50f7205a44bd0",
            "placeholder": "​",
            "style": "IPY_MODEL_37e05f8b5b2749b38ce65ffe6ed79d17",
            "value": " 6.93k/6.93k [00:00&lt;00:00, 316kB/s]"
          }
        },
        "3f4b2921f640452a8704648ac563c60d": {
          "model_module": "@jupyter-widgets/base",
          "model_name": "LayoutModel",
          "model_module_version": "1.2.0",
          "state": {
            "_model_module": "@jupyter-widgets/base",
            "_model_module_version": "1.2.0",
            "_model_name": "LayoutModel",
            "_view_count": null,
            "_view_module": "@jupyter-widgets/base",
            "_view_module_version": "1.2.0",
            "_view_name": "LayoutView",
            "align_content": null,
            "align_items": null,
            "align_self": null,
            "border": null,
            "bottom": null,
            "display": null,
            "flex": null,
            "flex_flow": null,
            "grid_area": null,
            "grid_auto_columns": null,
            "grid_auto_flow": null,
            "grid_auto_rows": null,
            "grid_column": null,
            "grid_gap": null,
            "grid_row": null,
            "grid_template_areas": null,
            "grid_template_columns": null,
            "grid_template_rows": null,
            "height": null,
            "justify_content": null,
            "justify_items": null,
            "left": null,
            "margin": null,
            "max_height": null,
            "max_width": null,
            "min_height": null,
            "min_width": null,
            "object_fit": null,
            "object_position": null,
            "order": null,
            "overflow": null,
            "overflow_x": null,
            "overflow_y": null,
            "padding": null,
            "right": null,
            "top": null,
            "visibility": null,
            "width": null
          }
        },
        "e19273718c274a3b9943b6f8079c260a": {
          "model_module": "@jupyter-widgets/base",
          "model_name": "LayoutModel",
          "model_module_version": "1.2.0",
          "state": {
            "_model_module": "@jupyter-widgets/base",
            "_model_module_version": "1.2.0",
            "_model_name": "LayoutModel",
            "_view_count": null,
            "_view_module": "@jupyter-widgets/base",
            "_view_module_version": "1.2.0",
            "_view_name": "LayoutView",
            "align_content": null,
            "align_items": null,
            "align_self": null,
            "border": null,
            "bottom": null,
            "display": null,
            "flex": null,
            "flex_flow": null,
            "grid_area": null,
            "grid_auto_columns": null,
            "grid_auto_flow": null,
            "grid_auto_rows": null,
            "grid_column": null,
            "grid_gap": null,
            "grid_row": null,
            "grid_template_areas": null,
            "grid_template_columns": null,
            "grid_template_rows": null,
            "height": null,
            "justify_content": null,
            "justify_items": null,
            "left": null,
            "margin": null,
            "max_height": null,
            "max_width": null,
            "min_height": null,
            "min_width": null,
            "object_fit": null,
            "object_position": null,
            "order": null,
            "overflow": null,
            "overflow_x": null,
            "overflow_y": null,
            "padding": null,
            "right": null,
            "top": null,
            "visibility": null,
            "width": null
          }
        },
        "73af0cb53d7841bbb154813bac8dd015": {
          "model_module": "@jupyter-widgets/controls",
          "model_name": "DescriptionStyleModel",
          "model_module_version": "1.5.0",
          "state": {
            "_model_module": "@jupyter-widgets/controls",
            "_model_module_version": "1.5.0",
            "_model_name": "DescriptionStyleModel",
            "_view_count": null,
            "_view_module": "@jupyter-widgets/base",
            "_view_module_version": "1.2.0",
            "_view_name": "StyleView",
            "description_width": ""
          }
        },
        "b3e3735f6eec4512b624cf5d9faabb0b": {
          "model_module": "@jupyter-widgets/base",
          "model_name": "LayoutModel",
          "model_module_version": "1.2.0",
          "state": {
            "_model_module": "@jupyter-widgets/base",
            "_model_module_version": "1.2.0",
            "_model_name": "LayoutModel",
            "_view_count": null,
            "_view_module": "@jupyter-widgets/base",
            "_view_module_version": "1.2.0",
            "_view_name": "LayoutView",
            "align_content": null,
            "align_items": null,
            "align_self": null,
            "border": null,
            "bottom": null,
            "display": null,
            "flex": null,
            "flex_flow": null,
            "grid_area": null,
            "grid_auto_columns": null,
            "grid_auto_flow": null,
            "grid_auto_rows": null,
            "grid_column": null,
            "grid_gap": null,
            "grid_row": null,
            "grid_template_areas": null,
            "grid_template_columns": null,
            "grid_template_rows": null,
            "height": null,
            "justify_content": null,
            "justify_items": null,
            "left": null,
            "margin": null,
            "max_height": null,
            "max_width": null,
            "min_height": null,
            "min_width": null,
            "object_fit": null,
            "object_position": null,
            "order": null,
            "overflow": null,
            "overflow_x": null,
            "overflow_y": null,
            "padding": null,
            "right": null,
            "top": null,
            "visibility": null,
            "width": null
          }
        },
        "a40fc9baed754100bf5a6ac9c3942daa": {
          "model_module": "@jupyter-widgets/controls",
          "model_name": "ProgressStyleModel",
          "model_module_version": "1.5.0",
          "state": {
            "_model_module": "@jupyter-widgets/controls",
            "_model_module_version": "1.5.0",
            "_model_name": "ProgressStyleModel",
            "_view_count": null,
            "_view_module": "@jupyter-widgets/base",
            "_view_module_version": "1.2.0",
            "_view_name": "StyleView",
            "bar_color": null,
            "description_width": ""
          }
        },
        "442900f8b6094af49dc50f7205a44bd0": {
          "model_module": "@jupyter-widgets/base",
          "model_name": "LayoutModel",
          "model_module_version": "1.2.0",
          "state": {
            "_model_module": "@jupyter-widgets/base",
            "_model_module_version": "1.2.0",
            "_model_name": "LayoutModel",
            "_view_count": null,
            "_view_module": "@jupyter-widgets/base",
            "_view_module_version": "1.2.0",
            "_view_name": "LayoutView",
            "align_content": null,
            "align_items": null,
            "align_self": null,
            "border": null,
            "bottom": null,
            "display": null,
            "flex": null,
            "flex_flow": null,
            "grid_area": null,
            "grid_auto_columns": null,
            "grid_auto_flow": null,
            "grid_auto_rows": null,
            "grid_column": null,
            "grid_gap": null,
            "grid_row": null,
            "grid_template_areas": null,
            "grid_template_columns": null,
            "grid_template_rows": null,
            "height": null,
            "justify_content": null,
            "justify_items": null,
            "left": null,
            "margin": null,
            "max_height": null,
            "max_width": null,
            "min_height": null,
            "min_width": null,
            "object_fit": null,
            "object_position": null,
            "order": null,
            "overflow": null,
            "overflow_x": null,
            "overflow_y": null,
            "padding": null,
            "right": null,
            "top": null,
            "visibility": null,
            "width": null
          }
        },
        "37e05f8b5b2749b38ce65ffe6ed79d17": {
          "model_module": "@jupyter-widgets/controls",
          "model_name": "DescriptionStyleModel",
          "model_module_version": "1.5.0",
          "state": {
            "_model_module": "@jupyter-widgets/controls",
            "_model_module_version": "1.5.0",
            "_model_name": "DescriptionStyleModel",
            "_view_count": null,
            "_view_module": "@jupyter-widgets/base",
            "_view_module_version": "1.2.0",
            "_view_name": "StyleView",
            "description_width": ""
          }
        },
        "502bc78156574ead943da40588b85a64": {
          "model_module": "@jupyter-widgets/controls",
          "model_name": "HBoxModel",
          "model_module_version": "1.5.0",
          "state": {
            "_dom_classes": [],
            "_model_module": "@jupyter-widgets/controls",
            "_model_module_version": "1.5.0",
            "_model_name": "HBoxModel",
            "_view_count": null,
            "_view_module": "@jupyter-widgets/controls",
            "_view_module_version": "1.5.0",
            "_view_name": "HBoxView",
            "box_style": "",
            "children": [
              "IPY_MODEL_85f1b4ceadec4d10a32805e7cad1e14e",
              "IPY_MODEL_44de0151147a4f6c970335bde60f9982",
              "IPY_MODEL_e7c3fe18bac84b80a9f8426257c9c22e"
            ],
            "layout": "IPY_MODEL_08bad3cd32474175b4f20c9abdbe3da5"
          }
        },
        "85f1b4ceadec4d10a32805e7cad1e14e": {
          "model_module": "@jupyter-widgets/controls",
          "model_name": "HTMLModel",
          "model_module_version": "1.5.0",
          "state": {
            "_dom_classes": [],
            "_model_module": "@jupyter-widgets/controls",
            "_model_module_version": "1.5.0",
            "_model_name": "HTMLModel",
            "_view_count": null,
            "_view_module": "@jupyter-widgets/controls",
            "_view_module_version": "1.5.0",
            "_view_name": "HTMLView",
            "description": "",
            "description_tooltip": null,
            "layout": "IPY_MODEL_62e34889be314707ad4f1accc54c42cd",
            "placeholder": "​",
            "style": "IPY_MODEL_46bc13820cef486193d7b227b183b182",
            "value": "Downloading builder script: 100%"
          }
        },
        "44de0151147a4f6c970335bde60f9982": {
          "model_module": "@jupyter-widgets/controls",
          "model_name": "FloatProgressModel",
          "model_module_version": "1.5.0",
          "state": {
            "_dom_classes": [],
            "_model_module": "@jupyter-widgets/controls",
            "_model_module_version": "1.5.0",
            "_model_name": "FloatProgressModel",
            "_view_count": null,
            "_view_module": "@jupyter-widgets/controls",
            "_view_module_version": "1.5.0",
            "_view_name": "ProgressView",
            "bar_style": "success",
            "description": "",
            "description_tooltip": null,
            "layout": "IPY_MODEL_f022a27d5ddc456fafdd88f2854a0040",
            "max": 5669,
            "min": 0,
            "orientation": "horizontal",
            "style": "IPY_MODEL_55ccd33dd4624c56b22d47c950c6929e",
            "value": 5669
          }
        },
        "e7c3fe18bac84b80a9f8426257c9c22e": {
          "model_module": "@jupyter-widgets/controls",
          "model_name": "HTMLModel",
          "model_module_version": "1.5.0",
          "state": {
            "_dom_classes": [],
            "_model_module": "@jupyter-widgets/controls",
            "_model_module_version": "1.5.0",
            "_model_name": "HTMLModel",
            "_view_count": null,
            "_view_module": "@jupyter-widgets/controls",
            "_view_module_version": "1.5.0",
            "_view_name": "HTMLView",
            "description": "",
            "description_tooltip": null,
            "layout": "IPY_MODEL_cd99a904bc3d4aff814309d7d688c4d1",
            "placeholder": "​",
            "style": "IPY_MODEL_ad42baaebccd4344b453616480003adf",
            "value": " 5.67k/5.67k [00:00&lt;00:00, 340kB/s]"
          }
        },
        "08bad3cd32474175b4f20c9abdbe3da5": {
          "model_module": "@jupyter-widgets/base",
          "model_name": "LayoutModel",
          "model_module_version": "1.2.0",
          "state": {
            "_model_module": "@jupyter-widgets/base",
            "_model_module_version": "1.2.0",
            "_model_name": "LayoutModel",
            "_view_count": null,
            "_view_module": "@jupyter-widgets/base",
            "_view_module_version": "1.2.0",
            "_view_name": "LayoutView",
            "align_content": null,
            "align_items": null,
            "align_self": null,
            "border": null,
            "bottom": null,
            "display": null,
            "flex": null,
            "flex_flow": null,
            "grid_area": null,
            "grid_auto_columns": null,
            "grid_auto_flow": null,
            "grid_auto_rows": null,
            "grid_column": null,
            "grid_gap": null,
            "grid_row": null,
            "grid_template_areas": null,
            "grid_template_columns": null,
            "grid_template_rows": null,
            "height": null,
            "justify_content": null,
            "justify_items": null,
            "left": null,
            "margin": null,
            "max_height": null,
            "max_width": null,
            "min_height": null,
            "min_width": null,
            "object_fit": null,
            "object_position": null,
            "order": null,
            "overflow": null,
            "overflow_x": null,
            "overflow_y": null,
            "padding": null,
            "right": null,
            "top": null,
            "visibility": null,
            "width": null
          }
        },
        "62e34889be314707ad4f1accc54c42cd": {
          "model_module": "@jupyter-widgets/base",
          "model_name": "LayoutModel",
          "model_module_version": "1.2.0",
          "state": {
            "_model_module": "@jupyter-widgets/base",
            "_model_module_version": "1.2.0",
            "_model_name": "LayoutModel",
            "_view_count": null,
            "_view_module": "@jupyter-widgets/base",
            "_view_module_version": "1.2.0",
            "_view_name": "LayoutView",
            "align_content": null,
            "align_items": null,
            "align_self": null,
            "border": null,
            "bottom": null,
            "display": null,
            "flex": null,
            "flex_flow": null,
            "grid_area": null,
            "grid_auto_columns": null,
            "grid_auto_flow": null,
            "grid_auto_rows": null,
            "grid_column": null,
            "grid_gap": null,
            "grid_row": null,
            "grid_template_areas": null,
            "grid_template_columns": null,
            "grid_template_rows": null,
            "height": null,
            "justify_content": null,
            "justify_items": null,
            "left": null,
            "margin": null,
            "max_height": null,
            "max_width": null,
            "min_height": null,
            "min_width": null,
            "object_fit": null,
            "object_position": null,
            "order": null,
            "overflow": null,
            "overflow_x": null,
            "overflow_y": null,
            "padding": null,
            "right": null,
            "top": null,
            "visibility": null,
            "width": null
          }
        },
        "46bc13820cef486193d7b227b183b182": {
          "model_module": "@jupyter-widgets/controls",
          "model_name": "DescriptionStyleModel",
          "model_module_version": "1.5.0",
          "state": {
            "_model_module": "@jupyter-widgets/controls",
            "_model_module_version": "1.5.0",
            "_model_name": "DescriptionStyleModel",
            "_view_count": null,
            "_view_module": "@jupyter-widgets/base",
            "_view_module_version": "1.2.0",
            "_view_name": "StyleView",
            "description_width": ""
          }
        },
        "f022a27d5ddc456fafdd88f2854a0040": {
          "model_module": "@jupyter-widgets/base",
          "model_name": "LayoutModel",
          "model_module_version": "1.2.0",
          "state": {
            "_model_module": "@jupyter-widgets/base",
            "_model_module_version": "1.2.0",
            "_model_name": "LayoutModel",
            "_view_count": null,
            "_view_module": "@jupyter-widgets/base",
            "_view_module_version": "1.2.0",
            "_view_name": "LayoutView",
            "align_content": null,
            "align_items": null,
            "align_self": null,
            "border": null,
            "bottom": null,
            "display": null,
            "flex": null,
            "flex_flow": null,
            "grid_area": null,
            "grid_auto_columns": null,
            "grid_auto_flow": null,
            "grid_auto_rows": null,
            "grid_column": null,
            "grid_gap": null,
            "grid_row": null,
            "grid_template_areas": null,
            "grid_template_columns": null,
            "grid_template_rows": null,
            "height": null,
            "justify_content": null,
            "justify_items": null,
            "left": null,
            "margin": null,
            "max_height": null,
            "max_width": null,
            "min_height": null,
            "min_width": null,
            "object_fit": null,
            "object_position": null,
            "order": null,
            "overflow": null,
            "overflow_x": null,
            "overflow_y": null,
            "padding": null,
            "right": null,
            "top": null,
            "visibility": null,
            "width": null
          }
        },
        "55ccd33dd4624c56b22d47c950c6929e": {
          "model_module": "@jupyter-widgets/controls",
          "model_name": "ProgressStyleModel",
          "model_module_version": "1.5.0",
          "state": {
            "_model_module": "@jupyter-widgets/controls",
            "_model_module_version": "1.5.0",
            "_model_name": "ProgressStyleModel",
            "_view_count": null,
            "_view_module": "@jupyter-widgets/base",
            "_view_module_version": "1.2.0",
            "_view_name": "StyleView",
            "bar_color": null,
            "description_width": ""
          }
        },
        "cd99a904bc3d4aff814309d7d688c4d1": {
          "model_module": "@jupyter-widgets/base",
          "model_name": "LayoutModel",
          "model_module_version": "1.2.0",
          "state": {
            "_model_module": "@jupyter-widgets/base",
            "_model_module_version": "1.2.0",
            "_model_name": "LayoutModel",
            "_view_count": null,
            "_view_module": "@jupyter-widgets/base",
            "_view_module_version": "1.2.0",
            "_view_name": "LayoutView",
            "align_content": null,
            "align_items": null,
            "align_self": null,
            "border": null,
            "bottom": null,
            "display": null,
            "flex": null,
            "flex_flow": null,
            "grid_area": null,
            "grid_auto_columns": null,
            "grid_auto_flow": null,
            "grid_auto_rows": null,
            "grid_column": null,
            "grid_gap": null,
            "grid_row": null,
            "grid_template_areas": null,
            "grid_template_columns": null,
            "grid_template_rows": null,
            "height": null,
            "justify_content": null,
            "justify_items": null,
            "left": null,
            "margin": null,
            "max_height": null,
            "max_width": null,
            "min_height": null,
            "min_width": null,
            "object_fit": null,
            "object_position": null,
            "order": null,
            "overflow": null,
            "overflow_x": null,
            "overflow_y": null,
            "padding": null,
            "right": null,
            "top": null,
            "visibility": null,
            "width": null
          }
        },
        "ad42baaebccd4344b453616480003adf": {
          "model_module": "@jupyter-widgets/controls",
          "model_name": "DescriptionStyleModel",
          "model_module_version": "1.5.0",
          "state": {
            "_model_module": "@jupyter-widgets/controls",
            "_model_module_version": "1.5.0",
            "_model_name": "DescriptionStyleModel",
            "_view_count": null,
            "_view_module": "@jupyter-widgets/base",
            "_view_module_version": "1.2.0",
            "_view_name": "StyleView",
            "description_width": ""
          }
        },
        "91558dc8c55e4fbf9618fd8be9c0a0ae": {
          "model_module": "@jupyter-widgets/controls",
          "model_name": "HBoxModel",
          "model_module_version": "1.5.0",
          "state": {
            "_dom_classes": [],
            "_model_module": "@jupyter-widgets/controls",
            "_model_module_version": "1.5.0",
            "_model_name": "HBoxModel",
            "_view_count": null,
            "_view_module": "@jupyter-widgets/controls",
            "_view_module_version": "1.5.0",
            "_view_name": "HBoxView",
            "box_style": "",
            "children": [
              "IPY_MODEL_1c13f048a1c4431a8129a5cc39359682",
              "IPY_MODEL_e3f915d7110e4346a216ef8ed7399b01",
              "IPY_MODEL_4f0615afe5b340d7beee909ededbe2aa"
            ],
            "layout": "IPY_MODEL_9c6f2e8e3684440cab25da6f7703a1ef"
          }
        },
        "1c13f048a1c4431a8129a5cc39359682": {
          "model_module": "@jupyter-widgets/controls",
          "model_name": "HTMLModel",
          "model_module_version": "1.5.0",
          "state": {
            "_dom_classes": [],
            "_model_module": "@jupyter-widgets/controls",
            "_model_module_version": "1.5.0",
            "_model_name": "HTMLModel",
            "_view_count": null,
            "_view_module": "@jupyter-widgets/controls",
            "_view_module_version": "1.5.0",
            "_view_name": "HTMLView",
            "description": "",
            "description_tooltip": null,
            "layout": "IPY_MODEL_dea29c0d5380464ebe5989d40bb1105f",
            "placeholder": "​",
            "style": "IPY_MODEL_47d79526eab341aaa6f72aa13a34708b",
            "value": "Downloading builder script: 100%"
          }
        },
        "e3f915d7110e4346a216ef8ed7399b01": {
          "model_module": "@jupyter-widgets/controls",
          "model_name": "FloatProgressModel",
          "model_module_version": "1.5.0",
          "state": {
            "_dom_classes": [],
            "_model_module": "@jupyter-widgets/controls",
            "_model_module_version": "1.5.0",
            "_model_name": "FloatProgressModel",
            "_view_count": null,
            "_view_module": "@jupyter-widgets/controls",
            "_view_module_version": "1.5.0",
            "_view_name": "ProgressView",
            "bar_style": "success",
            "description": "",
            "description_tooltip": null,
            "layout": "IPY_MODEL_a56a65d893124f69bcc497a8488ed024",
            "max": 5937,
            "min": 0,
            "orientation": "horizontal",
            "style": "IPY_MODEL_66d772e79676463bbfc34a3c88466101",
            "value": 5937
          }
        },
        "4f0615afe5b340d7beee909ededbe2aa": {
          "model_module": "@jupyter-widgets/controls",
          "model_name": "HTMLModel",
          "model_module_version": "1.5.0",
          "state": {
            "_dom_classes": [],
            "_model_module": "@jupyter-widgets/controls",
            "_model_module_version": "1.5.0",
            "_model_name": "HTMLModel",
            "_view_count": null,
            "_view_module": "@jupyter-widgets/controls",
            "_view_module_version": "1.5.0",
            "_view_name": "HTMLView",
            "description": "",
            "description_tooltip": null,
            "layout": "IPY_MODEL_ca467ecc72ef411781cae7e590ca3f5f",
            "placeholder": "​",
            "style": "IPY_MODEL_507e68fe9d3d4835a60a5ab1d0162e15",
            "value": " 5.94k/5.94k [00:00&lt;00:00, 349kB/s]"
          }
        },
        "9c6f2e8e3684440cab25da6f7703a1ef": {
          "model_module": "@jupyter-widgets/base",
          "model_name": "LayoutModel",
          "model_module_version": "1.2.0",
          "state": {
            "_model_module": "@jupyter-widgets/base",
            "_model_module_version": "1.2.0",
            "_model_name": "LayoutModel",
            "_view_count": null,
            "_view_module": "@jupyter-widgets/base",
            "_view_module_version": "1.2.0",
            "_view_name": "LayoutView",
            "align_content": null,
            "align_items": null,
            "align_self": null,
            "border": null,
            "bottom": null,
            "display": null,
            "flex": null,
            "flex_flow": null,
            "grid_area": null,
            "grid_auto_columns": null,
            "grid_auto_flow": null,
            "grid_auto_rows": null,
            "grid_column": null,
            "grid_gap": null,
            "grid_row": null,
            "grid_template_areas": null,
            "grid_template_columns": null,
            "grid_template_rows": null,
            "height": null,
            "justify_content": null,
            "justify_items": null,
            "left": null,
            "margin": null,
            "max_height": null,
            "max_width": null,
            "min_height": null,
            "min_width": null,
            "object_fit": null,
            "object_position": null,
            "order": null,
            "overflow": null,
            "overflow_x": null,
            "overflow_y": null,
            "padding": null,
            "right": null,
            "top": null,
            "visibility": null,
            "width": null
          }
        },
        "dea29c0d5380464ebe5989d40bb1105f": {
          "model_module": "@jupyter-widgets/base",
          "model_name": "LayoutModel",
          "model_module_version": "1.2.0",
          "state": {
            "_model_module": "@jupyter-widgets/base",
            "_model_module_version": "1.2.0",
            "_model_name": "LayoutModel",
            "_view_count": null,
            "_view_module": "@jupyter-widgets/base",
            "_view_module_version": "1.2.0",
            "_view_name": "LayoutView",
            "align_content": null,
            "align_items": null,
            "align_self": null,
            "border": null,
            "bottom": null,
            "display": null,
            "flex": null,
            "flex_flow": null,
            "grid_area": null,
            "grid_auto_columns": null,
            "grid_auto_flow": null,
            "grid_auto_rows": null,
            "grid_column": null,
            "grid_gap": null,
            "grid_row": null,
            "grid_template_areas": null,
            "grid_template_columns": null,
            "grid_template_rows": null,
            "height": null,
            "justify_content": null,
            "justify_items": null,
            "left": null,
            "margin": null,
            "max_height": null,
            "max_width": null,
            "min_height": null,
            "min_width": null,
            "object_fit": null,
            "object_position": null,
            "order": null,
            "overflow": null,
            "overflow_x": null,
            "overflow_y": null,
            "padding": null,
            "right": null,
            "top": null,
            "visibility": null,
            "width": null
          }
        },
        "47d79526eab341aaa6f72aa13a34708b": {
          "model_module": "@jupyter-widgets/controls",
          "model_name": "DescriptionStyleModel",
          "model_module_version": "1.5.0",
          "state": {
            "_model_module": "@jupyter-widgets/controls",
            "_model_module_version": "1.5.0",
            "_model_name": "DescriptionStyleModel",
            "_view_count": null,
            "_view_module": "@jupyter-widgets/base",
            "_view_module_version": "1.2.0",
            "_view_name": "StyleView",
            "description_width": ""
          }
        },
        "a56a65d893124f69bcc497a8488ed024": {
          "model_module": "@jupyter-widgets/base",
          "model_name": "LayoutModel",
          "model_module_version": "1.2.0",
          "state": {
            "_model_module": "@jupyter-widgets/base",
            "_model_module_version": "1.2.0",
            "_model_name": "LayoutModel",
            "_view_count": null,
            "_view_module": "@jupyter-widgets/base",
            "_view_module_version": "1.2.0",
            "_view_name": "LayoutView",
            "align_content": null,
            "align_items": null,
            "align_self": null,
            "border": null,
            "bottom": null,
            "display": null,
            "flex": null,
            "flex_flow": null,
            "grid_area": null,
            "grid_auto_columns": null,
            "grid_auto_flow": null,
            "grid_auto_rows": null,
            "grid_column": null,
            "grid_gap": null,
            "grid_row": null,
            "grid_template_areas": null,
            "grid_template_columns": null,
            "grid_template_rows": null,
            "height": null,
            "justify_content": null,
            "justify_items": null,
            "left": null,
            "margin": null,
            "max_height": null,
            "max_width": null,
            "min_height": null,
            "min_width": null,
            "object_fit": null,
            "object_position": null,
            "order": null,
            "overflow": null,
            "overflow_x": null,
            "overflow_y": null,
            "padding": null,
            "right": null,
            "top": null,
            "visibility": null,
            "width": null
          }
        },
        "66d772e79676463bbfc34a3c88466101": {
          "model_module": "@jupyter-widgets/controls",
          "model_name": "ProgressStyleModel",
          "model_module_version": "1.5.0",
          "state": {
            "_model_module": "@jupyter-widgets/controls",
            "_model_module_version": "1.5.0",
            "_model_name": "ProgressStyleModel",
            "_view_count": null,
            "_view_module": "@jupyter-widgets/base",
            "_view_module_version": "1.2.0",
            "_view_name": "StyleView",
            "bar_color": null,
            "description_width": ""
          }
        },
        "ca467ecc72ef411781cae7e590ca3f5f": {
          "model_module": "@jupyter-widgets/base",
          "model_name": "LayoutModel",
          "model_module_version": "1.2.0",
          "state": {
            "_model_module": "@jupyter-widgets/base",
            "_model_module_version": "1.2.0",
            "_model_name": "LayoutModel",
            "_view_count": null,
            "_view_module": "@jupyter-widgets/base",
            "_view_module_version": "1.2.0",
            "_view_name": "LayoutView",
            "align_content": null,
            "align_items": null,
            "align_self": null,
            "border": null,
            "bottom": null,
            "display": null,
            "flex": null,
            "flex_flow": null,
            "grid_area": null,
            "grid_auto_columns": null,
            "grid_auto_flow": null,
            "grid_auto_rows": null,
            "grid_column": null,
            "grid_gap": null,
            "grid_row": null,
            "grid_template_areas": null,
            "grid_template_columns": null,
            "grid_template_rows": null,
            "height": null,
            "justify_content": null,
            "justify_items": null,
            "left": null,
            "margin": null,
            "max_height": null,
            "max_width": null,
            "min_height": null,
            "min_width": null,
            "object_fit": null,
            "object_position": null,
            "order": null,
            "overflow": null,
            "overflow_x": null,
            "overflow_y": null,
            "padding": null,
            "right": null,
            "top": null,
            "visibility": null,
            "width": null
          }
        },
        "507e68fe9d3d4835a60a5ab1d0162e15": {
          "model_module": "@jupyter-widgets/controls",
          "model_name": "DescriptionStyleModel",
          "model_module_version": "1.5.0",
          "state": {
            "_model_module": "@jupyter-widgets/controls",
            "_model_module_version": "1.5.0",
            "_model_name": "DescriptionStyleModel",
            "_view_count": null,
            "_view_module": "@jupyter-widgets/base",
            "_view_module_version": "1.2.0",
            "_view_name": "StyleView",
            "description_width": ""
          }
        },
        "48730dd369f54e97b65cc17e7c535c10": {
          "model_module": "@jupyter-widgets/controls",
          "model_name": "HBoxModel",
          "model_module_version": "1.5.0",
          "state": {
            "_dom_classes": [],
            "_model_module": "@jupyter-widgets/controls",
            "_model_module_version": "1.5.0",
            "_model_name": "HBoxModel",
            "_view_count": null,
            "_view_module": "@jupyter-widgets/controls",
            "_view_module_version": "1.5.0",
            "_view_name": "HBoxView",
            "box_style": "",
            "children": [
              "IPY_MODEL_1af29e6a20984e71a7431b7631ce864a",
              "IPY_MODEL_ec26d7b9ad314a5699395fc3f550d319",
              "IPY_MODEL_4df57c17ac0e44e68771b50894b684aa"
            ],
            "layout": "IPY_MODEL_c1e30ebbb18644538c0578dad543fcc0"
          }
        },
        "1af29e6a20984e71a7431b7631ce864a": {
          "model_module": "@jupyter-widgets/controls",
          "model_name": "HTMLModel",
          "model_module_version": "1.5.0",
          "state": {
            "_dom_classes": [],
            "_model_module": "@jupyter-widgets/controls",
            "_model_module_version": "1.5.0",
            "_model_name": "HTMLModel",
            "_view_count": null,
            "_view_module": "@jupyter-widgets/controls",
            "_view_module_version": "1.5.0",
            "_view_name": "HTMLView",
            "description": "",
            "description_tooltip": null,
            "layout": "IPY_MODEL_e440f0891ba54f7aafe21301e1740a0d",
            "placeholder": "​",
            "style": "IPY_MODEL_61066b04332844e9b9911d12a5741c5e",
            "value": "Downloading extra modules: "
          }
        },
        "ec26d7b9ad314a5699395fc3f550d319": {
          "model_module": "@jupyter-widgets/controls",
          "model_name": "FloatProgressModel",
          "model_module_version": "1.5.0",
          "state": {
            "_dom_classes": [],
            "_model_module": "@jupyter-widgets/controls",
            "_model_module_version": "1.5.0",
            "_model_name": "FloatProgressModel",
            "_view_count": null,
            "_view_module": "@jupyter-widgets/controls",
            "_view_module_version": "1.5.0",
            "_view_name": "ProgressView",
            "bar_style": "success",
            "description": "",
            "description_tooltip": null,
            "layout": "IPY_MODEL_0cffd85ea11c440bb3530b7bdf250776",
            "max": 1554,
            "min": 0,
            "orientation": "horizontal",
            "style": "IPY_MODEL_9af387f68c1d4506a109fdb6113dcfec",
            "value": 1554
          }
        },
        "4df57c17ac0e44e68771b50894b684aa": {
          "model_module": "@jupyter-widgets/controls",
          "model_name": "HTMLModel",
          "model_module_version": "1.5.0",
          "state": {
            "_dom_classes": [],
            "_model_module": "@jupyter-widgets/controls",
            "_model_module_version": "1.5.0",
            "_model_name": "HTMLModel",
            "_view_count": null,
            "_view_module": "@jupyter-widgets/controls",
            "_view_module_version": "1.5.0",
            "_view_name": "HTMLView",
            "description": "",
            "description_tooltip": null,
            "layout": "IPY_MODEL_0b6ddf5e58a54644b7ed80e8f16a8169",
            "placeholder": "​",
            "style": "IPY_MODEL_5252c110d5b24ccfa3eb8d434eb7edce",
            "value": " 4.07k/? [00:00&lt;00:00, 140kB/s]"
          }
        },
        "c1e30ebbb18644538c0578dad543fcc0": {
          "model_module": "@jupyter-widgets/base",
          "model_name": "LayoutModel",
          "model_module_version": "1.2.0",
          "state": {
            "_model_module": "@jupyter-widgets/base",
            "_model_module_version": "1.2.0",
            "_model_name": "LayoutModel",
            "_view_count": null,
            "_view_module": "@jupyter-widgets/base",
            "_view_module_version": "1.2.0",
            "_view_name": "LayoutView",
            "align_content": null,
            "align_items": null,
            "align_self": null,
            "border": null,
            "bottom": null,
            "display": null,
            "flex": null,
            "flex_flow": null,
            "grid_area": null,
            "grid_auto_columns": null,
            "grid_auto_flow": null,
            "grid_auto_rows": null,
            "grid_column": null,
            "grid_gap": null,
            "grid_row": null,
            "grid_template_areas": null,
            "grid_template_columns": null,
            "grid_template_rows": null,
            "height": null,
            "justify_content": null,
            "justify_items": null,
            "left": null,
            "margin": null,
            "max_height": null,
            "max_width": null,
            "min_height": null,
            "min_width": null,
            "object_fit": null,
            "object_position": null,
            "order": null,
            "overflow": null,
            "overflow_x": null,
            "overflow_y": null,
            "padding": null,
            "right": null,
            "top": null,
            "visibility": null,
            "width": null
          }
        },
        "e440f0891ba54f7aafe21301e1740a0d": {
          "model_module": "@jupyter-widgets/base",
          "model_name": "LayoutModel",
          "model_module_version": "1.2.0",
          "state": {
            "_model_module": "@jupyter-widgets/base",
            "_model_module_version": "1.2.0",
            "_model_name": "LayoutModel",
            "_view_count": null,
            "_view_module": "@jupyter-widgets/base",
            "_view_module_version": "1.2.0",
            "_view_name": "LayoutView",
            "align_content": null,
            "align_items": null,
            "align_self": null,
            "border": null,
            "bottom": null,
            "display": null,
            "flex": null,
            "flex_flow": null,
            "grid_area": null,
            "grid_auto_columns": null,
            "grid_auto_flow": null,
            "grid_auto_rows": null,
            "grid_column": null,
            "grid_gap": null,
            "grid_row": null,
            "grid_template_areas": null,
            "grid_template_columns": null,
            "grid_template_rows": null,
            "height": null,
            "justify_content": null,
            "justify_items": null,
            "left": null,
            "margin": null,
            "max_height": null,
            "max_width": null,
            "min_height": null,
            "min_width": null,
            "object_fit": null,
            "object_position": null,
            "order": null,
            "overflow": null,
            "overflow_x": null,
            "overflow_y": null,
            "padding": null,
            "right": null,
            "top": null,
            "visibility": null,
            "width": null
          }
        },
        "61066b04332844e9b9911d12a5741c5e": {
          "model_module": "@jupyter-widgets/controls",
          "model_name": "DescriptionStyleModel",
          "model_module_version": "1.5.0",
          "state": {
            "_model_module": "@jupyter-widgets/controls",
            "_model_module_version": "1.5.0",
            "_model_name": "DescriptionStyleModel",
            "_view_count": null,
            "_view_module": "@jupyter-widgets/base",
            "_view_module_version": "1.2.0",
            "_view_name": "StyleView",
            "description_width": ""
          }
        },
        "0cffd85ea11c440bb3530b7bdf250776": {
          "model_module": "@jupyter-widgets/base",
          "model_name": "LayoutModel",
          "model_module_version": "1.2.0",
          "state": {
            "_model_module": "@jupyter-widgets/base",
            "_model_module_version": "1.2.0",
            "_model_name": "LayoutModel",
            "_view_count": null,
            "_view_module": "@jupyter-widgets/base",
            "_view_module_version": "1.2.0",
            "_view_name": "LayoutView",
            "align_content": null,
            "align_items": null,
            "align_self": null,
            "border": null,
            "bottom": null,
            "display": null,
            "flex": null,
            "flex_flow": null,
            "grid_area": null,
            "grid_auto_columns": null,
            "grid_auto_flow": null,
            "grid_auto_rows": null,
            "grid_column": null,
            "grid_gap": null,
            "grid_row": null,
            "grid_template_areas": null,
            "grid_template_columns": null,
            "grid_template_rows": null,
            "height": null,
            "justify_content": null,
            "justify_items": null,
            "left": null,
            "margin": null,
            "max_height": null,
            "max_width": null,
            "min_height": null,
            "min_width": null,
            "object_fit": null,
            "object_position": null,
            "order": null,
            "overflow": null,
            "overflow_x": null,
            "overflow_y": null,
            "padding": null,
            "right": null,
            "top": null,
            "visibility": null,
            "width": null
          }
        },
        "9af387f68c1d4506a109fdb6113dcfec": {
          "model_module": "@jupyter-widgets/controls",
          "model_name": "ProgressStyleModel",
          "model_module_version": "1.5.0",
          "state": {
            "_model_module": "@jupyter-widgets/controls",
            "_model_module_version": "1.5.0",
            "_model_name": "ProgressStyleModel",
            "_view_count": null,
            "_view_module": "@jupyter-widgets/base",
            "_view_module_version": "1.2.0",
            "_view_name": "StyleView",
            "bar_color": null,
            "description_width": ""
          }
        },
        "0b6ddf5e58a54644b7ed80e8f16a8169": {
          "model_module": "@jupyter-widgets/base",
          "model_name": "LayoutModel",
          "model_module_version": "1.2.0",
          "state": {
            "_model_module": "@jupyter-widgets/base",
            "_model_module_version": "1.2.0",
            "_model_name": "LayoutModel",
            "_view_count": null,
            "_view_module": "@jupyter-widgets/base",
            "_view_module_version": "1.2.0",
            "_view_name": "LayoutView",
            "align_content": null,
            "align_items": null,
            "align_self": null,
            "border": null,
            "bottom": null,
            "display": null,
            "flex": null,
            "flex_flow": null,
            "grid_area": null,
            "grid_auto_columns": null,
            "grid_auto_flow": null,
            "grid_auto_rows": null,
            "grid_column": null,
            "grid_gap": null,
            "grid_row": null,
            "grid_template_areas": null,
            "grid_template_columns": null,
            "grid_template_rows": null,
            "height": null,
            "justify_content": null,
            "justify_items": null,
            "left": null,
            "margin": null,
            "max_height": null,
            "max_width": null,
            "min_height": null,
            "min_width": null,
            "object_fit": null,
            "object_position": null,
            "order": null,
            "overflow": null,
            "overflow_x": null,
            "overflow_y": null,
            "padding": null,
            "right": null,
            "top": null,
            "visibility": null,
            "width": null
          }
        },
        "5252c110d5b24ccfa3eb8d434eb7edce": {
          "model_module": "@jupyter-widgets/controls",
          "model_name": "DescriptionStyleModel",
          "model_module_version": "1.5.0",
          "state": {
            "_model_module": "@jupyter-widgets/controls",
            "_model_module_version": "1.5.0",
            "_model_name": "DescriptionStyleModel",
            "_view_count": null,
            "_view_module": "@jupyter-widgets/base",
            "_view_module_version": "1.2.0",
            "_view_name": "StyleView",
            "description_width": ""
          }
        },
        "fe36d6f8d6f94a8fabaf16061d616fce": {
          "model_module": "@jupyter-widgets/controls",
          "model_name": "HBoxModel",
          "model_module_version": "1.5.0",
          "state": {
            "_dom_classes": [],
            "_model_module": "@jupyter-widgets/controls",
            "_model_module_version": "1.5.0",
            "_model_name": "HBoxModel",
            "_view_count": null,
            "_view_module": "@jupyter-widgets/controls",
            "_view_module_version": "1.5.0",
            "_view_name": "HBoxView",
            "box_style": "",
            "children": [
              "IPY_MODEL_f20659ed9b9f49a8b1cfa14c94088d2e",
              "IPY_MODEL_a72f7ba46a564afbb5162bc422fe9ab6",
              "IPY_MODEL_94113fe802d04ec08b78e199b867c386"
            ],
            "layout": "IPY_MODEL_d7bf967b8bea49ada074ac4370f8cff1"
          }
        },
        "f20659ed9b9f49a8b1cfa14c94088d2e": {
          "model_module": "@jupyter-widgets/controls",
          "model_name": "HTMLModel",
          "model_module_version": "1.5.0",
          "state": {
            "_dom_classes": [],
            "_model_module": "@jupyter-widgets/controls",
            "_model_module_version": "1.5.0",
            "_model_name": "HTMLModel",
            "_view_count": null,
            "_view_module": "@jupyter-widgets/controls",
            "_view_module_version": "1.5.0",
            "_view_name": "HTMLView",
            "description": "",
            "description_tooltip": null,
            "layout": "IPY_MODEL_02b3979a2cde4b849e31c3328d650d2c",
            "placeholder": "​",
            "style": "IPY_MODEL_02eed5b8305940409bedde8b2d45f3cb",
            "value": "Downloading extra modules: 100%"
          }
        },
        "a72f7ba46a564afbb5162bc422fe9ab6": {
          "model_module": "@jupyter-widgets/controls",
          "model_name": "FloatProgressModel",
          "model_module_version": "1.5.0",
          "state": {
            "_dom_classes": [],
            "_model_module": "@jupyter-widgets/controls",
            "_model_module_version": "1.5.0",
            "_model_name": "FloatProgressModel",
            "_view_count": null,
            "_view_module": "@jupyter-widgets/controls",
            "_view_module_version": "1.5.0",
            "_view_name": "ProgressView",
            "bar_style": "success",
            "description": "",
            "description_tooltip": null,
            "layout": "IPY_MODEL_10cb6526516644f486b78b813a441c78",
            "max": 3344,
            "min": 0,
            "orientation": "horizontal",
            "style": "IPY_MODEL_1e520070a6fb4a7eaa66198d3a63e4ac",
            "value": 3344
          }
        },
        "94113fe802d04ec08b78e199b867c386": {
          "model_module": "@jupyter-widgets/controls",
          "model_name": "HTMLModel",
          "model_module_version": "1.5.0",
          "state": {
            "_dom_classes": [],
            "_model_module": "@jupyter-widgets/controls",
            "_model_module_version": "1.5.0",
            "_model_name": "HTMLModel",
            "_view_count": null,
            "_view_module": "@jupyter-widgets/controls",
            "_view_module_version": "1.5.0",
            "_view_name": "HTMLView",
            "description": "",
            "description_tooltip": null,
            "layout": "IPY_MODEL_7abef546378442509e97fc7d9c317572",
            "placeholder": "​",
            "style": "IPY_MODEL_3e68995117314f84bf7d30e84b78dac9",
            "value": " 3.34k/3.34k [00:00&lt;00:00, 49.0kB/s]"
          }
        },
        "d7bf967b8bea49ada074ac4370f8cff1": {
          "model_module": "@jupyter-widgets/base",
          "model_name": "LayoutModel",
          "model_module_version": "1.2.0",
          "state": {
            "_model_module": "@jupyter-widgets/base",
            "_model_module_version": "1.2.0",
            "_model_name": "LayoutModel",
            "_view_count": null,
            "_view_module": "@jupyter-widgets/base",
            "_view_module_version": "1.2.0",
            "_view_name": "LayoutView",
            "align_content": null,
            "align_items": null,
            "align_self": null,
            "border": null,
            "bottom": null,
            "display": null,
            "flex": null,
            "flex_flow": null,
            "grid_area": null,
            "grid_auto_columns": null,
            "grid_auto_flow": null,
            "grid_auto_rows": null,
            "grid_column": null,
            "grid_gap": null,
            "grid_row": null,
            "grid_template_areas": null,
            "grid_template_columns": null,
            "grid_template_rows": null,
            "height": null,
            "justify_content": null,
            "justify_items": null,
            "left": null,
            "margin": null,
            "max_height": null,
            "max_width": null,
            "min_height": null,
            "min_width": null,
            "object_fit": null,
            "object_position": null,
            "order": null,
            "overflow": null,
            "overflow_x": null,
            "overflow_y": null,
            "padding": null,
            "right": null,
            "top": null,
            "visibility": null,
            "width": null
          }
        },
        "02b3979a2cde4b849e31c3328d650d2c": {
          "model_module": "@jupyter-widgets/base",
          "model_name": "LayoutModel",
          "model_module_version": "1.2.0",
          "state": {
            "_model_module": "@jupyter-widgets/base",
            "_model_module_version": "1.2.0",
            "_model_name": "LayoutModel",
            "_view_count": null,
            "_view_module": "@jupyter-widgets/base",
            "_view_module_version": "1.2.0",
            "_view_name": "LayoutView",
            "align_content": null,
            "align_items": null,
            "align_self": null,
            "border": null,
            "bottom": null,
            "display": null,
            "flex": null,
            "flex_flow": null,
            "grid_area": null,
            "grid_auto_columns": null,
            "grid_auto_flow": null,
            "grid_auto_rows": null,
            "grid_column": null,
            "grid_gap": null,
            "grid_row": null,
            "grid_template_areas": null,
            "grid_template_columns": null,
            "grid_template_rows": null,
            "height": null,
            "justify_content": null,
            "justify_items": null,
            "left": null,
            "margin": null,
            "max_height": null,
            "max_width": null,
            "min_height": null,
            "min_width": null,
            "object_fit": null,
            "object_position": null,
            "order": null,
            "overflow": null,
            "overflow_x": null,
            "overflow_y": null,
            "padding": null,
            "right": null,
            "top": null,
            "visibility": null,
            "width": null
          }
        },
        "02eed5b8305940409bedde8b2d45f3cb": {
          "model_module": "@jupyter-widgets/controls",
          "model_name": "DescriptionStyleModel",
          "model_module_version": "1.5.0",
          "state": {
            "_model_module": "@jupyter-widgets/controls",
            "_model_module_version": "1.5.0",
            "_model_name": "DescriptionStyleModel",
            "_view_count": null,
            "_view_module": "@jupyter-widgets/base",
            "_view_module_version": "1.2.0",
            "_view_name": "StyleView",
            "description_width": ""
          }
        },
        "10cb6526516644f486b78b813a441c78": {
          "model_module": "@jupyter-widgets/base",
          "model_name": "LayoutModel",
          "model_module_version": "1.2.0",
          "state": {
            "_model_module": "@jupyter-widgets/base",
            "_model_module_version": "1.2.0",
            "_model_name": "LayoutModel",
            "_view_count": null,
            "_view_module": "@jupyter-widgets/base",
            "_view_module_version": "1.2.0",
            "_view_name": "LayoutView",
            "align_content": null,
            "align_items": null,
            "align_self": null,
            "border": null,
            "bottom": null,
            "display": null,
            "flex": null,
            "flex_flow": null,
            "grid_area": null,
            "grid_auto_columns": null,
            "grid_auto_flow": null,
            "grid_auto_rows": null,
            "grid_column": null,
            "grid_gap": null,
            "grid_row": null,
            "grid_template_areas": null,
            "grid_template_columns": null,
            "grid_template_rows": null,
            "height": null,
            "justify_content": null,
            "justify_items": null,
            "left": null,
            "margin": null,
            "max_height": null,
            "max_width": null,
            "min_height": null,
            "min_width": null,
            "object_fit": null,
            "object_position": null,
            "order": null,
            "overflow": null,
            "overflow_x": null,
            "overflow_y": null,
            "padding": null,
            "right": null,
            "top": null,
            "visibility": null,
            "width": null
          }
        },
        "1e520070a6fb4a7eaa66198d3a63e4ac": {
          "model_module": "@jupyter-widgets/controls",
          "model_name": "ProgressStyleModel",
          "model_module_version": "1.5.0",
          "state": {
            "_model_module": "@jupyter-widgets/controls",
            "_model_module_version": "1.5.0",
            "_model_name": "ProgressStyleModel",
            "_view_count": null,
            "_view_module": "@jupyter-widgets/base",
            "_view_module_version": "1.2.0",
            "_view_name": "StyleView",
            "bar_color": null,
            "description_width": ""
          }
        },
        "7abef546378442509e97fc7d9c317572": {
          "model_module": "@jupyter-widgets/base",
          "model_name": "LayoutModel",
          "model_module_version": "1.2.0",
          "state": {
            "_model_module": "@jupyter-widgets/base",
            "_model_module_version": "1.2.0",
            "_model_name": "LayoutModel",
            "_view_count": null,
            "_view_module": "@jupyter-widgets/base",
            "_view_module_version": "1.2.0",
            "_view_name": "LayoutView",
            "align_content": null,
            "align_items": null,
            "align_self": null,
            "border": null,
            "bottom": null,
            "display": null,
            "flex": null,
            "flex_flow": null,
            "grid_area": null,
            "grid_auto_columns": null,
            "grid_auto_flow": null,
            "grid_auto_rows": null,
            "grid_column": null,
            "grid_gap": null,
            "grid_row": null,
            "grid_template_areas": null,
            "grid_template_columns": null,
            "grid_template_rows": null,
            "height": null,
            "justify_content": null,
            "justify_items": null,
            "left": null,
            "margin": null,
            "max_height": null,
            "max_width": null,
            "min_height": null,
            "min_width": null,
            "object_fit": null,
            "object_position": null,
            "order": null,
            "overflow": null,
            "overflow_x": null,
            "overflow_y": null,
            "padding": null,
            "right": null,
            "top": null,
            "visibility": null,
            "width": null
          }
        },
        "3e68995117314f84bf7d30e84b78dac9": {
          "model_module": "@jupyter-widgets/controls",
          "model_name": "DescriptionStyleModel",
          "model_module_version": "1.5.0",
          "state": {
            "_model_module": "@jupyter-widgets/controls",
            "_model_module_version": "1.5.0",
            "_model_name": "DescriptionStyleModel",
            "_view_count": null,
            "_view_module": "@jupyter-widgets/base",
            "_view_module_version": "1.2.0",
            "_view_name": "StyleView",
            "description_width": ""
          }
        },
        "d77f31aa95e544a8ae635b5cf300915c": {
          "model_module": "@jupyter-widgets/controls",
          "model_name": "HBoxModel",
          "model_module_version": "1.5.0",
          "state": {
            "_dom_classes": [],
            "_model_module": "@jupyter-widgets/controls",
            "_model_module_version": "1.5.0",
            "_model_name": "HBoxModel",
            "_view_count": null,
            "_view_module": "@jupyter-widgets/controls",
            "_view_module_version": "1.5.0",
            "_view_name": "HBoxView",
            "box_style": "",
            "children": [
              "IPY_MODEL_f54d8720e9174c78bee8699fd9a55cc7",
              "IPY_MODEL_5d164f39eda94efb82d772aee1d8f485",
              "IPY_MODEL_147d9bf01a184719aa0f223e257912eb"
            ],
            "layout": "IPY_MODEL_bdb5cf9428bd45908b2c44b42222b90b"
          }
        },
        "f54d8720e9174c78bee8699fd9a55cc7": {
          "model_module": "@jupyter-widgets/controls",
          "model_name": "HTMLModel",
          "model_module_version": "1.5.0",
          "state": {
            "_dom_classes": [],
            "_model_module": "@jupyter-widgets/controls",
            "_model_module_version": "1.5.0",
            "_model_name": "HTMLModel",
            "_view_count": null,
            "_view_module": "@jupyter-widgets/controls",
            "_view_module_version": "1.5.0",
            "_view_name": "HTMLView",
            "description": "",
            "description_tooltip": null,
            "layout": "IPY_MODEL_b71c0a094fac4f9a9a74783a98674dc2",
            "placeholder": "​",
            "style": "IPY_MODEL_59accde22a8b4c7a92bf40cfd9a36169",
            "value": "Downloading builder script: 100%"
          }
        },
        "5d164f39eda94efb82d772aee1d8f485": {
          "model_module": "@jupyter-widgets/controls",
          "model_name": "FloatProgressModel",
          "model_module_version": "1.5.0",
          "state": {
            "_dom_classes": [],
            "_model_module": "@jupyter-widgets/controls",
            "_model_module_version": "1.5.0",
            "_model_name": "FloatProgressModel",
            "_view_count": null,
            "_view_module": "@jupyter-widgets/controls",
            "_view_module_version": "1.5.0",
            "_view_name": "ProgressView",
            "bar_style": "success",
            "description": "",
            "description_tooltip": null,
            "layout": "IPY_MODEL_c7c98f9cc59d4f87942d65b35d96fff4",
            "max": 6270,
            "min": 0,
            "orientation": "horizontal",
            "style": "IPY_MODEL_7a9b7420005648eca0c2058f88de8982",
            "value": 6270
          }
        },
        "147d9bf01a184719aa0f223e257912eb": {
          "model_module": "@jupyter-widgets/controls",
          "model_name": "HTMLModel",
          "model_module_version": "1.5.0",
          "state": {
            "_dom_classes": [],
            "_model_module": "@jupyter-widgets/controls",
            "_model_module_version": "1.5.0",
            "_model_name": "HTMLModel",
            "_view_count": null,
            "_view_module": "@jupyter-widgets/controls",
            "_view_module_version": "1.5.0",
            "_view_name": "HTMLView",
            "description": "",
            "description_tooltip": null,
            "layout": "IPY_MODEL_58179344cab04eb0bb6d2cba3ac00d04",
            "placeholder": "​",
            "style": "IPY_MODEL_4867a7a8bc9a4d39b72ba55401ab8e17",
            "value": " 6.27k/6.27k [00:00&lt;00:00, 79.1kB/s]"
          }
        },
        "bdb5cf9428bd45908b2c44b42222b90b": {
          "model_module": "@jupyter-widgets/base",
          "model_name": "LayoutModel",
          "model_module_version": "1.2.0",
          "state": {
            "_model_module": "@jupyter-widgets/base",
            "_model_module_version": "1.2.0",
            "_model_name": "LayoutModel",
            "_view_count": null,
            "_view_module": "@jupyter-widgets/base",
            "_view_module_version": "1.2.0",
            "_view_name": "LayoutView",
            "align_content": null,
            "align_items": null,
            "align_self": null,
            "border": null,
            "bottom": null,
            "display": null,
            "flex": null,
            "flex_flow": null,
            "grid_area": null,
            "grid_auto_columns": null,
            "grid_auto_flow": null,
            "grid_auto_rows": null,
            "grid_column": null,
            "grid_gap": null,
            "grid_row": null,
            "grid_template_areas": null,
            "grid_template_columns": null,
            "grid_template_rows": null,
            "height": null,
            "justify_content": null,
            "justify_items": null,
            "left": null,
            "margin": null,
            "max_height": null,
            "max_width": null,
            "min_height": null,
            "min_width": null,
            "object_fit": null,
            "object_position": null,
            "order": null,
            "overflow": null,
            "overflow_x": null,
            "overflow_y": null,
            "padding": null,
            "right": null,
            "top": null,
            "visibility": null,
            "width": null
          }
        },
        "b71c0a094fac4f9a9a74783a98674dc2": {
          "model_module": "@jupyter-widgets/base",
          "model_name": "LayoutModel",
          "model_module_version": "1.2.0",
          "state": {
            "_model_module": "@jupyter-widgets/base",
            "_model_module_version": "1.2.0",
            "_model_name": "LayoutModel",
            "_view_count": null,
            "_view_module": "@jupyter-widgets/base",
            "_view_module_version": "1.2.0",
            "_view_name": "LayoutView",
            "align_content": null,
            "align_items": null,
            "align_self": null,
            "border": null,
            "bottom": null,
            "display": null,
            "flex": null,
            "flex_flow": null,
            "grid_area": null,
            "grid_auto_columns": null,
            "grid_auto_flow": null,
            "grid_auto_rows": null,
            "grid_column": null,
            "grid_gap": null,
            "grid_row": null,
            "grid_template_areas": null,
            "grid_template_columns": null,
            "grid_template_rows": null,
            "height": null,
            "justify_content": null,
            "justify_items": null,
            "left": null,
            "margin": null,
            "max_height": null,
            "max_width": null,
            "min_height": null,
            "min_width": null,
            "object_fit": null,
            "object_position": null,
            "order": null,
            "overflow": null,
            "overflow_x": null,
            "overflow_y": null,
            "padding": null,
            "right": null,
            "top": null,
            "visibility": null,
            "width": null
          }
        },
        "59accde22a8b4c7a92bf40cfd9a36169": {
          "model_module": "@jupyter-widgets/controls",
          "model_name": "DescriptionStyleModel",
          "model_module_version": "1.5.0",
          "state": {
            "_model_module": "@jupyter-widgets/controls",
            "_model_module_version": "1.5.0",
            "_model_name": "DescriptionStyleModel",
            "_view_count": null,
            "_view_module": "@jupyter-widgets/base",
            "_view_module_version": "1.2.0",
            "_view_name": "StyleView",
            "description_width": ""
          }
        },
        "c7c98f9cc59d4f87942d65b35d96fff4": {
          "model_module": "@jupyter-widgets/base",
          "model_name": "LayoutModel",
          "model_module_version": "1.2.0",
          "state": {
            "_model_module": "@jupyter-widgets/base",
            "_model_module_version": "1.2.0",
            "_model_name": "LayoutModel",
            "_view_count": null,
            "_view_module": "@jupyter-widgets/base",
            "_view_module_version": "1.2.0",
            "_view_name": "LayoutView",
            "align_content": null,
            "align_items": null,
            "align_self": null,
            "border": null,
            "bottom": null,
            "display": null,
            "flex": null,
            "flex_flow": null,
            "grid_area": null,
            "grid_auto_columns": null,
            "grid_auto_flow": null,
            "grid_auto_rows": null,
            "grid_column": null,
            "grid_gap": null,
            "grid_row": null,
            "grid_template_areas": null,
            "grid_template_columns": null,
            "grid_template_rows": null,
            "height": null,
            "justify_content": null,
            "justify_items": null,
            "left": null,
            "margin": null,
            "max_height": null,
            "max_width": null,
            "min_height": null,
            "min_width": null,
            "object_fit": null,
            "object_position": null,
            "order": null,
            "overflow": null,
            "overflow_x": null,
            "overflow_y": null,
            "padding": null,
            "right": null,
            "top": null,
            "visibility": null,
            "width": null
          }
        },
        "7a9b7420005648eca0c2058f88de8982": {
          "model_module": "@jupyter-widgets/controls",
          "model_name": "ProgressStyleModel",
          "model_module_version": "1.5.0",
          "state": {
            "_model_module": "@jupyter-widgets/controls",
            "_model_module_version": "1.5.0",
            "_model_name": "ProgressStyleModel",
            "_view_count": null,
            "_view_module": "@jupyter-widgets/base",
            "_view_module_version": "1.2.0",
            "_view_name": "StyleView",
            "bar_color": null,
            "description_width": ""
          }
        },
        "58179344cab04eb0bb6d2cba3ac00d04": {
          "model_module": "@jupyter-widgets/base",
          "model_name": "LayoutModel",
          "model_module_version": "1.2.0",
          "state": {
            "_model_module": "@jupyter-widgets/base",
            "_model_module_version": "1.2.0",
            "_model_name": "LayoutModel",
            "_view_count": null,
            "_view_module": "@jupyter-widgets/base",
            "_view_module_version": "1.2.0",
            "_view_name": "LayoutView",
            "align_content": null,
            "align_items": null,
            "align_self": null,
            "border": null,
            "bottom": null,
            "display": null,
            "flex": null,
            "flex_flow": null,
            "grid_area": null,
            "grid_auto_columns": null,
            "grid_auto_flow": null,
            "grid_auto_rows": null,
            "grid_column": null,
            "grid_gap": null,
            "grid_row": null,
            "grid_template_areas": null,
            "grid_template_columns": null,
            "grid_template_rows": null,
            "height": null,
            "justify_content": null,
            "justify_items": null,
            "left": null,
            "margin": null,
            "max_height": null,
            "max_width": null,
            "min_height": null,
            "min_width": null,
            "object_fit": null,
            "object_position": null,
            "order": null,
            "overflow": null,
            "overflow_x": null,
            "overflow_y": null,
            "padding": null,
            "right": null,
            "top": null,
            "visibility": null,
            "width": null
          }
        },
        "4867a7a8bc9a4d39b72ba55401ab8e17": {
          "model_module": "@jupyter-widgets/controls",
          "model_name": "DescriptionStyleModel",
          "model_module_version": "1.5.0",
          "state": {
            "_model_module": "@jupyter-widgets/controls",
            "_model_module_version": "1.5.0",
            "_model_name": "DescriptionStyleModel",
            "_view_count": null,
            "_view_module": "@jupyter-widgets/base",
            "_view_module_version": "1.2.0",
            "_view_name": "StyleView",
            "description_width": ""
          }
        }
      }
    }
  },
  "cells": [
    {
      "cell_type": "markdown",
      "metadata": {
        "id": "view-in-github",
        "colab_type": "text"
      },
      "source": [
        "<a href=\"https://colab.research.google.com/github/fatemafaria142/Recipe-Generation-with-GPT-2-Evaluating-Generated-Recipes-Against-Reference-Recipes/blob/main/Recipe_Generation_using_GPT_2.ipynb\" target=\"_parent\"><img src=\"https://colab.research.google.com/assets/colab-badge.svg\" alt=\"Open In Colab\"/></a>"
      ]
    },
    {
      "cell_type": "code",
      "metadata": {
        "id": "8lkWeohye94_",
        "colab": {
          "base_uri": "https://localhost:8080/"
        },
        "outputId": "aa69ce6b-68ff-4b5a-9c7a-d01c0d5b34ce"
      },
      "source": [
        "from google.colab import drive\n",
        "drive.mount('/content/drive')"
      ],
      "execution_count": 2,
      "outputs": [
        {
          "output_type": "stream",
          "name": "stdout",
          "text": [
            "Drive already mounted at /content/drive; to attempt to forcibly remount, call drive.mount(\"/content/drive\", force_remount=True).\n"
          ]
        }
      ]
    },
    {
      "cell_type": "markdown",
      "source": [
        "# **Read dataset from google drive**\n",
        "# **Dataset Link: https://huggingface.co/datasets/recipe_nlg**\n",
        "# **Paper Link: https://aclanthology.org/2020.inlg-1.4/**"
      ],
      "metadata": {
        "id": "9eLmsrRQe2t6"
      }
    },
    {
      "cell_type": "code",
      "source": [
        "import pandas as pd\n",
        "dataset = pd.read_csv('/content/drive/MyDrive/Recipe Generation/full_dataset.csv')\n",
        "dataset.head()"
      ],
      "metadata": {
        "colab": {
          "base_uri": "https://localhost:8080/",
          "height": 675
        },
        "id": "miBx8270J3la",
        "outputId": "20006828-45d6-4316-d424-3461b9dd0633"
      },
      "execution_count": 3,
      "outputs": [
        {
          "output_type": "execute_result",
          "data": {
            "text/plain": [
              "   Unnamed: 0                  title  \\\n",
              "0           0    No-Bake Nut Cookies   \n",
              "1           1  Jewell Ball'S Chicken   \n",
              "2           2            Creamy Corn   \n",
              "3           3          Chicken Funny   \n",
              "4           4   Reeses Cups(Candy)     \n",
              "\n",
              "                                         ingredients  \\\n",
              "0  [\"1 c. firmly packed brown sugar\", \"1/2 c. eva...   \n",
              "1  [\"1 small jar chipped beef, cut up\", \"4 boned ...   \n",
              "2  [\"2 (16 oz.) pkg. frozen corn\", \"1 (8 oz.) pkg...   \n",
              "3  [\"1 large whole chicken\", \"2 (10 1/2 oz.) cans...   \n",
              "4  [\"1 c. peanut butter\", \"3/4 c. graham cracker ...   \n",
              "\n",
              "                                          directions  \\\n",
              "0  [\"In a heavy 2-quart saucepan, mix brown sugar...   \n",
              "1  [\"Place chipped beef on bottom of baking dish....   \n",
              "2  [\"In a slow cooker, combine all ingredients. C...   \n",
              "3  [\"Boil and debone chicken.\", \"Put bite size pi...   \n",
              "4  [\"Combine first four ingredients and press in ...   \n",
              "\n",
              "                                              link    source  \\\n",
              "0   www.cookbooks.com/Recipe-Details.aspx?id=44874  Gathered   \n",
              "1  www.cookbooks.com/Recipe-Details.aspx?id=699419  Gathered   \n",
              "2   www.cookbooks.com/Recipe-Details.aspx?id=10570  Gathered   \n",
              "3  www.cookbooks.com/Recipe-Details.aspx?id=897570  Gathered   \n",
              "4  www.cookbooks.com/Recipe-Details.aspx?id=659239  Gathered   \n",
              "\n",
              "                                                 NER  \n",
              "0  [\"brown sugar\", \"milk\", \"vanilla\", \"nuts\", \"bu...  \n",
              "1  [\"beef\", \"chicken breasts\", \"cream of mushroom...  \n",
              "2  [\"frozen corn\", \"cream cheese\", \"butter\", \"gar...  \n",
              "3  [\"chicken\", \"chicken gravy\", \"cream of mushroo...  \n",
              "4  [\"peanut butter\", \"graham cracker crumbs\", \"bu...  "
            ],
            "text/html": [
              "\n",
              "  <div id=\"df-6a365892-83aa-41a0-8a68-72944802faa1\" class=\"colab-df-container\">\n",
              "    <div>\n",
              "<style scoped>\n",
              "    .dataframe tbody tr th:only-of-type {\n",
              "        vertical-align: middle;\n",
              "    }\n",
              "\n",
              "    .dataframe tbody tr th {\n",
              "        vertical-align: top;\n",
              "    }\n",
              "\n",
              "    .dataframe thead th {\n",
              "        text-align: right;\n",
              "    }\n",
              "</style>\n",
              "<table border=\"1\" class=\"dataframe\">\n",
              "  <thead>\n",
              "    <tr style=\"text-align: right;\">\n",
              "      <th></th>\n",
              "      <th>Unnamed: 0</th>\n",
              "      <th>title</th>\n",
              "      <th>ingredients</th>\n",
              "      <th>directions</th>\n",
              "      <th>link</th>\n",
              "      <th>source</th>\n",
              "      <th>NER</th>\n",
              "    </tr>\n",
              "  </thead>\n",
              "  <tbody>\n",
              "    <tr>\n",
              "      <th>0</th>\n",
              "      <td>0</td>\n",
              "      <td>No-Bake Nut Cookies</td>\n",
              "      <td>[\"1 c. firmly packed brown sugar\", \"1/2 c. eva...</td>\n",
              "      <td>[\"In a heavy 2-quart saucepan, mix brown sugar...</td>\n",
              "      <td>www.cookbooks.com/Recipe-Details.aspx?id=44874</td>\n",
              "      <td>Gathered</td>\n",
              "      <td>[\"brown sugar\", \"milk\", \"vanilla\", \"nuts\", \"bu...</td>\n",
              "    </tr>\n",
              "    <tr>\n",
              "      <th>1</th>\n",
              "      <td>1</td>\n",
              "      <td>Jewell Ball'S Chicken</td>\n",
              "      <td>[\"1 small jar chipped beef, cut up\", \"4 boned ...</td>\n",
              "      <td>[\"Place chipped beef on bottom of baking dish....</td>\n",
              "      <td>www.cookbooks.com/Recipe-Details.aspx?id=699419</td>\n",
              "      <td>Gathered</td>\n",
              "      <td>[\"beef\", \"chicken breasts\", \"cream of mushroom...</td>\n",
              "    </tr>\n",
              "    <tr>\n",
              "      <th>2</th>\n",
              "      <td>2</td>\n",
              "      <td>Creamy Corn</td>\n",
              "      <td>[\"2 (16 oz.) pkg. frozen corn\", \"1 (8 oz.) pkg...</td>\n",
              "      <td>[\"In a slow cooker, combine all ingredients. C...</td>\n",
              "      <td>www.cookbooks.com/Recipe-Details.aspx?id=10570</td>\n",
              "      <td>Gathered</td>\n",
              "      <td>[\"frozen corn\", \"cream cheese\", \"butter\", \"gar...</td>\n",
              "    </tr>\n",
              "    <tr>\n",
              "      <th>3</th>\n",
              "      <td>3</td>\n",
              "      <td>Chicken Funny</td>\n",
              "      <td>[\"1 large whole chicken\", \"2 (10 1/2 oz.) cans...</td>\n",
              "      <td>[\"Boil and debone chicken.\", \"Put bite size pi...</td>\n",
              "      <td>www.cookbooks.com/Recipe-Details.aspx?id=897570</td>\n",
              "      <td>Gathered</td>\n",
              "      <td>[\"chicken\", \"chicken gravy\", \"cream of mushroo...</td>\n",
              "    </tr>\n",
              "    <tr>\n",
              "      <th>4</th>\n",
              "      <td>4</td>\n",
              "      <td>Reeses Cups(Candy)</td>\n",
              "      <td>[\"1 c. peanut butter\", \"3/4 c. graham cracker ...</td>\n",
              "      <td>[\"Combine first four ingredients and press in ...</td>\n",
              "      <td>www.cookbooks.com/Recipe-Details.aspx?id=659239</td>\n",
              "      <td>Gathered</td>\n",
              "      <td>[\"peanut butter\", \"graham cracker crumbs\", \"bu...</td>\n",
              "    </tr>\n",
              "  </tbody>\n",
              "</table>\n",
              "</div>\n",
              "    <div class=\"colab-df-buttons\">\n",
              "\n",
              "  <div class=\"colab-df-container\">\n",
              "    <button class=\"colab-df-convert\" onclick=\"convertToInteractive('df-6a365892-83aa-41a0-8a68-72944802faa1')\"\n",
              "            title=\"Convert this dataframe to an interactive table.\"\n",
              "            style=\"display:none;\">\n",
              "\n",
              "  <svg xmlns=\"http://www.w3.org/2000/svg\" height=\"24px\" viewBox=\"0 -960 960 960\">\n",
              "    <path d=\"M120-120v-720h720v720H120Zm60-500h600v-160H180v160Zm220 220h160v-160H400v160Zm0 220h160v-160H400v160ZM180-400h160v-160H180v160Zm440 0h160v-160H620v160ZM180-180h160v-160H180v160Zm440 0h160v-160H620v160Z\"/>\n",
              "  </svg>\n",
              "    </button>\n",
              "\n",
              "  <style>\n",
              "    .colab-df-container {\n",
              "      display:flex;\n",
              "      gap: 12px;\n",
              "    }\n",
              "\n",
              "    .colab-df-convert {\n",
              "      background-color: #E8F0FE;\n",
              "      border: none;\n",
              "      border-radius: 50%;\n",
              "      cursor: pointer;\n",
              "      display: none;\n",
              "      fill: #1967D2;\n",
              "      height: 32px;\n",
              "      padding: 0 0 0 0;\n",
              "      width: 32px;\n",
              "    }\n",
              "\n",
              "    .colab-df-convert:hover {\n",
              "      background-color: #E2EBFA;\n",
              "      box-shadow: 0px 1px 2px rgba(60, 64, 67, 0.3), 0px 1px 3px 1px rgba(60, 64, 67, 0.15);\n",
              "      fill: #174EA6;\n",
              "    }\n",
              "\n",
              "    .colab-df-buttons div {\n",
              "      margin-bottom: 4px;\n",
              "    }\n",
              "\n",
              "    [theme=dark] .colab-df-convert {\n",
              "      background-color: #3B4455;\n",
              "      fill: #D2E3FC;\n",
              "    }\n",
              "\n",
              "    [theme=dark] .colab-df-convert:hover {\n",
              "      background-color: #434B5C;\n",
              "      box-shadow: 0px 1px 3px 1px rgba(0, 0, 0, 0.15);\n",
              "      filter: drop-shadow(0px 1px 2px rgba(0, 0, 0, 0.3));\n",
              "      fill: #FFFFFF;\n",
              "    }\n",
              "  </style>\n",
              "\n",
              "    <script>\n",
              "      const buttonEl =\n",
              "        document.querySelector('#df-6a365892-83aa-41a0-8a68-72944802faa1 button.colab-df-convert');\n",
              "      buttonEl.style.display =\n",
              "        google.colab.kernel.accessAllowed ? 'block' : 'none';\n",
              "\n",
              "      async function convertToInteractive(key) {\n",
              "        const element = document.querySelector('#df-6a365892-83aa-41a0-8a68-72944802faa1');\n",
              "        const dataTable =\n",
              "          await google.colab.kernel.invokeFunction('convertToInteractive',\n",
              "                                                    [key], {});\n",
              "        if (!dataTable) return;\n",
              "\n",
              "        const docLinkHtml = 'Like what you see? Visit the ' +\n",
              "          '<a target=\"_blank\" href=https://colab.research.google.com/notebooks/data_table.ipynb>data table notebook</a>'\n",
              "          + ' to learn more about interactive tables.';\n",
              "        element.innerHTML = '';\n",
              "        dataTable['output_type'] = 'display_data';\n",
              "        await google.colab.output.renderOutput(dataTable, element);\n",
              "        const docLink = document.createElement('div');\n",
              "        docLink.innerHTML = docLinkHtml;\n",
              "        element.appendChild(docLink);\n",
              "      }\n",
              "    </script>\n",
              "  </div>\n",
              "\n",
              "\n",
              "<div id=\"df-10ca9253-5480-49e7-8d4a-a06473be4a97\">\n",
              "  <button class=\"colab-df-quickchart\" onclick=\"quickchart('df-10ca9253-5480-49e7-8d4a-a06473be4a97')\"\n",
              "            title=\"Suggest charts\"\n",
              "            style=\"display:none;\">\n",
              "\n",
              "<svg xmlns=\"http://www.w3.org/2000/svg\" height=\"24px\"viewBox=\"0 0 24 24\"\n",
              "     width=\"24px\">\n",
              "    <g>\n",
              "        <path d=\"M19 3H5c-1.1 0-2 .9-2 2v14c0 1.1.9 2 2 2h14c1.1 0 2-.9 2-2V5c0-1.1-.9-2-2-2zM9 17H7v-7h2v7zm4 0h-2V7h2v10zm4 0h-2v-4h2v4z\"/>\n",
              "    </g>\n",
              "</svg>\n",
              "  </button>\n",
              "\n",
              "<style>\n",
              "  .colab-df-quickchart {\n",
              "      --bg-color: #E8F0FE;\n",
              "      --fill-color: #1967D2;\n",
              "      --hover-bg-color: #E2EBFA;\n",
              "      --hover-fill-color: #174EA6;\n",
              "      --disabled-fill-color: #AAA;\n",
              "      --disabled-bg-color: #DDD;\n",
              "  }\n",
              "\n",
              "  [theme=dark] .colab-df-quickchart {\n",
              "      --bg-color: #3B4455;\n",
              "      --fill-color: #D2E3FC;\n",
              "      --hover-bg-color: #434B5C;\n",
              "      --hover-fill-color: #FFFFFF;\n",
              "      --disabled-bg-color: #3B4455;\n",
              "      --disabled-fill-color: #666;\n",
              "  }\n",
              "\n",
              "  .colab-df-quickchart {\n",
              "    background-color: var(--bg-color);\n",
              "    border: none;\n",
              "    border-radius: 50%;\n",
              "    cursor: pointer;\n",
              "    display: none;\n",
              "    fill: var(--fill-color);\n",
              "    height: 32px;\n",
              "    padding: 0;\n",
              "    width: 32px;\n",
              "  }\n",
              "\n",
              "  .colab-df-quickchart:hover {\n",
              "    background-color: var(--hover-bg-color);\n",
              "    box-shadow: 0 1px 2px rgba(60, 64, 67, 0.3), 0 1px 3px 1px rgba(60, 64, 67, 0.15);\n",
              "    fill: var(--button-hover-fill-color);\n",
              "  }\n",
              "\n",
              "  .colab-df-quickchart-complete:disabled,\n",
              "  .colab-df-quickchart-complete:disabled:hover {\n",
              "    background-color: var(--disabled-bg-color);\n",
              "    fill: var(--disabled-fill-color);\n",
              "    box-shadow: none;\n",
              "  }\n",
              "\n",
              "  .colab-df-spinner {\n",
              "    border: 2px solid var(--fill-color);\n",
              "    border-color: transparent;\n",
              "    border-bottom-color: var(--fill-color);\n",
              "    animation:\n",
              "      spin 1s steps(1) infinite;\n",
              "  }\n",
              "\n",
              "  @keyframes spin {\n",
              "    0% {\n",
              "      border-color: transparent;\n",
              "      border-bottom-color: var(--fill-color);\n",
              "      border-left-color: var(--fill-color);\n",
              "    }\n",
              "    20% {\n",
              "      border-color: transparent;\n",
              "      border-left-color: var(--fill-color);\n",
              "      border-top-color: var(--fill-color);\n",
              "    }\n",
              "    30% {\n",
              "      border-color: transparent;\n",
              "      border-left-color: var(--fill-color);\n",
              "      border-top-color: var(--fill-color);\n",
              "      border-right-color: var(--fill-color);\n",
              "    }\n",
              "    40% {\n",
              "      border-color: transparent;\n",
              "      border-right-color: var(--fill-color);\n",
              "      border-top-color: var(--fill-color);\n",
              "    }\n",
              "    60% {\n",
              "      border-color: transparent;\n",
              "      border-right-color: var(--fill-color);\n",
              "    }\n",
              "    80% {\n",
              "      border-color: transparent;\n",
              "      border-right-color: var(--fill-color);\n",
              "      border-bottom-color: var(--fill-color);\n",
              "    }\n",
              "    90% {\n",
              "      border-color: transparent;\n",
              "      border-bottom-color: var(--fill-color);\n",
              "    }\n",
              "  }\n",
              "</style>\n",
              "\n",
              "  <script>\n",
              "    async function quickchart(key) {\n",
              "      const quickchartButtonEl =\n",
              "        document.querySelector('#' + key + ' button');\n",
              "      quickchartButtonEl.disabled = true;  // To prevent multiple clicks.\n",
              "      quickchartButtonEl.classList.add('colab-df-spinner');\n",
              "      try {\n",
              "        const charts = await google.colab.kernel.invokeFunction(\n",
              "            'suggestCharts', [key], {});\n",
              "      } catch (error) {\n",
              "        console.error('Error during call to suggestCharts:', error);\n",
              "      }\n",
              "      quickchartButtonEl.classList.remove('colab-df-spinner');\n",
              "      quickchartButtonEl.classList.add('colab-df-quickchart-complete');\n",
              "    }\n",
              "    (() => {\n",
              "      let quickchartButtonEl =\n",
              "        document.querySelector('#df-10ca9253-5480-49e7-8d4a-a06473be4a97 button');\n",
              "      quickchartButtonEl.style.display =\n",
              "        google.colab.kernel.accessAllowed ? 'block' : 'none';\n",
              "    })();\n",
              "  </script>\n",
              "</div>\n",
              "\n",
              "    </div>\n",
              "  </div>\n"
            ]
          },
          "metadata": {},
          "execution_count": 3
        }
      ]
    },
    {
      "cell_type": "markdown",
      "source": [
        "# **Length of the main dataset**"
      ],
      "metadata": {
        "id": "oYT5jePDfjc1"
      }
    },
    {
      "cell_type": "code",
      "source": [
        "len(dataset)"
      ],
      "metadata": {
        "colab": {
          "base_uri": "https://localhost:8080/"
        },
        "id": "2TMv6MwjJ5Zi",
        "outputId": "8bac8b7f-aa29-431b-cb08-8ccc3ebbebef"
      },
      "execution_count": 4,
      "outputs": [
        {
          "output_type": "execute_result",
          "data": {
            "text/plain": [
              "2231142"
            ]
          },
          "metadata": {},
          "execution_count": 4
        }
      ]
    },
    {
      "cell_type": "markdown",
      "source": [
        "# **Take subset of the main dataset**"
      ],
      "metadata": {
        "id": "wAG7BEvPe75g"
      }
    },
    {
      "cell_type": "code",
      "source": [
        "# Extracting the first 15,000 examples for train and test\n",
        "data = dataset.head(15000)\n",
        "\n",
        "# Saving the subset as a CSV file\n",
        "data.to_csv('/content/drive/MyDrive/Recipe Generation/recipes.csv', index=False)\n"
      ],
      "metadata": {
        "id": "uUMzIGBfJ8KD"
      },
      "execution_count": 5,
      "outputs": []
    },
    {
      "cell_type": "markdown",
      "source": [
        "# **Taking 90% for train dataset and 10% for test dataset**"
      ],
      "metadata": {
        "id": "smu9z96ufAoZ"
      }
    },
    {
      "cell_type": "code",
      "metadata": {
        "id": "V36gOIOfLHvB",
        "colab": {
          "base_uri": "https://localhost:8080/"
        },
        "outputId": "d02bcec4-62fb-41a8-c1e5-5ed96d91ca67"
      },
      "source": [
        "import re\n",
        "import pandas as pd\n",
        "from sklearn.model_selection import train_test_split\n",
        "\n",
        "# Read the dataset from the CSV file\n",
        "data = pd.read_csv('/content/drive/MyDrive/Recipe Generation/recipes.csv')\n",
        "\n",
        "def build_text_files(data_csv, dest_path):\n",
        "    f = open(dest_path, 'w')\n",
        "    data = ''\n",
        "    for index, row in data_csv.iterrows():\n",
        "        summary = str(row['directions']).strip()\n",
        "        summary = re.sub(r\"[\\[\\]\\\"]\", \"\", summary)  # Remove square brackets and quotation marks\n",
        "        summary = re.sub(r\"\\s+\", \" \", summary)  # Replace multiple spaces with a single space\n",
        "        data += summary + \"  \"\n",
        "    f.write(data)\n",
        "\n",
        "train, test = train_test_split(data, test_size=0.10)\n",
        "\n",
        "build_text_files(train, '/content/drive/MyDrive/Recipe Generation/train_dataset.txt')\n",
        "build_text_files(test, '/content/drive/MyDrive/Recipe Generation/test_dataset.txt')\n",
        "\n",
        "print(\"Train dataset length:\", len(train))\n",
        "print(\"Test dataset length:\", len(test))\n"
      ],
      "execution_count": 6,
      "outputs": [
        {
          "output_type": "stream",
          "name": "stdout",
          "text": [
            "Train dataset length: 13500\n",
            "Test dataset length: 1500\n"
          ]
        }
      ]
    },
    {
      "cell_type": "markdown",
      "source": [
        "# **Text Preprocessing**"
      ],
      "metadata": {
        "id": "EcHP54RZfGgo"
      }
    },
    {
      "cell_type": "code",
      "source": [
        "def read_text_file(file_path, num_examples=5):\n",
        "    with open(file_path, 'r') as file:\n",
        "        content = file.read()\n",
        "        examples = content.split('  ')  # Assuming '  ' is the separator between examples\n",
        "        for i, example in enumerate(examples[:num_examples]):\n",
        "            print(f\"Example {i+1}: {example}\")\n",
        "\n",
        "train_file_path = '/content/drive/MyDrive/Recipe Generation/train_dataset.txt'\n",
        "test_file_path = '/content/drive/MyDrive/Recipe Generation/test_dataset.txt'\n",
        "\n",
        "print(\"Examples from the Train Dataset:\")\n",
        "read_text_file(train_file_path)\n",
        "\n",
        "print(\"\\nExamples from the Test Dataset:\")\n",
        "read_text_file(test_file_path)\n"
      ],
      "metadata": {
        "colab": {
          "base_uri": "https://localhost:8080/"
        },
        "id": "atNeiMxnLMvd",
        "outputId": "80956ea7-5c19-4bdd-a2df-5bcbaa675a7e"
      },
      "execution_count": 7,
      "outputs": [
        {
          "output_type": "stream",
          "name": "stdout",
          "text": [
            "Examples from the Train Dataset:\n",
            "Example 1: Preheat oven to 375\\u00b0., In a large bowl, combine flour, granulated sugar, baking powder, 1/2 teaspoon cinnamon and salt. In another bowl, beat egg with milk, then stir in apple and melted butter., Add all at once to flour mixture and stir until just moistened., Spoon batter into a greased muffin tin(s), filling each cup about 2/3 full.\n",
            "Example 2: Mix all ingredients except soda., Boil until a peanut tastes done when removed and cooled in a cup of water., When the peanuts are done, remove the pan from heat and add a pinch of soda., (Candy will foam up.), Stir well and spread out on a greased cookie sheet. When cool, break up into small pieces.\n",
            "Example 3: Prepare cake as directed and bake in a greased and floured 9 x 13-inch pan., Meanwhile, simmer pineapple and sugar., Remove baked cake from oven and, with a fork, poke holes all over cake., Cover with pineapple mixture and chill., Prepare pudding as directed and stir in coconut., Spread over cake., Cover with whipped topping and sprinkle with nuts.\n",
            "Example 4: Dissolve yeast in lukewarm water., Add salt, sugar, water, shortening and egg., Mix well., Stir in flour, 1/2 cup at a time until smooth. Break off pieces the size of an egg., Roll out 1/4 inch thick on floured surface., Deep-fry in shortening., When brown and crisp, remove and dust with sugar and cinnamon., Recipe makes 20.\n",
            "Example 5: Mix dry ingredients; whip eggs and oil together and add remaining ingredients and stir to mix well., Pour into a greased and floured 9 x 13-inch pan and bake at 350\\u00b0 for 40 minutes.\n",
            "\n",
            "Examples from the Test Dataset:\n",
            "Example 1: Make and, chill, crust., Combine, 1, 1/2, cups packaged graham cracker crumbs and 1/4 cup sugar in a small bowl; blend in 1/2 cup (1 stick) melted butter or margarine., Press firmly over bottom and, sides of a heavy buttered 9-inch spring-form pan., Chill.\n",
            "Example 2: Stir Velveeta and salsa in saucepan over low heat until Velveeta is melted., Stir in cilantro., Serve hot with tortilla chips or vegetable dippers., Makes 3 cups.\n",
            "Example 3: Beat together eggs, sugar and flour., Combine with corn, butter, salt and milk., Pour into a greased 1-quart casserole. Bake at 300\\u00b0 for 50 minutes., Yields 4 servings.\n",
            "Example 4: Use 1 1/2-quart buttered casserole., Preheat oven to 350\\u00b0.\n",
            "Example 5: In one bowl, combine all ingredients except frosting., Beat with mixer at high speed for 2 minutes., Grease and flour medium size (9 cup) Bundt pan and pour in batter., (This will give a high cake; larger pans will give a flatter cake.), Bake at 350\\u00b0., Test at 45 minutes and then every 5 minutes until done., Cool in pan 10 minutes, then turn out on rack., If frosted while warm, frosting will melt to sort of a glaze., Equally good frosted when cool.\n"
          ]
        }
      ]
    },
    {
      "cell_type": "markdown",
      "source": [
        "# **GPT2 and its tokenizer**\n",
        "# **https://huggingface.co/gpt2**"
      ],
      "metadata": {
        "id": "iL2K-XBhfMrg"
      }
    },
    {
      "cell_type": "code",
      "metadata": {
        "id": "VCaunLMtlPfw"
      },
      "source": [
        "from transformers import AutoTokenizer, AutoModelForCausalLM\n",
        "tokenizer = AutoTokenizer.from_pretrained('gpt2')\n",
        "model = AutoModelForCausalLM.from_pretrained('gpt2')"
      ],
      "execution_count": 18,
      "outputs": []
    },
    {
      "cell_type": "code",
      "source": [
        "train_path = '/content/drive/MyDrive/Recipe Generation/train_dataset.txt'\n",
        "test_path = '/content/drive/MyDrive/Recipe Generation/test_dataset.txt'"
      ],
      "metadata": {
        "id": "TI1D58qiMLXG"
      },
      "execution_count": 19,
      "outputs": []
    },
    {
      "cell_type": "markdown",
      "source": [
        "# **Prepare the dataset and build a TextDataset**\n",
        "* The next step is to extract the instructions from all recipes and build a TextDataset. The TextDataset is a custom implementation of the Pytroch Dataset class implemented by the transformers library."
      ],
      "metadata": {
        "id": "P7kddCl1hjAI"
      }
    },
    {
      "cell_type": "code",
      "metadata": {
        "id": "m9lHS0mIMak4"
      },
      "source": [
        "from transformers import TextDataset,DataCollatorForLanguageModeling\n",
        "\n",
        "def load_dataset(train_path,test_path,tokenizer):\n",
        "    train_dataset = TextDataset(\n",
        "          tokenizer=tokenizer,\n",
        "          file_path=train_path,\n",
        "          block_size=128)\n",
        "\n",
        "    test_dataset = TextDataset(\n",
        "          tokenizer=tokenizer,\n",
        "          file_path=test_path,\n",
        "          block_size=128)\n",
        "\n",
        "    data_collator = DataCollatorForLanguageModeling(\n",
        "        tokenizer=tokenizer, mlm=False,\n",
        "    )\n",
        "    return train_dataset,test_dataset,data_collator\n",
        "\n",
        "train_dataset,test_dataset,data_collator = load_dataset(train_path,test_path,tokenizer)"
      ],
      "execution_count": 25,
      "outputs": []
    },
    {
      "cell_type": "code",
      "source": [
        "!pip install transformers[torch]"
      ],
      "metadata": {
        "colab": {
          "base_uri": "https://localhost:8080/"
        },
        "id": "IXqJxE-3Nx1a",
        "outputId": "ea0cae46-7126-43d0-fc25-a9c8b209ca8c"
      },
      "execution_count": 26,
      "outputs": [
        {
          "output_type": "stream",
          "name": "stdout",
          "text": [
            "Requirement already satisfied: transformers[torch] in /usr/local/lib/python3.10/dist-packages (4.36.2)\n",
            "Requirement already satisfied: filelock in /usr/local/lib/python3.10/dist-packages (from transformers[torch]) (3.13.1)\n",
            "Requirement already satisfied: huggingface-hub<1.0,>=0.19.3 in /usr/local/lib/python3.10/dist-packages (from transformers[torch]) (0.20.1)\n",
            "Requirement already satisfied: numpy>=1.17 in /usr/local/lib/python3.10/dist-packages (from transformers[torch]) (1.23.5)\n",
            "Requirement already satisfied: packaging>=20.0 in /usr/local/lib/python3.10/dist-packages (from transformers[torch]) (23.2)\n",
            "Requirement already satisfied: pyyaml>=5.1 in /usr/local/lib/python3.10/dist-packages (from transformers[torch]) (6.0.1)\n",
            "Requirement already satisfied: regex!=2019.12.17 in /usr/local/lib/python3.10/dist-packages (from transformers[torch]) (2023.6.3)\n",
            "Requirement already satisfied: requests in /usr/local/lib/python3.10/dist-packages (from transformers[torch]) (2.31.0)\n",
            "Requirement already satisfied: tokenizers<0.19,>=0.14 in /usr/local/lib/python3.10/dist-packages (from transformers[torch]) (0.15.0)\n",
            "Requirement already satisfied: safetensors>=0.3.1 in /usr/local/lib/python3.10/dist-packages (from transformers[torch]) (0.4.1)\n",
            "Requirement already satisfied: tqdm>=4.27 in /usr/local/lib/python3.10/dist-packages (from transformers[torch]) (4.66.1)\n",
            "Requirement already satisfied: torch!=1.12.0,>=1.10 in /usr/local/lib/python3.10/dist-packages (from transformers[torch]) (2.1.0+cu121)\n",
            "Requirement already satisfied: accelerate>=0.21.0 in /usr/local/lib/python3.10/dist-packages (from transformers[torch]) (0.25.0)\n",
            "Requirement already satisfied: psutil in /usr/local/lib/python3.10/dist-packages (from accelerate>=0.21.0->transformers[torch]) (5.9.5)\n",
            "Requirement already satisfied: fsspec>=2023.5.0 in /usr/local/lib/python3.10/dist-packages (from huggingface-hub<1.0,>=0.19.3->transformers[torch]) (2023.6.0)\n",
            "Requirement already satisfied: typing-extensions>=3.7.4.3 in /usr/local/lib/python3.10/dist-packages (from huggingface-hub<1.0,>=0.19.3->transformers[torch]) (4.5.0)\n",
            "Requirement already satisfied: sympy in /usr/local/lib/python3.10/dist-packages (from torch!=1.12.0,>=1.10->transformers[torch]) (1.12)\n",
            "Requirement already satisfied: networkx in /usr/local/lib/python3.10/dist-packages (from torch!=1.12.0,>=1.10->transformers[torch]) (3.2.1)\n",
            "Requirement already satisfied: jinja2 in /usr/local/lib/python3.10/dist-packages (from torch!=1.12.0,>=1.10->transformers[torch]) (3.1.2)\n",
            "Requirement already satisfied: triton==2.1.0 in /usr/local/lib/python3.10/dist-packages (from torch!=1.12.0,>=1.10->transformers[torch]) (2.1.0)\n",
            "Requirement already satisfied: charset-normalizer<4,>=2 in /usr/local/lib/python3.10/dist-packages (from requests->transformers[torch]) (3.3.2)\n",
            "Requirement already satisfied: idna<4,>=2.5 in /usr/local/lib/python3.10/dist-packages (from requests->transformers[torch]) (3.6)\n",
            "Requirement already satisfied: urllib3<3,>=1.21.1 in /usr/local/lib/python3.10/dist-packages (from requests->transformers[torch]) (2.0.7)\n",
            "Requirement already satisfied: certifi>=2017.4.17 in /usr/local/lib/python3.10/dist-packages (from requests->transformers[torch]) (2023.11.17)\n",
            "Requirement already satisfied: MarkupSafe>=2.0 in /usr/local/lib/python3.10/dist-packages (from jinja2->torch!=1.12.0,>=1.10->transformers[torch]) (2.1.3)\n",
            "Requirement already satisfied: mpmath>=0.19 in /usr/local/lib/python3.10/dist-packages (from sympy->torch!=1.12.0,>=1.10->transformers[torch]) (1.3.0)\n"
          ]
        }
      ]
    },
    {
      "cell_type": "code",
      "source": [
        "!pip install accelerate -U"
      ],
      "metadata": {
        "colab": {
          "base_uri": "https://localhost:8080/"
        },
        "id": "_YJKIQe_NjTN",
        "outputId": "f10886b6-4b82-40ae-bef6-82b86339d398"
      },
      "execution_count": 27,
      "outputs": [
        {
          "output_type": "stream",
          "name": "stdout",
          "text": [
            "Requirement already satisfied: accelerate in /usr/local/lib/python3.10/dist-packages (0.25.0)\n",
            "Requirement already satisfied: numpy>=1.17 in /usr/local/lib/python3.10/dist-packages (from accelerate) (1.23.5)\n",
            "Requirement already satisfied: packaging>=20.0 in /usr/local/lib/python3.10/dist-packages (from accelerate) (23.2)\n",
            "Requirement already satisfied: psutil in /usr/local/lib/python3.10/dist-packages (from accelerate) (5.9.5)\n",
            "Requirement already satisfied: pyyaml in /usr/local/lib/python3.10/dist-packages (from accelerate) (6.0.1)\n",
            "Requirement already satisfied: torch>=1.10.0 in /usr/local/lib/python3.10/dist-packages (from accelerate) (2.1.0+cu121)\n",
            "Requirement already satisfied: huggingface-hub in /usr/local/lib/python3.10/dist-packages (from accelerate) (0.20.1)\n",
            "Requirement already satisfied: safetensors>=0.3.1 in /usr/local/lib/python3.10/dist-packages (from accelerate) (0.4.1)\n",
            "Requirement already satisfied: filelock in /usr/local/lib/python3.10/dist-packages (from torch>=1.10.0->accelerate) (3.13.1)\n",
            "Requirement already satisfied: typing-extensions in /usr/local/lib/python3.10/dist-packages (from torch>=1.10.0->accelerate) (4.5.0)\n",
            "Requirement already satisfied: sympy in /usr/local/lib/python3.10/dist-packages (from torch>=1.10.0->accelerate) (1.12)\n",
            "Requirement already satisfied: networkx in /usr/local/lib/python3.10/dist-packages (from torch>=1.10.0->accelerate) (3.2.1)\n",
            "Requirement already satisfied: jinja2 in /usr/local/lib/python3.10/dist-packages (from torch>=1.10.0->accelerate) (3.1.2)\n",
            "Requirement already satisfied: fsspec in /usr/local/lib/python3.10/dist-packages (from torch>=1.10.0->accelerate) (2023.6.0)\n",
            "Requirement already satisfied: triton==2.1.0 in /usr/local/lib/python3.10/dist-packages (from torch>=1.10.0->accelerate) (2.1.0)\n",
            "Requirement already satisfied: requests in /usr/local/lib/python3.10/dist-packages (from huggingface-hub->accelerate) (2.31.0)\n",
            "Requirement already satisfied: tqdm>=4.42.1 in /usr/local/lib/python3.10/dist-packages (from huggingface-hub->accelerate) (4.66.1)\n",
            "Requirement already satisfied: MarkupSafe>=2.0 in /usr/local/lib/python3.10/dist-packages (from jinja2->torch>=1.10.0->accelerate) (2.1.3)\n",
            "Requirement already satisfied: charset-normalizer<4,>=2 in /usr/local/lib/python3.10/dist-packages (from requests->huggingface-hub->accelerate) (3.3.2)\n",
            "Requirement already satisfied: idna<4,>=2.5 in /usr/local/lib/python3.10/dist-packages (from requests->huggingface-hub->accelerate) (3.6)\n",
            "Requirement already satisfied: urllib3<3,>=1.21.1 in /usr/local/lib/python3.10/dist-packages (from requests->huggingface-hub->accelerate) (2.0.7)\n",
            "Requirement already satisfied: certifi>=2017.4.17 in /usr/local/lib/python3.10/dist-packages (from requests->huggingface-hub->accelerate) (2023.11.17)\n",
            "Requirement already satisfied: mpmath>=0.19 in /usr/local/lib/python3.10/dist-packages (from sympy->torch>=1.10.0->accelerate) (1.3.0)\n"
          ]
        }
      ]
    },
    {
      "cell_type": "code",
      "source": [
        "!pip install --upgrade transformers"
      ],
      "metadata": {
        "colab": {
          "base_uri": "https://localhost:8080/"
        },
        "id": "wPdBWdNcNzLA",
        "outputId": "26d6ee64-97e7-48f1-ae92-3c334b08ce67"
      },
      "execution_count": 28,
      "outputs": [
        {
          "output_type": "stream",
          "name": "stdout",
          "text": [
            "Requirement already satisfied: transformers in /usr/local/lib/python3.10/dist-packages (4.36.2)\n",
            "Requirement already satisfied: filelock in /usr/local/lib/python3.10/dist-packages (from transformers) (3.13.1)\n",
            "Requirement already satisfied: huggingface-hub<1.0,>=0.19.3 in /usr/local/lib/python3.10/dist-packages (from transformers) (0.20.1)\n",
            "Requirement already satisfied: numpy>=1.17 in /usr/local/lib/python3.10/dist-packages (from transformers) (1.23.5)\n",
            "Requirement already satisfied: packaging>=20.0 in /usr/local/lib/python3.10/dist-packages (from transformers) (23.2)\n",
            "Requirement already satisfied: pyyaml>=5.1 in /usr/local/lib/python3.10/dist-packages (from transformers) (6.0.1)\n",
            "Requirement already satisfied: regex!=2019.12.17 in /usr/local/lib/python3.10/dist-packages (from transformers) (2023.6.3)\n",
            "Requirement already satisfied: requests in /usr/local/lib/python3.10/dist-packages (from transformers) (2.31.0)\n",
            "Requirement already satisfied: tokenizers<0.19,>=0.14 in /usr/local/lib/python3.10/dist-packages (from transformers) (0.15.0)\n",
            "Requirement already satisfied: safetensors>=0.3.1 in /usr/local/lib/python3.10/dist-packages (from transformers) (0.4.1)\n",
            "Requirement already satisfied: tqdm>=4.27 in /usr/local/lib/python3.10/dist-packages (from transformers) (4.66.1)\n",
            "Requirement already satisfied: fsspec>=2023.5.0 in /usr/local/lib/python3.10/dist-packages (from huggingface-hub<1.0,>=0.19.3->transformers) (2023.6.0)\n",
            "Requirement already satisfied: typing-extensions>=3.7.4.3 in /usr/local/lib/python3.10/dist-packages (from huggingface-hub<1.0,>=0.19.3->transformers) (4.5.0)\n",
            "Requirement already satisfied: charset-normalizer<4,>=2 in /usr/local/lib/python3.10/dist-packages (from requests->transformers) (3.3.2)\n",
            "Requirement already satisfied: idna<4,>=2.5 in /usr/local/lib/python3.10/dist-packages (from requests->transformers) (3.6)\n",
            "Requirement already satisfied: urllib3<3,>=1.21.1 in /usr/local/lib/python3.10/dist-packages (from requests->transformers) (2.0.7)\n",
            "Requirement already satisfied: certifi>=2017.4.17 in /usr/local/lib/python3.10/dist-packages (from requests->transformers) (2023.11.17)\n"
          ]
        }
      ]
    },
    {
      "cell_type": "markdown",
      "source": [
        "# **1st time train - Initialize Trainer with TrainingArguments**"
      ],
      "metadata": {
        "id": "Yta6G4i8gMpK"
      }
    },
    {
      "cell_type": "code",
      "metadata": {
        "id": "H7hhmbT2ModI",
        "colab": {
          "base_uri": "https://localhost:8080/",
          "height": 122
        },
        "outputId": "59ed1b04-ed87-48f3-e31e-caf4fe12794e"
      },
      "source": [
        "'''\n",
        "from transformers import Trainer, TrainingArguments\n",
        "\n",
        "training_args = TrainingArguments(\n",
        "    output_dir=\"./gpt2-englishchef\", #The output directory\n",
        "    overwrite_output_dir=True, #overwrite the content of the output directory\n",
        "    num_train_epochs=3, # number of training epochs\n",
        "    per_device_train_batch_size=32, # batch size for training\n",
        "    per_device_eval_batch_size=64,  # batch size for evaluation\n",
        "    eval_steps = 400, # Number of update steps between two evaluations.\n",
        "    save_steps=800, # after # steps model is saved\n",
        "    warmup_steps=500,# number of warmup steps for learning rate scheduler\n",
        "    prediction_loss_only=True,\n",
        "    )\n",
        "\n",
        "\n",
        "trainer = Trainer(\n",
        "    model=model,\n",
        "    args=training_args,\n",
        "    data_collator=data_collator,\n",
        "    train_dataset=train_dataset,\n",
        "    eval_dataset=test_dataset,\n",
        ")\n",
        "'''"
      ],
      "execution_count": 48,
      "outputs": [
        {
          "output_type": "execute_result",
          "data": {
            "text/plain": [
              "'\\nfrom transformers import Trainer, TrainingArguments\\n\\ntraining_args = TrainingArguments(\\n    output_dir=\"./gpt2-englishchef\", #The output directory\\n    overwrite_output_dir=True, #overwrite the content of the output directory\\n    num_train_epochs=3, # number of training epochs\\n    per_device_train_batch_size=32, # batch size for training\\n    per_device_eval_batch_size=64,  # batch size for evaluation\\n    eval_steps = 400, # Number of update steps between two evaluations.\\n    save_steps=800, # after # steps model is saved\\n    warmup_steps=500,# number of warmup steps for learning rate scheduler\\n    prediction_loss_only=True,\\n    )\\n\\n\\ntrainer = Trainer(\\n    model=model,\\n    args=training_args,\\n    data_collator=data_collator,\\n    train_dataset=train_dataset,\\n    eval_dataset=test_dataset,\\n)\\n'"
            ],
            "application/vnd.google.colaboratory.intrinsic+json": {
              "type": "string"
            }
          },
          "metadata": {},
          "execution_count": 48
        }
      ]
    },
    {
      "cell_type": "code",
      "metadata": {
        "id": "wjIzSWPTKzBf",
        "colab": {
          "base_uri": "https://localhost:8080/",
          "height": 36
        },
        "outputId": "87c3c23d-14b4-4726-a146-724e84a8b07c"
      },
      "source": [
        "'''\n",
        "trainer.train()\n",
        "'''"
      ],
      "execution_count": 49,
      "outputs": [
        {
          "output_type": "execute_result",
          "data": {
            "text/plain": [
              "'\\ntrainer.train()\\n'"
            ],
            "application/vnd.google.colaboratory.intrinsic+json": {
              "type": "string"
            }
          },
          "metadata": {},
          "execution_count": 49
        }
      ]
    },
    {
      "cell_type": "code",
      "metadata": {
        "id": "Q5quyGeMNdjE",
        "colab": {
          "base_uri": "https://localhost:8080/",
          "height": 36
        },
        "outputId": "2b575803-cc47-475b-f9a1-92e797668340"
      },
      "source": [
        "'''\n",
        "trainer.save_model()\n",
        "'''"
      ],
      "execution_count": 50,
      "outputs": [
        {
          "output_type": "execute_result",
          "data": {
            "text/plain": [
              "'\\ntrainer.save_model()\\n'"
            ],
            "application/vnd.google.colaboratory.intrinsic+json": {
              "type": "string"
            }
          },
          "metadata": {},
          "execution_count": 50
        }
      ]
    },
    {
      "cell_type": "markdown",
      "source": [
        "# **Loading the saved model and train it again**\n",
        "\n",
        "* The Trainer class provides an API for feature-complete training. It is used in most of the example scripts from Huggingface. Before we can instantiate our Trainer we need to download our GPT-2 model and create a TrainingArguments to access all the points of customization during training. In the TrainingArguments, we can define the Hyperparameters we are going to use in the training process like our learning_rate, num_train_epochs, or per_device_train_batch_size.\n"
      ],
      "metadata": {
        "id": "BCfPXJ1egIew"
      }
    },
    {
      "cell_type": "code",
      "source": [
        "from transformers import Trainer, TrainingArguments\n",
        "# Load the previously trained model\n",
        "model_path = \"./gpt2-englishchef\"  # Replace this with the path to your saved model\n",
        "model = AutoModelForCausalLM.from_pretrained(model_path)\n",
        "\n",
        "# Define your training arguments\n",
        "training_args = TrainingArguments(\n",
        "    output_dir=\"./gpt2-englishchef\",  # The output directory\n",
        "    overwrite_output_dir=True,  # Overwrite the content of the output directory\n",
        "    num_train_epochs=5,  # Number of training epochs\n",
        "    per_device_train_batch_size=32,  # Batch size for training\n",
        "    per_device_eval_batch_size=64,  # Batch size for evaluation\n",
        "    eval_steps=400,  # Number of update steps between two evaluations\n",
        "    save_steps=800,  # Save model checkpoint after # steps\n",
        "    warmup_steps=500,  # Number of warmup steps for learning rate scheduler\n",
        "    prediction_loss_only=True,\n",
        ")\n",
        "\n",
        "# Initialize Trainer with your loaded model and training arguments\n",
        "trainer = Trainer(\n",
        "    model=model,\n",
        "    args=training_args,\n",
        "    data_collator=data_collator,\n",
        "    train_dataset=train_dataset,\n",
        "    eval_dataset=test_dataset,\n",
        ")\n"
      ],
      "metadata": {
        "id": "25xgEE54cKhl"
      },
      "execution_count": 39,
      "outputs": []
    },
    {
      "cell_type": "markdown",
      "source": [
        "# **Train the model**"
      ],
      "metadata": {
        "id": "d4xqKeGNiaXv"
      }
    },
    {
      "cell_type": "code",
      "source": [
        "# Start training to continue from where it left off\n",
        "trainer.train()"
      ],
      "metadata": {
        "colab": {
          "base_uri": "https://localhost:8080/",
          "height": 141
        },
        "id": "31Ny-6f-cWNK",
        "outputId": "bca5dec2-2980-43e9-c6a1-b0feb9d40ffc"
      },
      "execution_count": 40,
      "outputs": [
        {
          "output_type": "display_data",
          "data": {
            "text/plain": [
              "<IPython.core.display.HTML object>"
            ],
            "text/html": [
              "\n",
              "    <div>\n",
              "      \n",
              "      <progress value='990' max='990' style='width:300px; height:20px; vertical-align: middle;'></progress>\n",
              "      [990/990 18:30, Epoch 5/5]\n",
              "    </div>\n",
              "    <table border=\"1\" class=\"dataframe\">\n",
              "  <thead>\n",
              " <tr style=\"text-align: left;\">\n",
              "      <th>Step</th>\n",
              "      <th>Training Loss</th>\n",
              "    </tr>\n",
              "  </thead>\n",
              "  <tbody>\n",
              "    <tr>\n",
              "      <td>500</td>\n",
              "      <td>2.348800</td>\n",
              "    </tr>\n",
              "  </tbody>\n",
              "</table><p>"
            ]
          },
          "metadata": {}
        },
        {
          "output_type": "execute_result",
          "data": {
            "text/plain": [
              "TrainOutput(global_step=990, training_loss=2.3012694079466542, metrics={'train_runtime': 1111.7223, 'train_samples_per_second': 28.375, 'train_steps_per_second': 0.891, 'total_flos': 2060614287360000.0, 'train_loss': 2.3012694079466542, 'epoch': 5.0})"
            ]
          },
          "metadata": {},
          "execution_count": 40
        }
      ]
    },
    {
      "cell_type": "markdown",
      "source": [
        "# **Save the model**"
      ],
      "metadata": {
        "id": "PuspXQPmidJv"
      }
    },
    {
      "cell_type": "code",
      "source": [
        "# Save the model after training\n",
        "trainer.save_model(\"./gpt2-englishchef\")"
      ],
      "metadata": {
        "id": "ATsl4eD1cXjx"
      },
      "execution_count": 41,
      "outputs": []
    },
    {
      "cell_type": "markdown",
      "source": [
        "# **Test the model**\n",
        "* To test the model we are going to use another highlight of the transformers library called pipeline. Pipelines are objects that offer a simple API dedicated to several tasks, among others also text-generation"
      ],
      "metadata": {
        "id": "QfmHgDTIiixC"
      }
    },
    {
      "cell_type": "code",
      "source": [
        "from transformers import pipeline"
      ],
      "metadata": {
        "id": "Scpqe59dXRc-"
      },
      "execution_count": 42,
      "outputs": []
    },
    {
      "cell_type": "code",
      "source": [
        "chef = pipeline('text-generation',model='./gpt2-englishchef', tokenizer='gpt2')"
      ],
      "metadata": {
        "id": "2KV1fA1UXMI6",
        "colab": {
          "base_uri": "https://localhost:8080/"
        },
        "outputId": "0f94a3ce-d6fd-4ab2-a927-cef9835ff1b0"
      },
      "execution_count": 43,
      "outputs": [
        {
          "output_type": "stream",
          "name": "stderr",
          "text": [
            "/usr/local/lib/python3.10/dist-packages/huggingface_hub/utils/_token.py:72: UserWarning: \n",
            "The secret `HF_TOKEN` does not exist in your Colab secrets.\n",
            "To authenticate with the Hugging Face Hub, create a token in your settings tab (https://huggingface.co/settings/tokens), set it as secret in your Google Colab and restart your session.\n",
            "You will be able to reuse this secret in all of your notebooks.\n",
            "Please note that authentication is recommended but still optional to access public models or datasets.\n",
            "  warnings.warn(\n"
          ]
        }
      ]
    },
    {
      "cell_type": "code",
      "metadata": {
        "id": "laDp891gO25V",
        "colab": {
          "base_uri": "https://localhost:8080/"
        },
        "outputId": "47dd2be5-b176-4ffc-a362-ee774d3d3cbf"
      },
      "source": [
        "chef('Beat together eggs, sugar and flour.')"
      ],
      "execution_count": 44,
      "outputs": [
        {
          "output_type": "stream",
          "name": "stderr",
          "text": [
            "Setting `pad_token_id` to `eos_token_id`:50256 for open-end generation.\n"
          ]
        },
        {
          "output_type": "execute_result",
          "data": {
            "text/plain": [
              "[{'generated_text': 'Beat together eggs, sugar and flour. Gradually add milk to first mixture of flour, stirring constantly., Add vanilla. Beat for 2 minutes., Add eggs, blend for 2 minutes., Fold in fruit and pour into fruit mixture., Pour filling into pie'}]"
            ]
          },
          "metadata": {},
          "execution_count": 44
        }
      ]
    },
    {
      "cell_type": "code",
      "metadata": {
        "id": "BKXhAiBuvga9",
        "colab": {
          "base_uri": "https://localhost:8080/"
        },
        "outputId": "3a397231-7671-4d6c-c7f2-f2d66c779ffb"
      },
      "source": [
        "chef(' Stir Velveeta and salsa in saucepan over low heat until Velveeta is melted.')"
      ],
      "execution_count": 45,
      "outputs": [
        {
          "output_type": "stream",
          "name": "stderr",
          "text": [
            "Setting `pad_token_id` to `eos_token_id`:50256 for open-end generation.\n"
          ]
        },
        {
          "output_type": "execute_result",
          "data": {
            "text/plain": [
              "[{'generated_text': ' Stir Velveeta and salsa in saucepan over low heat until Velveeta is melted. Add chopped olives to saucepan while they cool., Add tomatoes and saute until tomatoes are tender., Add tomatoes and cook until tomatoes are heated up ('}]"
            ]
          },
          "metadata": {},
          "execution_count": 45
        }
      ]
    },
    {
      "cell_type": "code",
      "metadata": {
        "id": "J9Fixx4Iosih",
        "colab": {
          "base_uri": "https://localhost:8080/"
        },
        "outputId": "fb42f567-19a5-43b6-81c5-bd4bd09bf2ae"
      },
      "source": [
        "chef('In one bowl, combine all ingredients except frosting.')"
      ],
      "execution_count": 46,
      "outputs": [
        {
          "output_type": "stream",
          "name": "stderr",
          "text": [
            "Setting `pad_token_id` to `eos_token_id`:50256 for open-end generation.\n"
          ]
        },
        {
          "output_type": "execute_result",
          "data": {
            "text/plain": [
              "[{'generated_text': 'In one bowl, combine all ingredients except frosting. In another bowl put 2 tablespoons of margarine and enough water to cover and refrigerate for at least 2 hours before serving. This prevents the spread from turning brown. Refrigerate until ready to'}]"
            ]
          },
          "metadata": {},
          "execution_count": 46
        }
      ]
    },
    {
      "cell_type": "code",
      "metadata": {
        "id": "hKBSyNLgqF9K",
        "colab": {
          "base_uri": "https://localhost:8080/",
          "height": 70
        },
        "outputId": "1f5cf68a-0941-4203-ad2a-6c85476c39ac"
      },
      "source": [
        "chef(' Mix all ingredients except soda.')[0]['generated_text']"
      ],
      "execution_count": 47,
      "outputs": [
        {
          "output_type": "stream",
          "name": "stderr",
          "text": [
            "Setting `pad_token_id` to `eos_token_id`:50256 for open-end generation.\n"
          ]
        },
        {
          "output_type": "execute_result",
          "data": {
            "text/plain": [
              "' Mix all ingredients except soda. Pour in ungreased pan and bake at 350 degrees for 20 minutes.  Combine all dry ingredients alternately with 1/2 cup sugar in large mixing bowl., Add yeast slowly and slowly., Mix vigorously with hands.,'"
            ],
            "application/vnd.google.colaboratory.intrinsic+json": {
              "type": "string"
            }
          },
          "metadata": {},
          "execution_count": 47
        }
      ]
    },
    {
      "cell_type": "markdown",
      "source": [
        "# **Evaluate perplexity on the test dataset**"
      ],
      "metadata": {
        "id": "_-RspOqcjSIO"
      }
    },
    {
      "cell_type": "code",
      "source": [
        "# Evaluate perplexity on the test dataset\n",
        "eval_result = trainer.evaluate(eval_dataset=test_dataset)\n",
        "print(\"Perplexity:\", eval_result['eval_loss'])"
      ],
      "metadata": {
        "colab": {
          "base_uri": "https://localhost:8080/",
          "height": 54
        },
        "id": "wNvoeo8Ri79e",
        "outputId": "016b5099-b044-4f2d-e2f5-2c263486ee29"
      },
      "execution_count": 51,
      "outputs": [
        {
          "output_type": "display_data",
          "data": {
            "text/plain": [
              "<IPython.core.display.HTML object>"
            ],
            "text/html": [
              "\n",
              "    <div>\n",
              "      \n",
              "      <progress value='11' max='11' style='width:300px; height:20px; vertical-align: middle;'></progress>\n",
              "      [11/11 00:07]\n",
              "    </div>\n",
              "    "
            ]
          },
          "metadata": {}
        },
        {
          "output_type": "stream",
          "name": "stdout",
          "text": [
            "Perplexity: 2.2754464149475098\n"
          ]
        }
      ]
    },
    {
      "cell_type": "markdown",
      "source": [
        "# **Generating Recipes without any prompt**"
      ],
      "metadata": {
        "id": "EtvKTuF9moKW"
      }
    },
    {
      "cell_type": "code",
      "source": [
        "from transformers import pipeline\n",
        "\n",
        "# Initialize the text generation pipeline\n",
        "chef = pipeline('text-generation', model='./gpt2-englishchef', tokenizer='gpt2')\n",
        "\n",
        "# Function to generate recipes and save them\n",
        "def generate_recipes(chef_pipeline, num_recipes: int):\n",
        "    generated_recipes = []\n",
        "    for _ in range(num_recipes):\n",
        "        generated_recipe = chef_pipeline(\"Recipe: \")  # You can modify the initial prompt if needed\n",
        "        generated_recipes.append(generated_recipe[0]['generated_text'])\n",
        "    return generated_recipes\n",
        "\n",
        "# Generate recipes\n",
        "num_recipes_to_generate = 5  # Define the number of recipes to generate\n",
        "generated_recipes = generate_recipes(chef, num_recipes_to_generate)\n",
        "\n",
        "# Display the generated recipes\n",
        "for i, recipe in enumerate(generated_recipes, start=1):\n",
        "    print(f\"Generated Recipe {i}:\\n{recipe}\\n\")\n"
      ],
      "metadata": {
        "colab": {
          "base_uri": "https://localhost:8080/"
        },
        "id": "evH4LlqSpZ2A",
        "outputId": "d9bb0413-2e19-43a6-b855-7e77c3294655"
      },
      "execution_count": 59,
      "outputs": [
        {
          "output_type": "stream",
          "name": "stderr",
          "text": [
            "Setting `pad_token_id` to `eos_token_id`:50256 for open-end generation.\n",
            "Setting `pad_token_id` to `eos_token_id`:50256 for open-end generation.\n",
            "Setting `pad_token_id` to `eos_token_id`:50256 for open-end generation.\n",
            "Setting `pad_token_id` to `eos_token_id`:50256 for open-end generation.\n",
            "Setting `pad_token_id` to `eos_token_id`:50256 for open-end generation.\n"
          ]
        },
        {
          "output_type": "stream",
          "name": "stdout",
          "text": [
            "Generated Recipe 1:\n",
            "Recipe:  In skillet, brown onion and red pepper in chicken broth., Add soup and soy sauce., Simmer through; add remaining ingredients. Cover; simmer, uncovered, for 45 minutes. Sprinkle with remaining chives and bake in greased\n",
            "\n",
            "Generated Recipe 2:\n",
            "Recipe:  Brown fat., Remove from skillet., Stir in milk, green chilies and salt. Add egg white and cook until thick, about 35 to 35 minutes. Stir in rice. Cook on greased cookie sheet. Transfer to serving bowl.,\n",
            "\n",
            "Generated Recipe 3:\n",
            "Recipe:  Sift dry ingredients together., Place 1 cup pineapple and 2-cup nuts in bowl. Add 3-5 of sugar; mix, then spoon and coat with margarine., Add 2-ounces of hot water (1/2 cup\n",
            "\n",
            "Generated Recipe 4:\n",
            "Recipe:  Mix and let cook. Makes 24 servings.  Boil broccoli; drain well. Brown ground beef and onion in skillet., Then add kidney beans., Then pickle shrimp and then sauerkraut sauce., Simmer for 35\n",
            "\n",
            "Generated Recipe 5:\n",
            "Recipe:  In a 1 1/2-quart baking dish, mix 1 stick margarine, oil, garlic and salt., Add onions and carrots to pan., Bake in small ovenproof baking pan at 350\\u00b0 for 1 1\n",
            "\n"
          ]
        }
      ]
    },
    {
      "cell_type": "markdown",
      "source": [
        "# **Examples from Test Dataset**"
      ],
      "metadata": {
        "id": "_osqATIpzMCj"
      }
    },
    {
      "cell_type": "code",
      "source": [
        "def read_text_file(file_path, num_examples=5):\n",
        "    with open(file_path, 'r') as file:\n",
        "        content = file.read()\n",
        "        examples = content.split('  ')  # Assuming '  ' is the separator between examples\n",
        "        for i, example in enumerate(examples[:num_examples]):\n",
        "            print(f\"Example {i+1}: {example}\")\n",
        "\n",
        "\n",
        "test_file_path = '/content/drive/MyDrive/Recipe Generation/test_dataset.txt'\n",
        "\n",
        "print(\"\\nExamples from the Test Dataset:\")\n",
        "read_text_file(test_file_path)"
      ],
      "metadata": {
        "colab": {
          "base_uri": "https://localhost:8080/"
        },
        "id": "VkjI7zbutJib",
        "outputId": "0536a03c-3f50-4f76-b06c-b1058e7c3cf2"
      },
      "execution_count": 66,
      "outputs": [
        {
          "output_type": "stream",
          "name": "stdout",
          "text": [
            "\n",
            "Examples from the Test Dataset:\n",
            "Example 1: Make and, chill, crust., Combine, 1, 1/2, cups packaged graham cracker crumbs and 1/4 cup sugar in a small bowl; blend in 1/2 cup (1 stick) melted butter or margarine., Press firmly over bottom and, sides of a heavy buttered 9-inch spring-form pan., Chill.\n",
            "Example 2: Stir Velveeta and salsa in saucepan over low heat until Velveeta is melted., Stir in cilantro., Serve hot with tortilla chips or vegetable dippers., Makes 3 cups.\n",
            "Example 3: Beat together eggs, sugar and flour., Combine with corn, butter, salt and milk., Pour into a greased 1-quart casserole. Bake at 300\\u00b0 for 50 minutes., Yields 4 servings.\n",
            "Example 4: Use 1 1/2-quart buttered casserole., Preheat oven to 350\\u00b0.\n",
            "Example 5: In one bowl, combine all ingredients except frosting., Beat with mixer at high speed for 2 minutes., Grease and flour medium size (9 cup) Bundt pan and pour in batter., (This will give a high cake; larger pans will give a flatter cake.), Bake at 350\\u00b0., Test at 45 minutes and then every 5 minutes until done., Cool in pan 10 minutes, then turn out on rack., If frosted while warm, frosting will melt to sort of a glaze., Equally good frosted when cool.\n"
          ]
        }
      ]
    },
    {
      "cell_type": "markdown",
      "source": [
        "# **Generating Recipes with prompt from test dataset**"
      ],
      "metadata": {
        "id": "pdkzNT6amrB_"
      }
    },
    {
      "cell_type": "code",
      "source": [
        "from transformers import pipeline\n",
        "import random\n",
        "\n",
        "test_dataset_file = '/content/drive/MyDrive/Recipe Generation/test_dataset.txt'\n",
        "\n",
        "# Initialize the text generation pipeline\n",
        "chef = pipeline('text-generation', model='./gpt2-englishchef', tokenizer='gpt2')\n",
        "\n",
        "# Read your test dataset\n",
        "with open(test_dataset_file, 'r') as file:\n",
        "    test_content = file.read()\n",
        "\n",
        "# Split the content into individual recipes based on the delimiter ('  ')\n",
        "test_recipes = test_content.split('  ')\n",
        "\n",
        "# Function to generate recipes based on the test dataset\n",
        "def generate_recipes_from_test_dataset(chef_pipeline, test_dataset, num_recipes: int):\n",
        "    generated_recipes = []\n",
        "    for i in range(num_recipes):\n",
        "        # Randomly select a recipe from the test dataset\n",
        "        random_recipe = random.choice(test_dataset)\n",
        "        # Extract the first 6/7 words from the recipe as the prompt\n",
        "        words = random_recipe.split()[:6]  # Change the number here to select the desired number of words\n",
        "        prompt = ' '.join(words)\n",
        "        generated_recipe = chef_pipeline(prompt)\n",
        "        generated_recipes.append(generated_recipe[0]['generated_text'])\n",
        "    return generated_recipes\n",
        "\n",
        "# Generate recipes based on the test dataset\n",
        "num_recipes_to_generate = 5  # Define the number of recipes to generate\n",
        "generated_recipes_from_test = generate_recipes_from_test_dataset(chef, test_recipes, num_recipes_to_generate)\n",
        "\n",
        "# Display the generated recipes\n",
        "for i, recipe in enumerate(generated_recipes_from_test, start=1):\n",
        "    print(f\"Generated Recipe {i}:\\n{recipe}\\n\")"
      ],
      "metadata": {
        "colab": {
          "base_uri": "https://localhost:8080/"
        },
        "id": "NlzbniAExlF3",
        "outputId": "9af447b3-c734-425c-e709-57765a53bb4e"
      },
      "execution_count": 74,
      "outputs": [
        {
          "output_type": "stream",
          "name": "stderr",
          "text": [
            "/usr/local/lib/python3.10/dist-packages/huggingface_hub/utils/_token.py:72: UserWarning: \n",
            "The secret `HF_TOKEN` does not exist in your Colab secrets.\n",
            "To authenticate with the Hugging Face Hub, create a token in your settings tab (https://huggingface.co/settings/tokens), set it as secret in your Google Colab and restart your session.\n",
            "You will be able to reuse this secret in all of your notebooks.\n",
            "Please note that authentication is recommended but still optional to access public models or datasets.\n",
            "  warnings.warn(\n",
            "Setting `pad_token_id` to `eos_token_id`:50256 for open-end generation.\n",
            "Setting `pad_token_id` to `eos_token_id`:50256 for open-end generation.\n",
            "Setting `pad_token_id` to `eos_token_id`:50256 for open-end generation.\n",
            "Setting `pad_token_id` to `eos_token_id`:50256 for open-end generation.\n",
            "Setting `pad_token_id` to `eos_token_id`:50256 for open-end generation.\n"
          ]
        },
        {
          "output_type": "stream",
          "name": "stdout",
          "text": [
            "Generated Recipe 1:\n",
            "About 40 minutes before serving or serving, spread a layer of cheese over top., Slice tomatoes in half., Place a slice of sausage atop top., Spread soup mix on sausage., Place a slice of cheese atop top of tomato mixture., Repeat. \n",
            "\n",
            "Generated Recipe 2:\n",
            "Mix until crumbly., Press into 9 x 13 inch pan.  In a 13 x 9 x 2-inch pan, melt margarine., Melt mayonnaise, butter and then cracker crumbs., Mix sugar and Crisco together.,\n",
            "\n",
            "Generated Recipe 3:\n",
            "Preheat oven to 350\\u00b0., Sift first 7 ingredients together and add to bowl; beat until well mixed. Blend in sugar and flour and mix well. Add flour mixture first and mix well. Spoon 1/2 cup melted\n",
            "\n",
            "Generated Recipe 4:\n",
            "You will also need artificial holly rhubarb., Keep in water.  Mix sugar, cornstarch, and water to make syrup., Gradually add 1 cup of the boiling hot water., Add fruit, cherries, cherries, oranges\n",
            "\n",
            "Generated Recipe 5:\n",
            "Boil ribs until tender., Mix barbecue sauce and 1/4 cup cheese with a spoon, then combine remaining ingredients., Bake at 375\\u00b0 for 35 to 45 minutes., Serve with crackers.  Stir together butter, cream\n",
            "\n"
          ]
        }
      ]
    },
    {
      "cell_type": "markdown",
      "source": [
        "# **List of 1st 20 examples from Test Dataset**"
      ],
      "metadata": {
        "id": "nhen046G0y2y"
      }
    },
    {
      "cell_type": "code",
      "source": [
        "def read_text_file(file_path, num_examples=5):\n",
        "    with open(file_path, 'r') as file:\n",
        "        content = file.read()\n",
        "        examples = content.split('  ')  # Assuming '  ' is the separator between examples\n",
        "        return examples[:num_examples]\n",
        "\n",
        "test_file_path = '/content/drive/MyDrive/Recipe Generation/test_dataset.txt'\n",
        "\n",
        "print(\"\\nExamples from the Test Dataset:\")\n",
        "first_20_examples = read_text_file(test_file_path, num_examples=20)\n",
        "\n",
        "# Display the first 20 examples\n",
        "for i, example in enumerate(first_20_examples, start=1):\n",
        "    print(f\"Example {i}: {example}\")\n",
        "\n",
        "# Store the first 20 examples in a list\n",
        "list_of_20_examples = first_20_examples"
      ],
      "metadata": {
        "colab": {
          "base_uri": "https://localhost:8080/"
        },
        "id": "Gy5Xn54UlWll",
        "outputId": "6971baeb-e98d-4f6e-ab41-2fa8dca2749d"
      },
      "execution_count": 76,
      "outputs": [
        {
          "output_type": "stream",
          "name": "stdout",
          "text": [
            "\n",
            "Examples from the Test Dataset:\n",
            "Example 1: Make and, chill, crust., Combine, 1, 1/2, cups packaged graham cracker crumbs and 1/4 cup sugar in a small bowl; blend in 1/2 cup (1 stick) melted butter or margarine., Press firmly over bottom and, sides of a heavy buttered 9-inch spring-form pan., Chill.\n",
            "Example 2: Stir Velveeta and salsa in saucepan over low heat until Velveeta is melted., Stir in cilantro., Serve hot with tortilla chips or vegetable dippers., Makes 3 cups.\n",
            "Example 3: Beat together eggs, sugar and flour., Combine with corn, butter, salt and milk., Pour into a greased 1-quart casserole. Bake at 300\\u00b0 for 50 minutes., Yields 4 servings.\n",
            "Example 4: Use 1 1/2-quart buttered casserole., Preheat oven to 350\\u00b0.\n",
            "Example 5: In one bowl, combine all ingredients except frosting., Beat with mixer at high speed for 2 minutes., Grease and flour medium size (9 cup) Bundt pan and pour in batter., (This will give a high cake; larger pans will give a flatter cake.), Bake at 350\\u00b0., Test at 45 minutes and then every 5 minutes until done., Cool in pan 10 minutes, then turn out on rack., If frosted while warm, frosting will melt to sort of a glaze., Equally good frosted when cool.\n",
            "Example 6: Sift together the flour, baking soda, cinnamon, nutmeg and cloves., Cream butter and sugar., Add applesauce; beat well., Add flour mixture in several additions., Beat gently., Fold in raisins., Turn into a greased and floured 8 x 8 x 2-inch cake pan. Bake in a preheated 350\\u00b0 oven for 45 minutes., Let stand on wire rack for 5 minutes., Turn out., Turn right side up., Good warm.\n",
            "Example 7: Mix in a boiler the sugar, margarine, milk and cocoa together. Let boil 3 to 5 minutes, boiling to soft ball stage (stirring often)., Remove and add peanut butter, oatmeal and vanilla., Mix real good and put on waxed paper with a tablespoon., Makes about 1 1/2 dozen cookies.\n",
            "Example 8: Saute garlic and onion in olive oil until translucent., Add salt, pepper, basil, oregano, tarragon, rosemary, carrots and wine., Cover and cook 5 to 10 minutes, stirring occasionally., Add green pepper, stock, puree and beans., Cover and simmer 30 minutes., Add chopped tomatoes, cooked pasta and zucchini and simmer for another 15 minutes., Makes 6 quarts.\n",
            "Example 9: Put in a covered 1 1/2-quart dish., Bake 1 hour at 350\\u00b0.\n",
            "Example 10: Mix all ingredients well., Pour into two 8-inch round cake pans., (Pans should be prepared with Crisco and flour.) Bake at 350\\u00b0 for 30 minutes or until cake springs back to touch.\n",
            "Example 11: Drain pineapple reserving 6 Tbsp juice. Mix pineapple, cheese, flour, sugar and juice. Stir well. Pour into dish. Sprinkle on topping.\n",
            "Example 12: Strip husks down to the end of the cob, but do not tear off. Remove silk., If desired, soak in salted ice water to which 1/2 cup milk has been added for about 20 minutes; drain well., Brush with softened butter and sprinkle with salt and pepper., Bring husks up around the corn., Wrap each ear securely in a double thickness of aluminum foil., Twist the ends well., Barbecue on briquets 10 minutes, turning once.\n",
            "Example 13: Combine and heat until smooth, peanut butter, margarine and vanilla., Gradually, beat, in, 1, 1/2, boxes confectioners sugar (when mixture gets, too stiff for mixer, knead remaining sugar in with, hands)., Refrigerate, until, mixture, is, firm. Form into small balls., Melt, over low heat the milk chocolate and paraffin pushed into, chocolate., Dip, the balls in chocolate;, place on wax paper to harden., Makes 4 dozen.\n",
            "Example 14: Preheat oven to 350\\u00b0., In large bowl, mix eggs, sugar, butter, buttermilk, flour and vanilla until well blended., Pour into pie shell and bake until golden brown (approximately 50 minutes)., Let cool before slicing.\n",
            "Example 15: Melt butter in skillet, add onion and celery, slowly cooking for 10 minutes., Add other ingredients and bring to a boil. Reduce heat and simmer for 20 minutes.\n",
            "Example 16: In large bowl, stir together first 6 ingredients., Add next 4 ingredients and toss to coat well., Cover and chill for several hours., If desired, serve in bowl lined with lettuce leaves. Makes about 8 cups.\n",
            "Example 17: Bake at 300\\u00b0 for 1 hour.\n",
            "Example 18: Mix everything together, except for cheese., Put 1/3 of meat mixture in bottom of pan (pan that you normally use for a meat loaf)., Spread half of the cheese over it., Add 1/3 more of meat mixture, rest of cheese and remaining 1/3 of meat mixture., Bake at 350\\u00b0 for 1 hour (cover, if you wish)., For an interesting top, spread some catsup, more grated cheese, and some small pieces of bacon over the top during the last 20 minutes of cooking, uncovered.\n",
            "Example 19: Combine all ingredients in a saucepan., Boil until mixture thickens, stirring constantly.\n",
            "Example 20: Thoroughly combine 1/2 cup milk, egg yolks and flour., Set aside., Scald remaining 2 cups milk, over hot water., Combine brown sugar, water and salt in a skillet., Place over low heat and bring to a gentle boil., Cook until mixture thickens and a few bubbles break, sending up not whiffs, but puffs, of smoke., Add the caramelized sugar, very slowly, stirring constantly, to scalded milk., When smooth, gradually stir in egg yolk mixture and cook, stirring constantly, over hot water, until thick., Remove and add butter and vanilla extract., Cool., Pour into pie shell and make meringue with egg whites, cream of tartar and the 1/4 cup sugar., Spread evenly over the pie filling, being sure sealed to the edges., Brown in oven., Cool.\n",
            "['Make and, chill, crust., Combine, 1, 1/2, cups packaged graham cracker crumbs and 1/4 cup sugar in a small bowl; blend in 1/2 cup (1 stick) melted butter or margarine., Press firmly over bottom and, sides of a heavy buttered 9-inch spring-form pan., Chill.', 'Stir Velveeta and salsa in saucepan over low heat until Velveeta is melted., Stir in cilantro., Serve hot with tortilla chips or vegetable dippers., Makes 3 cups.', 'Beat together eggs, sugar and flour., Combine with corn, butter, salt and milk., Pour into a greased 1-quart casserole. Bake at 300\\\\u00b0 for 50 minutes., Yields 4 servings.', 'Use 1 1/2-quart buttered casserole., Preheat oven to 350\\\\u00b0.', 'In one bowl, combine all ingredients except frosting., Beat with mixer at high speed for 2 minutes., Grease and flour medium size (9 cup) Bundt pan and pour in batter., (This will give a high cake; larger pans will give a flatter cake.), Bake at 350\\\\u00b0., Test at 45 minutes and then every 5 minutes until done., Cool in pan 10 minutes, then turn out on rack., If frosted while warm, frosting will melt to sort of a glaze., Equally good frosted when cool.', 'Sift together the flour, baking soda, cinnamon, nutmeg and cloves., Cream butter and sugar., Add applesauce; beat well., Add flour mixture in several additions., Beat gently., Fold in raisins., Turn into a greased and floured 8 x 8 x 2-inch cake pan. Bake in a preheated 350\\\\u00b0 oven for 45 minutes., Let stand on wire rack for 5 minutes., Turn out., Turn right side up., Good warm.', 'Mix in a boiler the sugar, margarine, milk and cocoa together. Let boil 3 to 5 minutes, boiling to soft ball stage (stirring often)., Remove and add peanut butter, oatmeal and vanilla., Mix real good and put on waxed paper with a tablespoon., Makes about 1 1/2 dozen cookies.', 'Saute garlic and onion in olive oil until translucent., Add salt, pepper, basil, oregano, tarragon, rosemary, carrots and wine., Cover and cook 5 to 10 minutes, stirring occasionally., Add green pepper, stock, puree and beans., Cover and simmer 30 minutes., Add chopped tomatoes, cooked pasta and zucchini and simmer for another 15 minutes., Makes 6 quarts.', 'Put in a covered 1 1/2-quart dish., Bake 1 hour at 350\\\\u00b0.', 'Mix all ingredients well., Pour into two 8-inch round cake pans., (Pans should be prepared with Crisco and flour.) Bake at 350\\\\u00b0 for 30 minutes or until cake springs back to touch.', 'Drain pineapple reserving 6 Tbsp juice. Mix pineapple, cheese, flour, sugar and juice. Stir well. Pour into dish. Sprinkle on topping.', 'Strip husks down to the end of the cob, but do not tear off. Remove silk., If desired, soak in salted ice water to which 1/2 cup milk has been added for about 20 minutes; drain well., Brush with softened butter and sprinkle with salt and pepper., Bring husks up around the corn., Wrap each ear securely in a double thickness of aluminum foil., Twist the ends well., Barbecue on briquets 10 minutes, turning once.', 'Combine and heat until smooth, peanut butter, margarine and vanilla., Gradually, beat, in, 1, 1/2, boxes confectioners sugar (when mixture gets, too stiff for mixer, knead remaining sugar in with, hands)., Refrigerate, until, mixture, is, firm. Form into small balls., Melt, over low heat the milk chocolate and paraffin pushed into, chocolate., Dip, the balls in chocolate;, place on wax paper to harden., Makes 4 dozen.', 'Preheat oven to 350\\\\u00b0., In large bowl, mix eggs, sugar, butter, buttermilk, flour and vanilla until well blended., Pour into pie shell and bake until golden brown (approximately 50 minutes)., Let cool before slicing.', 'Melt butter in skillet, add onion and celery, slowly cooking for 10 minutes., Add other ingredients and bring to a boil. Reduce heat and simmer for 20 minutes.', 'In large bowl, stir together first 6 ingredients., Add next 4 ingredients and toss to coat well., Cover and chill for several hours., If desired, serve in bowl lined with lettuce leaves. Makes about 8 cups.', 'Bake at 300\\\\u00b0 for 1 hour.', 'Mix everything together, except for cheese., Put 1/3 of meat mixture in bottom of pan (pan that you normally use for a meat loaf)., Spread half of the cheese over it., Add 1/3 more of meat mixture, rest of cheese and remaining 1/3 of meat mixture., Bake at 350\\\\u00b0 for 1 hour (cover, if you wish)., For an interesting top, spread some catsup, more grated cheese, and some small pieces of bacon over the top during the last 20 minutes of cooking, uncovered.', 'Combine all ingredients in a saucepan., Boil until mixture thickens, stirring constantly.', 'Thoroughly combine 1/2 cup milk, egg yolks and flour., Set aside., Scald remaining 2 cups milk, over hot water., Combine brown sugar, water and salt in a skillet., Place over low heat and bring to a gentle boil., Cook until mixture thickens and a few bubbles break, sending up not whiffs, but puffs, of smoke., Add the caramelized sugar, very slowly, stirring constantly, to scalded milk., When smooth, gradually stir in egg yolk mixture and cook, stirring constantly, over hot water, until thick., Remove and add butter and vanilla extract., Cool., Pour into pie shell and make meringue with egg whites, cream of tartar and the 1/4 cup sugar., Spread evenly over the pie filling, being sure sealed to the edges., Brown in oven., Cool.']\n"
          ]
        }
      ]
    },
    {
      "cell_type": "code",
      "source": [
        "print(list_of_20_examples)"
      ],
      "metadata": {
        "colab": {
          "base_uri": "https://localhost:8080/"
        },
        "id": "KQNGJxeB1qGL",
        "outputId": "e7149909-61ed-46e5-d6da-a7559df8e8ec"
      },
      "execution_count": 80,
      "outputs": [
        {
          "output_type": "stream",
          "name": "stdout",
          "text": [
            "['Make and, chill, crust., Combine, 1, 1/2, cups packaged graham cracker crumbs and 1/4 cup sugar in a small bowl; blend in 1/2 cup (1 stick) melted butter or margarine., Press firmly over bottom and, sides of a heavy buttered 9-inch spring-form pan., Chill.', 'Stir Velveeta and salsa in saucepan over low heat until Velveeta is melted., Stir in cilantro., Serve hot with tortilla chips or vegetable dippers., Makes 3 cups.', 'Beat together eggs, sugar and flour., Combine with corn, butter, salt and milk., Pour into a greased 1-quart casserole. Bake at 300\\\\u00b0 for 50 minutes., Yields 4 servings.', 'Use 1 1/2-quart buttered casserole., Preheat oven to 350\\\\u00b0.', 'In one bowl, combine all ingredients except frosting., Beat with mixer at high speed for 2 minutes., Grease and flour medium size (9 cup) Bundt pan and pour in batter., (This will give a high cake; larger pans will give a flatter cake.), Bake at 350\\\\u00b0., Test at 45 minutes and then every 5 minutes until done., Cool in pan 10 minutes, then turn out on rack., If frosted while warm, frosting will melt to sort of a glaze., Equally good frosted when cool.', 'Sift together the flour, baking soda, cinnamon, nutmeg and cloves., Cream butter and sugar., Add applesauce; beat well., Add flour mixture in several additions., Beat gently., Fold in raisins., Turn into a greased and floured 8 x 8 x 2-inch cake pan. Bake in a preheated 350\\\\u00b0 oven for 45 minutes., Let stand on wire rack for 5 minutes., Turn out., Turn right side up., Good warm.', 'Mix in a boiler the sugar, margarine, milk and cocoa together. Let boil 3 to 5 minutes, boiling to soft ball stage (stirring often)., Remove and add peanut butter, oatmeal and vanilla., Mix real good and put on waxed paper with a tablespoon., Makes about 1 1/2 dozen cookies.', 'Saute garlic and onion in olive oil until translucent., Add salt, pepper, basil, oregano, tarragon, rosemary, carrots and wine., Cover and cook 5 to 10 minutes, stirring occasionally., Add green pepper, stock, puree and beans., Cover and simmer 30 minutes., Add chopped tomatoes, cooked pasta and zucchini and simmer for another 15 minutes., Makes 6 quarts.', 'Put in a covered 1 1/2-quart dish., Bake 1 hour at 350\\\\u00b0.', 'Mix all ingredients well., Pour into two 8-inch round cake pans., (Pans should be prepared with Crisco and flour.) Bake at 350\\\\u00b0 for 30 minutes or until cake springs back to touch.', 'Drain pineapple reserving 6 Tbsp juice. Mix pineapple, cheese, flour, sugar and juice. Stir well. Pour into dish. Sprinkle on topping.', 'Strip husks down to the end of the cob, but do not tear off. Remove silk., If desired, soak in salted ice water to which 1/2 cup milk has been added for about 20 minutes; drain well., Brush with softened butter and sprinkle with salt and pepper., Bring husks up around the corn., Wrap each ear securely in a double thickness of aluminum foil., Twist the ends well., Barbecue on briquets 10 minutes, turning once.', 'Combine and heat until smooth, peanut butter, margarine and vanilla., Gradually, beat, in, 1, 1/2, boxes confectioners sugar (when mixture gets, too stiff for mixer, knead remaining sugar in with, hands)., Refrigerate, until, mixture, is, firm. Form into small balls., Melt, over low heat the milk chocolate and paraffin pushed into, chocolate., Dip, the balls in chocolate;, place on wax paper to harden., Makes 4 dozen.', 'Preheat oven to 350\\\\u00b0., In large bowl, mix eggs, sugar, butter, buttermilk, flour and vanilla until well blended., Pour into pie shell and bake until golden brown (approximately 50 minutes)., Let cool before slicing.', 'Melt butter in skillet, add onion and celery, slowly cooking for 10 minutes., Add other ingredients and bring to a boil. Reduce heat and simmer for 20 minutes.', 'In large bowl, stir together first 6 ingredients., Add next 4 ingredients and toss to coat well., Cover and chill for several hours., If desired, serve in bowl lined with lettuce leaves. Makes about 8 cups.', 'Bake at 300\\\\u00b0 for 1 hour.', 'Mix everything together, except for cheese., Put 1/3 of meat mixture in bottom of pan (pan that you normally use for a meat loaf)., Spread half of the cheese over it., Add 1/3 more of meat mixture, rest of cheese and remaining 1/3 of meat mixture., Bake at 350\\\\u00b0 for 1 hour (cover, if you wish)., For an interesting top, spread some catsup, more grated cheese, and some small pieces of bacon over the top during the last 20 minutes of cooking, uncovered.', 'Combine all ingredients in a saucepan., Boil until mixture thickens, stirring constantly.', 'Thoroughly combine 1/2 cup milk, egg yolks and flour., Set aside., Scald remaining 2 cups milk, over hot water., Combine brown sugar, water and salt in a skillet., Place over low heat and bring to a gentle boil., Cook until mixture thickens and a few bubbles break, sending up not whiffs, but puffs, of smoke., Add the caramelized sugar, very slowly, stirring constantly, to scalded milk., When smooth, gradually stir in egg yolk mixture and cook, stirring constantly, over hot water, until thick., Remove and add butter and vanilla extract., Cool., Pour into pie shell and make meringue with egg whites, cream of tartar and the 1/4 cup sugar., Spread evenly over the pie filling, being sure sealed to the edges., Brown in oven., Cool.']\n"
          ]
        }
      ]
    },
    {
      "cell_type": "code",
      "source": [
        "print(len(list_of_20_examples))"
      ],
      "metadata": {
        "colab": {
          "base_uri": "https://localhost:8080/"
        },
        "id": "ZKHbopt_2h9o",
        "outputId": "fd342182-5fd3-4e9c-d263-8682e46b6e8d"
      },
      "execution_count": 79,
      "outputs": [
        {
          "output_type": "stream",
          "name": "stdout",
          "text": [
            "20\n"
          ]
        }
      ]
    },
    {
      "cell_type": "code",
      "source": [
        "from transformers import pipeline\n",
        "\n",
        "test_dataset_file = '/content/drive/MyDrive/Recipe Generation/test_dataset.txt'\n",
        "\n",
        "# Initialize the text generation pipeline\n",
        "chef = pipeline('text-generation', model='./gpt2-englishchef', tokenizer='gpt2')\n",
        "\n",
        "# Read your test dataset\n",
        "with open(test_dataset_file, 'r') as file:\n",
        "    test_content = file.read()\n",
        "\n",
        "# Split the content into individual recipes based on the delimiter ('  ')\n",
        "test_recipes = test_content.split('  ')\n",
        "\n",
        "# Function to generate recipes based on the test dataset\n",
        "def generate_recipes_from_test_dataset(chef_pipeline, test_dataset, num_recipes: int):\n",
        "    generated_recipes = []\n",
        "    for i in range(num_recipes):\n",
        "        # Extract the first 6 words from the recipe as the prompt\n",
        "        words = test_dataset[i].split()[:6] if i < len(test_dataset) else test_dataset[-1].split()[:6]\n",
        "        prompt = ' '.join(words)\n",
        "        generated_recipe = chef_pipeline(prompt, max_length=128)  # Adjust max_length as needed\n",
        "        generated_recipes.append(generated_recipe[0]['generated_text'])\n",
        "    return generated_recipes\n",
        "\n",
        "# Generate recipes based on the test dataset\n",
        "num_recipes_to_generate = 20  # Define the number of recipes to generate\n",
        "generated_recipes_from_test = generate_recipes_from_test_dataset(chef, test_recipes, num_recipes_to_generate)\n",
        "\n",
        "# Display the generated recipes\n",
        "for i, recipe in enumerate(generated_recipes_from_test, start=1):\n",
        "    print(f\"Generated Recipe {i}:\\n{recipe}\\n\")\n",
        "\n",
        "# Save the generated recipes in a list\n",
        "list_of_generated_recipes = generated_recipes_from_test\n"
      ],
      "metadata": {
        "colab": {
          "base_uri": "https://localhost:8080/"
        },
        "id": "faVx4i5L07fO",
        "outputId": "e0cdf887-9f0f-4b05-bead-c359bc086b1f"
      },
      "execution_count": 77,
      "outputs": [
        {
          "output_type": "stream",
          "name": "stderr",
          "text": [
            "/usr/local/lib/python3.10/dist-packages/huggingface_hub/utils/_token.py:72: UserWarning: \n",
            "The secret `HF_TOKEN` does not exist in your Colab secrets.\n",
            "To authenticate with the Hugging Face Hub, create a token in your settings tab (https://huggingface.co/settings/tokens), set it as secret in your Google Colab and restart your session.\n",
            "You will be able to reuse this secret in all of your notebooks.\n",
            "Please note that authentication is recommended but still optional to access public models or datasets.\n",
            "  warnings.warn(\n",
            "Setting `pad_token_id` to `eos_token_id`:50256 for open-end generation.\n",
            "Setting `pad_token_id` to `eos_token_id`:50256 for open-end generation.\n",
            "Setting `pad_token_id` to `eos_token_id`:50256 for open-end generation.\n",
            "Setting `pad_token_id` to `eos_token_id`:50256 for open-end generation.\n",
            "Setting `pad_token_id` to `eos_token_id`:50256 for open-end generation.\n",
            "Setting `pad_token_id` to `eos_token_id`:50256 for open-end generation.\n",
            "Setting `pad_token_id` to `eos_token_id`:50256 for open-end generation.\n",
            "Setting `pad_token_id` to `eos_token_id`:50256 for open-end generation.\n",
            "Setting `pad_token_id` to `eos_token_id`:50256 for open-end generation.\n",
            "Setting `pad_token_id` to `eos_token_id`:50256 for open-end generation.\n",
            "Setting `pad_token_id` to `eos_token_id`:50256 for open-end generation.\n",
            "Setting `pad_token_id` to `eos_token_id`:50256 for open-end generation.\n",
            "Setting `pad_token_id` to `eos_token_id`:50256 for open-end generation.\n",
            "Setting `pad_token_id` to `eos_token_id`:50256 for open-end generation.\n",
            "Setting `pad_token_id` to `eos_token_id`:50256 for open-end generation.\n",
            "Setting `pad_token_id` to `eos_token_id`:50256 for open-end generation.\n",
            "Setting `pad_token_id` to `eos_token_id`:50256 for open-end generation.\n",
            "Setting `pad_token_id` to `eos_token_id`:50256 for open-end generation.\n",
            "Setting `pad_token_id` to `eos_token_id`:50256 for open-end generation.\n",
            "Setting `pad_token_id` to `eos_token_id`:50256 for open-end generation.\n"
          ]
        },
        {
          "output_type": "stream",
          "name": "stdout",
          "text": [
            "Generated Recipe 1:\n",
            "Make and, chill, crust., Combine, 1, teaspoon vanilla and 1 1/2 teaspoons oil in a large bowl; beat, together 1 beaten egg and 1 teaspoon cinnamon mixture until, blended, moistened., Stir in remaining vanilla and cinnamon mixture; fold in crumbled apples; and press into a 9 x 13-inch pan and bake at 350\\u00b0 for 40 minutes.  Preheat oven to 400\\u00b0., Prepare pastry shell by rolling into 1/8-inch balls., Put a layer of pastry in the first set of rings, then in the other ring, covering the rings; spread\n",
            "\n",
            "Generated Recipe 2:\n",
            "Stir Velveeta and salsa in saucepan until light and fluffy., Combine chips, margarine, soup, cheese, salt and pepper., Pour over veggies and mix until cheese and soup mixture is coated., Cool in refrigerator for about 5 minutes, watching closely for chip flavors to harden., Serve with lettuce and tomato if desired.  Cook broccoli, drain., Mix broccoli, broccoli and onion with eggs, curry powder and Parmesan cheese., Blend in crumbled bacon., Pour in casserole dish., Bake at 350\\u00b0 for 10 to 15 minutes for oven-safe noodles.  Saute chicken and cauliflower\n",
            "\n",
            "Generated Recipe 3:\n",
            "Beat together eggs, sugar and flour., Blend in corn meal, nuts, brown sugar and oats., Stir into egg mixture., Spread into lightly greased 9 x 3-inch baking pan., Bake at 325\\u00b0 for 45 minutes.  Combine flour, baking powder, soda and salt. Beat well., Add yeast; mix well., Beat in oil until very very stiff; pour into greased 8-inch double boiler., Bake at 425\\u00b0 for 10 to 12 minutes.  Beat egg whites until stiff., Add sugar gradually; beat well., Add soda and vanilla., Beat until blended., Knead\n",
            "\n",
            "Generated Recipe 4:\n",
            "Use 1 1/2-quart buttered casserole., Preheat oven to 350\\u00b0., Mix chicken and soup; set aside., Brown hamburger and onion; drain., Chop celery and onion; season with salt and pepper., In a large skillet, brown hamburger with remaining 1/2 of the hot fat., Drain chili seeds; place in single layer in greased baking dish.  Mix all together well., Roll out dough. Wrap in wax paper., Cut 3 or 4 to 8 rolls in size of a walnut. Roll at the end to 1/4-inch thickness., Place on cookie\n",
            "\n",
            "Generated Recipe 5:\n",
            "In one bowl, combine all ingredients and chill.  In medium saucepan, melt all ingredients in a microwave until melted., Mix well., Sprinkle cheese on bottom side with pecans. Pour chopped onion in pan., Let stand several minutes., Dip dip dip in melted butter and bake uncovered at 350\\u00b0 for about 1 hour., Serves 4 to 6.  Cream butter and sugar. Add eggs and vanilla., Add flour and mix well. Fold in dry ingredients, alternating flour 1 time and alternately milk and butter one time., Beat one minute., Sift dry ingredients., Mix with mixer and roll into balls\n",
            "\n",
            "Generated Recipe 6:\n",
            "Sift together the flour, baking soda, cinnamon, cloves, salt, baking powder and baking powder and beat well., Grease large bowl. In medium bowl, blend applesauce, sugar, vanilla and baking powder., Stir in yeast., Knead until dough forms soft ball., Place a round biscuit in a greased bowl., Sprinkle with baking powder., Turn dough upside down on lightly floured surface, but not touching bowl., Knead until smooth and elastic., Knead 3 more minutes, turning once., Cut cookie-sized cut-outs in half into 6 layers., Press evenly over cookie-sized circle\n",
            "\n",
            "Generated Recipe 7:\n",
            "Mix in a boiler the sugar, margarine, oil and brown sugar., Combine in a bowl; stir until well mixed., Add a little more sugar until smooth., Shape into balls., Roll in powdered sugar (approximately 30 to 40)., Turn and shake gently to make 1 ball., Store in airtight container; freeze., Refrigerate.  Combine first 5 ingredients in a large mixing bowl., Stir at medium speed until just mixed., Combine all ingredients and sift together., Shape into a ball and roll in cherry pie filling., Can be doubled or tripled.  In two Dutch oven 1 to 2 pounds of meat mix and one pound\n",
            "\n",
            "Generated Recipe 8:\n",
            "Saute garlic and onion in olive oil in a Dutch oven until soft., Add tomatoes, corn, green pepper and tomatoes., Mix and pour into 9-inch x 9-inch baking pan., Mix with tortillas and pour into pan. Bake until brown and bubbly on both sides., Add cheese and bake until cheese melts on both sides., Serve warm.  In 9 x 13-inch pan, put 1 1/2 cups flour, 1/4 cup baking powder, and the onion., Bring about 2 cups water to a boil. Remove., Place over 2 quarts of water; let boil in saucepan for 1 minute.,\n",
            "\n",
            "Generated Recipe 9:\n",
            "Put in a covered 1 1/2-quart casserole dish., Bake at 350\\u00b0 for 45 minutes or until knife inserted in center comes out clean., Serves 6 to 8.  Melt butter in 9 x 13-inch pan., Brown onion in oil., Add mushrooms, chicken, garlic, salt and pepper., Season with salt., Sprinkle with paprika., Cook until rice bubbles., Pour over mushrooms and vegetables., Pour over noodles., Bake at 350\\u00b0 for 40 minutes for spaghetti or spaghetti sauce to come to room temperature.  Heat oil in a large skillet over medium-high heat\n",
            "\n",
            "Generated Recipe 10:\n",
            "Mix all ingredients well., Pour into greased casserole., Bake at 350\\u00b0 for 35 to 40 minutes or until bubbly and brown., Sprinkle with powdered sugar., Yields 6 servings.  Cook macaroni in salted water for about 30 minutes., Remove from heat., Mix cream cheese, Worcestershire sauce and egg., Pour over macaroni., Bake at 350\\u00b0 for 55 to 60 minutes., Serves 2 (8 ounce) or 4 (8 ounce) servings.  Melt chocolate chips., Beat until very smooth; add sugar., Combine all other ingredients;\n",
            "\n",
            "Generated Recipe 11:\n",
            "Drain pineapple reserving 6 Tbsp juice. Blend in sour cream and serve.  Mix all together, using 1 stick of butter or margarine 1/2 hour.  Drain rice in kettle., Mash with fork., Add salt to taste., Set aside., Place eggs in a small dish., Saute garlic, sage and onion in sugar until soft., Combine with all remaining ingredients. Pour into well-greased baking dish., Bake in 350\\u00b0 oven for 1 hour or until slightly browned (about 1 hour).  Boil chicken breast about 30 minutes., Turn into prepared 9 x 13-inch pan.,\n",
            "\n",
            "Generated Recipe 12:\n",
            "Strip husks down to the end (about 1/4-inch thick), then add milk and vanilla mix., Simmer for 25 to 30 minutes, stirring often., Then remove and beat with a fork until it smooths out., In a bowl mix cake mix in one bowl and set aside., Mix in the remaining ingredients, except for butter, and spread over cake., Let stand for 10 minutes., Spread with crushed corn flakes., Chill (at least 3 hours before serving)., Yields 1 pint., Best served over rice or noodles.  Saute onion in butter and add salt and pepper., Cook until wilted.,\n",
            "\n",
            "Generated Recipe 13:\n",
            "Combine and heat until smooth, peanut butter glaze is set., Serve over crackers.  In mixing bowl, pour margarine, sugar, cocoa and butter mixture over mixture while hot. Combine flour, sugar and salt in a separate bowl., Beat eggs and add milk gradually., Stir in nuts and coconut. Shape mixture in balls., Place on greased cookie sheet., Bake for 40 minutes or until cookie balls are brown on top.  Crush crackers on cookie sheet., Place in microwave hot water and heat 4 to 5 minutes and stirring until brown., Add chocolate sauce and mix well., Stir in peanuts, buttermilk, soda\n",
            "\n",
            "Generated Recipe 14:\n",
            "Preheat oven to 350\\u00b0., In large mixing bowl, combine flour, baking powder and salt., In another bowl, set aside., In a large bowl, add egg yolks, milk, cornflakes, butter and vanilla., Mix well., Spoon dough into lightly greased baking dish., Bake at 400\\u00b0 for approximately 12 minutes., Top with a slice of lemonade and bake about 30 minutes longer., Makes 8 servings.  Mix pudding together and add crumbs., Put in casserole in a 13 x 9 x 2-inch rectangle about the size of a walnut., Bake\n",
            "\n",
            "Generated Recipe 15:\n",
            "Melt butter in skillet, add onion and cook over medium heat for 8 to 10 minutes, stirring often., Reduce heat and continue cooking 5 more minutes., Stir once or more, stirring occasionally as the vegetables brown, adding more butter to the skillet. Cover and cook a few minutes longer in skillet, stirring frequently until tomatoes are almost tender. Remove from heat and brown again on top of heat. Add salt, pepper and paprika to taste., Add mushrooms. Serve hot or hot.  Mix ingredients in small bowl., Roll into 1-inch balls and place on ungreased cookie sheet. Bake about 30 minutes until set; cool.,\n",
            "\n",
            "Generated Recipe 16:\n",
            "In large bowl, stir together first 3 ingredients and invert onto greased and floured Bundt pan. Press remaining dough into pan gently., Roll out 1/2-inch on 1-inch thick baking sheet, then cut out crosswise., Bake at 350\\u00b0 for 40 minutes.  Preheat oven to 250\\u00b0., Grease and flour a loaf pan, 8 x 8 x 2-inch., Set it on a lightly buttered sheet with enough water to cover it., Beat egg whites with sugar until fluffy., Add milk; beat until smooth., Add remaining 1 tablespoon flour., Bake,\n",
            "\n",
            "Generated Recipe 17:\n",
            "Bake at 300\\u00b0 for 1 hour. The crust starts to brown just before cooking.  Blend all ingredients, except the cake mix, together., Pour into 8 or 9-inch pie pan. Mix cream cheese, peanut butter, eggs and vanilla together, then put in top crust. Wrap and chill for several hours or overnight in refrigerator.  Sift together all dry ingredients., Put in pie shell and bake at 375\\u00b0 for 10 minutes. Cool., Mix milk, pudding, ginger ale and pineapple., Pour into pie shell., Cook at 375\\u00b0 for 30 minutes; cool\n",
            "\n",
            "Generated Recipe 18:\n",
            "Mix everything together, except for cheese., Place in crock-pot and let simmer until cheese melts.  Bring water, sugar and cornstarch to a boil., Remove from heat., Add cocoa and butter., Dissolve alum in water. Mix well., Stir in remaining ingredients alternately with milk, and then pour into greased 9 x 9-inch pan. Bake at 350\\u00b0 until golden brown.  Beat egg whites in mixer until stiff peaks form, then quickly cream sugar, cream of tartar, and water., Add vanilla and pecans., Drop by teaspoon on greased cookie sheet., Bake at\n",
            "\n",
            "Generated Recipe 19:\n",
            "Combine all ingredients in a saucepan., Bring to a boil., Boil gently until thickened., Add all other ingredients to saucepan., Cook until thickened., Remove from heat., Remove from heat., Stir in gelatin., Add to gelatin mixture. Toss lightly., Drop by teaspoons onto waxed paper., May be placed in refrigerator for storage., May be frozen for future use.  Cut potatoes in small pieces., Melt butter, sugar and eggs in bottom of wok., Fold in flour. Stir until all are mixed., Layer potatoes and butter., Top with remaining flour., Bake at 325\\u00b0 for 45 minutes\n",
            "\n",
            "Generated Recipe 20:\n",
            "Thoroughly combine 1/2 cup milk, egg and cheese. Set aside until cheese melts.  Beat eggs., Add milk slowly. Add flour., Sift together dry ingredients., Add to first mixture., Add to first mixture alternately with milk to form dough., Roll dough into 1-inch balls., Place a large pan in a warm place., Bring water to a boil over low heat., Let rise 15 to 20 minutes or until ball forms on surface. Turn dough over and let cool.  Heat oven to 350\\u00b0., Mix first mixture., Stir in raisins., Spread in a 9 x 13-\n",
            "\n",
            "['Make and, chill, crust., Combine, 1, teaspoon vanilla and 1 1/2 teaspoons oil in a large bowl; beat, together 1 beaten egg and 1 teaspoon cinnamon mixture until, blended, moistened., Stir in remaining vanilla and cinnamon mixture; fold in crumbled apples; and press into a 9 x 13-inch pan and bake at 350\\\\u00b0 for 40 minutes.  Preheat oven to 400\\\\u00b0., Prepare pastry shell by rolling into 1/8-inch balls., Put a layer of pastry in the first set of rings, then in the other ring, covering the rings; spread', 'Stir Velveeta and salsa in saucepan until light and fluffy., Combine chips, margarine, soup, cheese, salt and pepper., Pour over veggies and mix until cheese and soup mixture is coated., Cool in refrigerator for about 5 minutes, watching closely for chip flavors to harden., Serve with lettuce and tomato if desired.  Cook broccoli, drain., Mix broccoli, broccoli and onion with eggs, curry powder and Parmesan cheese., Blend in crumbled bacon., Pour in casserole dish., Bake at 350\\\\u00b0 for 10 to 15 minutes for oven-safe noodles.  Saute chicken and cauliflower', 'Beat together eggs, sugar and flour., Blend in corn meal, nuts, brown sugar and oats., Stir into egg mixture., Spread into lightly greased 9 x 3-inch baking pan., Bake at 325\\\\u00b0 for 45 minutes.  Combine flour, baking powder, soda and salt. Beat well., Add yeast; mix well., Beat in oil until very very stiff; pour into greased 8-inch double boiler., Bake at 425\\\\u00b0 for 10 to 12 minutes.  Beat egg whites until stiff., Add sugar gradually; beat well., Add soda and vanilla., Beat until blended., Knead', 'Use 1 1/2-quart buttered casserole., Preheat oven to 350\\\\u00b0., Mix chicken and soup; set aside., Brown hamburger and onion; drain., Chop celery and onion; season with salt and pepper., In a large skillet, brown hamburger with remaining 1/2 of the hot fat., Drain chili seeds; place in single layer in greased baking dish.  Mix all together well., Roll out dough. Wrap in wax paper., Cut 3 or 4 to 8 rolls in size of a walnut. Roll at the end to 1/4-inch thickness., Place on cookie', 'In one bowl, combine all ingredients and chill.  In medium saucepan, melt all ingredients in a microwave until melted., Mix well., Sprinkle cheese on bottom side with pecans. Pour chopped onion in pan., Let stand several minutes., Dip dip dip in melted butter and bake uncovered at 350\\\\u00b0 for about 1 hour., Serves 4 to 6.  Cream butter and sugar. Add eggs and vanilla., Add flour and mix well. Fold in dry ingredients, alternating flour 1 time and alternately milk and butter one time., Beat one minute., Sift dry ingredients., Mix with mixer and roll into balls', 'Sift together the flour, baking soda, cinnamon, cloves, salt, baking powder and baking powder and beat well., Grease large bowl. In medium bowl, blend applesauce, sugar, vanilla and baking powder., Stir in yeast., Knead until dough forms soft ball., Place a round biscuit in a greased bowl., Sprinkle with baking powder., Turn dough upside down on lightly floured surface, but not touching bowl., Knead until smooth and elastic., Knead 3 more minutes, turning once., Cut cookie-sized cut-outs in half into 6 layers., Press evenly over cookie-sized circle', 'Mix in a boiler the sugar, margarine, oil and brown sugar., Combine in a bowl; stir until well mixed., Add a little more sugar until smooth., Shape into balls., Roll in powdered sugar (approximately 30 to 40)., Turn and shake gently to make 1 ball., Store in airtight container; freeze., Refrigerate.  Combine first 5 ingredients in a large mixing bowl., Stir at medium speed until just mixed., Combine all ingredients and sift together., Shape into a ball and roll in cherry pie filling., Can be doubled or tripled.  In two Dutch oven 1 to 2 pounds of meat mix and one pound', 'Saute garlic and onion in olive oil in a Dutch oven until soft., Add tomatoes, corn, green pepper and tomatoes., Mix and pour into 9-inch x 9-inch baking pan., Mix with tortillas and pour into pan. Bake until brown and bubbly on both sides., Add cheese and bake until cheese melts on both sides., Serve warm.  In 9 x 13-inch pan, put 1 1/2 cups flour, 1/4 cup baking powder, and the onion., Bring about 2 cups water to a boil. Remove., Place over 2 quarts of water; let boil in saucepan for 1 minute.,', 'Put in a covered 1 1/2-quart casserole dish., Bake at 350\\\\u00b0 for 45 minutes or until knife inserted in center comes out clean., Serves 6 to 8.  Melt butter in 9 x 13-inch pan., Brown onion in oil., Add mushrooms, chicken, garlic, salt and pepper., Season with salt., Sprinkle with paprika., Cook until rice bubbles., Pour over mushrooms and vegetables., Pour over noodles., Bake at 350\\\\u00b0 for 40 minutes for spaghetti or spaghetti sauce to come to room temperature.  Heat oil in a large skillet over medium-high heat', 'Mix all ingredients well., Pour into greased casserole., Bake at 350\\\\u00b0 for 35 to 40 minutes or until bubbly and brown., Sprinkle with powdered sugar., Yields 6 servings.  Cook macaroni in salted water for about 30 minutes., Remove from heat., Mix cream cheese, Worcestershire sauce and egg., Pour over macaroni., Bake at 350\\\\u00b0 for 55 to 60 minutes., Serves 2 (8 ounce) or 4 (8 ounce) servings.  Melt chocolate chips., Beat until very smooth; add sugar., Combine all other ingredients;', 'Drain pineapple reserving 6 Tbsp juice. Blend in sour cream and serve.  Mix all together, using 1 stick of butter or margarine 1/2 hour.  Drain rice in kettle., Mash with fork., Add salt to taste., Set aside., Place eggs in a small dish., Saute garlic, sage and onion in sugar until soft., Combine with all remaining ingredients. Pour into well-greased baking dish., Bake in 350\\\\u00b0 oven for 1 hour or until slightly browned (about 1 hour).  Boil chicken breast about 30 minutes., Turn into prepared 9 x 13-inch pan.,', 'Strip husks down to the end (about 1/4-inch thick), then add milk and vanilla mix., Simmer for 25 to 30 minutes, stirring often., Then remove and beat with a fork until it smooths out., In a bowl mix cake mix in one bowl and set aside., Mix in the remaining ingredients, except for butter, and spread over cake., Let stand for 10 minutes., Spread with crushed corn flakes., Chill (at least 3 hours before serving)., Yields 1 pint., Best served over rice or noodles.  Saute onion in butter and add salt and pepper., Cook until wilted.,', 'Combine and heat until smooth, peanut butter glaze is set., Serve over crackers.  In mixing bowl, pour margarine, sugar, cocoa and butter mixture over mixture while hot. Combine flour, sugar and salt in a separate bowl., Beat eggs and add milk gradually., Stir in nuts and coconut. Shape mixture in balls., Place on greased cookie sheet., Bake for 40 minutes or until cookie balls are brown on top.  Crush crackers on cookie sheet., Place in microwave hot water and heat 4 to 5 minutes and stirring until brown., Add chocolate sauce and mix well., Stir in peanuts, buttermilk, soda', 'Preheat oven to 350\\\\u00b0., In large mixing bowl, combine flour, baking powder and salt., In another bowl, set aside., In a large bowl, add egg yolks, milk, cornflakes, butter and vanilla., Mix well., Spoon dough into lightly greased baking dish., Bake at 400\\\\u00b0 for approximately 12 minutes., Top with a slice of lemonade and bake about 30 minutes longer., Makes 8 servings.  Mix pudding together and add crumbs., Put in casserole in a 13 x 9 x 2-inch rectangle about the size of a walnut., Bake', 'Melt butter in skillet, add onion and cook over medium heat for 8 to 10 minutes, stirring often., Reduce heat and continue cooking 5 more minutes., Stir once or more, stirring occasionally as the vegetables brown, adding more butter to the skillet. Cover and cook a few minutes longer in skillet, stirring frequently until tomatoes are almost tender. Remove from heat and brown again on top of heat. Add salt, pepper and paprika to taste., Add mushrooms. Serve hot or hot.  Mix ingredients in small bowl., Roll into 1-inch balls and place on ungreased cookie sheet. Bake about 30 minutes until set; cool.,', 'In large bowl, stir together first 3 ingredients and invert onto greased and floured Bundt pan. Press remaining dough into pan gently., Roll out 1/2-inch on 1-inch thick baking sheet, then cut out crosswise., Bake at 350\\\\u00b0 for 40 minutes.  Preheat oven to 250\\\\u00b0., Grease and flour a loaf pan, 8 x 8 x 2-inch., Set it on a lightly buttered sheet with enough water to cover it., Beat egg whites with sugar until fluffy., Add milk; beat until smooth., Add remaining 1 tablespoon flour., Bake,', 'Bake at 300\\\\u00b0 for 1 hour. The crust starts to brown just before cooking.  Blend all ingredients, except the cake mix, together., Pour into 8 or 9-inch pie pan. Mix cream cheese, peanut butter, eggs and vanilla together, then put in top crust. Wrap and chill for several hours or overnight in refrigerator.  Sift together all dry ingredients., Put in pie shell and bake at 375\\\\u00b0 for 10 minutes. Cool., Mix milk, pudding, ginger ale and pineapple., Pour into pie shell., Cook at 375\\\\u00b0 for 30 minutes; cool', 'Mix everything together, except for cheese., Place in crock-pot and let simmer until cheese melts.  Bring water, sugar and cornstarch to a boil., Remove from heat., Add cocoa and butter., Dissolve alum in water. Mix well., Stir in remaining ingredients alternately with milk, and then pour into greased 9 x 9-inch pan. Bake at 350\\\\u00b0 until golden brown.  Beat egg whites in mixer until stiff peaks form, then quickly cream sugar, cream of tartar, and water., Add vanilla and pecans., Drop by teaspoon on greased cookie sheet., Bake at', 'Combine all ingredients in a saucepan., Bring to a boil., Boil gently until thickened., Add all other ingredients to saucepan., Cook until thickened., Remove from heat., Remove from heat., Stir in gelatin., Add to gelatin mixture. Toss lightly., Drop by teaspoons onto waxed paper., May be placed in refrigerator for storage., May be frozen for future use.  Cut potatoes in small pieces., Melt butter, sugar and eggs in bottom of wok., Fold in flour. Stir until all are mixed., Layer potatoes and butter., Top with remaining flour., Bake at 325\\\\u00b0 for 45 minutes', 'Thoroughly combine 1/2 cup milk, egg and cheese. Set aside until cheese melts.  Beat eggs., Add milk slowly. Add flour., Sift together dry ingredients., Add to first mixture., Add to first mixture alternately with milk to form dough., Roll dough into 1-inch balls., Place a large pan in a warm place., Bring water to a boil over low heat., Let rise 15 to 20 minutes or until ball forms on surface. Turn dough over and let cool.  Heat oven to 350\\\\u00b0., Mix first mixture., Stir in raisins., Spread in a 9 x 13-']\n"
          ]
        }
      ]
    },
    {
      "cell_type": "code",
      "source": [
        "print(list_of_generated_recipes)"
      ],
      "metadata": {
        "colab": {
          "base_uri": "https://localhost:8080/"
        },
        "id": "qYF2P0_L2XiN",
        "outputId": "2c618cb5-a126-49eb-a80d-d658024c3dcb"
      },
      "execution_count": 78,
      "outputs": [
        {
          "output_type": "stream",
          "name": "stdout",
          "text": [
            "['Make and, chill, crust., Combine, 1, teaspoon vanilla and 1 1/2 teaspoons oil in a large bowl; beat, together 1 beaten egg and 1 teaspoon cinnamon mixture until, blended, moistened., Stir in remaining vanilla and cinnamon mixture; fold in crumbled apples; and press into a 9 x 13-inch pan and bake at 350\\\\u00b0 for 40 minutes.  Preheat oven to 400\\\\u00b0., Prepare pastry shell by rolling into 1/8-inch balls., Put a layer of pastry in the first set of rings, then in the other ring, covering the rings; spread', 'Stir Velveeta and salsa in saucepan until light and fluffy., Combine chips, margarine, soup, cheese, salt and pepper., Pour over veggies and mix until cheese and soup mixture is coated., Cool in refrigerator for about 5 minutes, watching closely for chip flavors to harden., Serve with lettuce and tomato if desired.  Cook broccoli, drain., Mix broccoli, broccoli and onion with eggs, curry powder and Parmesan cheese., Blend in crumbled bacon., Pour in casserole dish., Bake at 350\\\\u00b0 for 10 to 15 minutes for oven-safe noodles.  Saute chicken and cauliflower', 'Beat together eggs, sugar and flour., Blend in corn meal, nuts, brown sugar and oats., Stir into egg mixture., Spread into lightly greased 9 x 3-inch baking pan., Bake at 325\\\\u00b0 for 45 minutes.  Combine flour, baking powder, soda and salt. Beat well., Add yeast; mix well., Beat in oil until very very stiff; pour into greased 8-inch double boiler., Bake at 425\\\\u00b0 for 10 to 12 minutes.  Beat egg whites until stiff., Add sugar gradually; beat well., Add soda and vanilla., Beat until blended., Knead', 'Use 1 1/2-quart buttered casserole., Preheat oven to 350\\\\u00b0., Mix chicken and soup; set aside., Brown hamburger and onion; drain., Chop celery and onion; season with salt and pepper., In a large skillet, brown hamburger with remaining 1/2 of the hot fat., Drain chili seeds; place in single layer in greased baking dish.  Mix all together well., Roll out dough. Wrap in wax paper., Cut 3 or 4 to 8 rolls in size of a walnut. Roll at the end to 1/4-inch thickness., Place on cookie', 'In one bowl, combine all ingredients and chill.  In medium saucepan, melt all ingredients in a microwave until melted., Mix well., Sprinkle cheese on bottom side with pecans. Pour chopped onion in pan., Let stand several minutes., Dip dip dip in melted butter and bake uncovered at 350\\\\u00b0 for about 1 hour., Serves 4 to 6.  Cream butter and sugar. Add eggs and vanilla., Add flour and mix well. Fold in dry ingredients, alternating flour 1 time and alternately milk and butter one time., Beat one minute., Sift dry ingredients., Mix with mixer and roll into balls', 'Sift together the flour, baking soda, cinnamon, cloves, salt, baking powder and baking powder and beat well., Grease large bowl. In medium bowl, blend applesauce, sugar, vanilla and baking powder., Stir in yeast., Knead until dough forms soft ball., Place a round biscuit in a greased bowl., Sprinkle with baking powder., Turn dough upside down on lightly floured surface, but not touching bowl., Knead until smooth and elastic., Knead 3 more minutes, turning once., Cut cookie-sized cut-outs in half into 6 layers., Press evenly over cookie-sized circle', 'Mix in a boiler the sugar, margarine, oil and brown sugar., Combine in a bowl; stir until well mixed., Add a little more sugar until smooth., Shape into balls., Roll in powdered sugar (approximately 30 to 40)., Turn and shake gently to make 1 ball., Store in airtight container; freeze., Refrigerate.  Combine first 5 ingredients in a large mixing bowl., Stir at medium speed until just mixed., Combine all ingredients and sift together., Shape into a ball and roll in cherry pie filling., Can be doubled or tripled.  In two Dutch oven 1 to 2 pounds of meat mix and one pound', 'Saute garlic and onion in olive oil in a Dutch oven until soft., Add tomatoes, corn, green pepper and tomatoes., Mix and pour into 9-inch x 9-inch baking pan., Mix with tortillas and pour into pan. Bake until brown and bubbly on both sides., Add cheese and bake until cheese melts on both sides., Serve warm.  In 9 x 13-inch pan, put 1 1/2 cups flour, 1/4 cup baking powder, and the onion., Bring about 2 cups water to a boil. Remove., Place over 2 quarts of water; let boil in saucepan for 1 minute.,', 'Put in a covered 1 1/2-quart casserole dish., Bake at 350\\\\u00b0 for 45 minutes or until knife inserted in center comes out clean., Serves 6 to 8.  Melt butter in 9 x 13-inch pan., Brown onion in oil., Add mushrooms, chicken, garlic, salt and pepper., Season with salt., Sprinkle with paprika., Cook until rice bubbles., Pour over mushrooms and vegetables., Pour over noodles., Bake at 350\\\\u00b0 for 40 minutes for spaghetti or spaghetti sauce to come to room temperature.  Heat oil in a large skillet over medium-high heat', 'Mix all ingredients well., Pour into greased casserole., Bake at 350\\\\u00b0 for 35 to 40 minutes or until bubbly and brown., Sprinkle with powdered sugar., Yields 6 servings.  Cook macaroni in salted water for about 30 minutes., Remove from heat., Mix cream cheese, Worcestershire sauce and egg., Pour over macaroni., Bake at 350\\\\u00b0 for 55 to 60 minutes., Serves 2 (8 ounce) or 4 (8 ounce) servings.  Melt chocolate chips., Beat until very smooth; add sugar., Combine all other ingredients;', 'Drain pineapple reserving 6 Tbsp juice. Blend in sour cream and serve.  Mix all together, using 1 stick of butter or margarine 1/2 hour.  Drain rice in kettle., Mash with fork., Add salt to taste., Set aside., Place eggs in a small dish., Saute garlic, sage and onion in sugar until soft., Combine with all remaining ingredients. Pour into well-greased baking dish., Bake in 350\\\\u00b0 oven for 1 hour or until slightly browned (about 1 hour).  Boil chicken breast about 30 minutes., Turn into prepared 9 x 13-inch pan.,', 'Strip husks down to the end (about 1/4-inch thick), then add milk and vanilla mix., Simmer for 25 to 30 minutes, stirring often., Then remove and beat with a fork until it smooths out., In a bowl mix cake mix in one bowl and set aside., Mix in the remaining ingredients, except for butter, and spread over cake., Let stand for 10 minutes., Spread with crushed corn flakes., Chill (at least 3 hours before serving)., Yields 1 pint., Best served over rice or noodles.  Saute onion in butter and add salt and pepper., Cook until wilted.,', 'Combine and heat until smooth, peanut butter glaze is set., Serve over crackers.  In mixing bowl, pour margarine, sugar, cocoa and butter mixture over mixture while hot. Combine flour, sugar and salt in a separate bowl., Beat eggs and add milk gradually., Stir in nuts and coconut. Shape mixture in balls., Place on greased cookie sheet., Bake for 40 minutes or until cookie balls are brown on top.  Crush crackers on cookie sheet., Place in microwave hot water and heat 4 to 5 minutes and stirring until brown., Add chocolate sauce and mix well., Stir in peanuts, buttermilk, soda', 'Preheat oven to 350\\\\u00b0., In large mixing bowl, combine flour, baking powder and salt., In another bowl, set aside., In a large bowl, add egg yolks, milk, cornflakes, butter and vanilla., Mix well., Spoon dough into lightly greased baking dish., Bake at 400\\\\u00b0 for approximately 12 minutes., Top with a slice of lemonade and bake about 30 minutes longer., Makes 8 servings.  Mix pudding together and add crumbs., Put in casserole in a 13 x 9 x 2-inch rectangle about the size of a walnut., Bake', 'Melt butter in skillet, add onion and cook over medium heat for 8 to 10 minutes, stirring often., Reduce heat and continue cooking 5 more minutes., Stir once or more, stirring occasionally as the vegetables brown, adding more butter to the skillet. Cover and cook a few minutes longer in skillet, stirring frequently until tomatoes are almost tender. Remove from heat and brown again on top of heat. Add salt, pepper and paprika to taste., Add mushrooms. Serve hot or hot.  Mix ingredients in small bowl., Roll into 1-inch balls and place on ungreased cookie sheet. Bake about 30 minutes until set; cool.,', 'In large bowl, stir together first 3 ingredients and invert onto greased and floured Bundt pan. Press remaining dough into pan gently., Roll out 1/2-inch on 1-inch thick baking sheet, then cut out crosswise., Bake at 350\\\\u00b0 for 40 minutes.  Preheat oven to 250\\\\u00b0., Grease and flour a loaf pan, 8 x 8 x 2-inch., Set it on a lightly buttered sheet with enough water to cover it., Beat egg whites with sugar until fluffy., Add milk; beat until smooth., Add remaining 1 tablespoon flour., Bake,', 'Bake at 300\\\\u00b0 for 1 hour. The crust starts to brown just before cooking.  Blend all ingredients, except the cake mix, together., Pour into 8 or 9-inch pie pan. Mix cream cheese, peanut butter, eggs and vanilla together, then put in top crust. Wrap and chill for several hours or overnight in refrigerator.  Sift together all dry ingredients., Put in pie shell and bake at 375\\\\u00b0 for 10 minutes. Cool., Mix milk, pudding, ginger ale and pineapple., Pour into pie shell., Cook at 375\\\\u00b0 for 30 minutes; cool', 'Mix everything together, except for cheese., Place in crock-pot and let simmer until cheese melts.  Bring water, sugar and cornstarch to a boil., Remove from heat., Add cocoa and butter., Dissolve alum in water. Mix well., Stir in remaining ingredients alternately with milk, and then pour into greased 9 x 9-inch pan. Bake at 350\\\\u00b0 until golden brown.  Beat egg whites in mixer until stiff peaks form, then quickly cream sugar, cream of tartar, and water., Add vanilla and pecans., Drop by teaspoon on greased cookie sheet., Bake at', 'Combine all ingredients in a saucepan., Bring to a boil., Boil gently until thickened., Add all other ingredients to saucepan., Cook until thickened., Remove from heat., Remove from heat., Stir in gelatin., Add to gelatin mixture. Toss lightly., Drop by teaspoons onto waxed paper., May be placed in refrigerator for storage., May be frozen for future use.  Cut potatoes in small pieces., Melt butter, sugar and eggs in bottom of wok., Fold in flour. Stir until all are mixed., Layer potatoes and butter., Top with remaining flour., Bake at 325\\\\u00b0 for 45 minutes', 'Thoroughly combine 1/2 cup milk, egg and cheese. Set aside until cheese melts.  Beat eggs., Add milk slowly. Add flour., Sift together dry ingredients., Add to first mixture., Add to first mixture alternately with milk to form dough., Roll dough into 1-inch balls., Place a large pan in a warm place., Bring water to a boil over low heat., Let rise 15 to 20 minutes or until ball forms on surface. Turn dough over and let cool.  Heat oven to 350\\\\u00b0., Mix first mixture., Stir in raisins., Spread in a 9 x 13-']\n"
          ]
        }
      ]
    },
    {
      "cell_type": "code",
      "source": [
        "print(len(list_of_generated_recipes))"
      ],
      "metadata": {
        "colab": {
          "base_uri": "https://localhost:8080/"
        },
        "id": "-M61BF8K2l5i",
        "outputId": "b902cfd2-d5f4-4bba-c8e2-ac077e1e3dba"
      },
      "execution_count": 82,
      "outputs": [
        {
          "output_type": "stream",
          "name": "stdout",
          "text": [
            "20\n"
          ]
        }
      ]
    },
    {
      "cell_type": "markdown",
      "source": [
        "# **Evaluating Generated Recipes Against Reference Recipes**"
      ],
      "metadata": {
        "id": "i9cKOEzV06kE"
      }
    },
    {
      "cell_type": "code",
      "source": [
        "!pip install rouge_score"
      ],
      "metadata": {
        "colab": {
          "base_uri": "https://localhost:8080/"
        },
        "id": "KOW3lJIp3JR6",
        "outputId": "aa37c86a-6f44-4d4f-dddd-326e71bef372"
      },
      "execution_count": 84,
      "outputs": [
        {
          "output_type": "stream",
          "name": "stdout",
          "text": [
            "Collecting rouge_score\n",
            "  Downloading rouge_score-0.1.2.tar.gz (17 kB)\n",
            "  Preparing metadata (setup.py) ... \u001b[?25l\u001b[?25hdone\n",
            "Requirement already satisfied: absl-py in /usr/local/lib/python3.10/dist-packages (from rouge_score) (1.4.0)\n",
            "Requirement already satisfied: nltk in /usr/local/lib/python3.10/dist-packages (from rouge_score) (3.8.1)\n",
            "Requirement already satisfied: numpy in /usr/local/lib/python3.10/dist-packages (from rouge_score) (1.23.5)\n",
            "Requirement already satisfied: six>=1.14.0 in /usr/local/lib/python3.10/dist-packages (from rouge_score) (1.16.0)\n",
            "Requirement already satisfied: click in /usr/local/lib/python3.10/dist-packages (from nltk->rouge_score) (8.1.7)\n",
            "Requirement already satisfied: joblib in /usr/local/lib/python3.10/dist-packages (from nltk->rouge_score) (1.3.2)\n",
            "Requirement already satisfied: regex>=2021.8.3 in /usr/local/lib/python3.10/dist-packages (from nltk->rouge_score) (2023.6.3)\n",
            "Requirement already satisfied: tqdm in /usr/local/lib/python3.10/dist-packages (from nltk->rouge_score) (4.66.1)\n",
            "Building wheels for collected packages: rouge_score\n",
            "  Building wheel for rouge_score (setup.py) ... \u001b[?25l\u001b[?25hdone\n",
            "  Created wheel for rouge_score: filename=rouge_score-0.1.2-py3-none-any.whl size=24933 sha256=92b35cf257364adf1909f38609a307fa21c3e207b33a1d779fc5e2e741565198\n",
            "  Stored in directory: /root/.cache/pip/wheels/5f/dd/89/461065a73be61a532ff8599a28e9beef17985c9e9c31e541b4\n",
            "Successfully built rouge_score\n",
            "Installing collected packages: rouge_score\n",
            "Successfully installed rouge_score-0.1.2\n"
          ]
        }
      ]
    },
    {
      "cell_type": "code",
      "source": [
        "!pip install evaluate"
      ],
      "metadata": {
        "colab": {
          "base_uri": "https://localhost:8080/"
        },
        "id": "5KmtYC-H6bqX",
        "outputId": "f6bd1da3-01c0-4d1c-f745-d70d90790fcf"
      },
      "execution_count": 92,
      "outputs": [
        {
          "output_type": "stream",
          "name": "stdout",
          "text": [
            "Collecting evaluate\n",
            "  Downloading evaluate-0.4.1-py3-none-any.whl (84 kB)\n",
            "\u001b[2K     \u001b[90m━━━━━━━━━━━━━━━━━━━━━━━━━━━━━━━━━━━━━━━━\u001b[0m \u001b[32m84.1/84.1 kB\u001b[0m \u001b[31m2.3 MB/s\u001b[0m eta \u001b[36m0:00:00\u001b[0m\n",
            "\u001b[?25hCollecting datasets>=2.0.0 (from evaluate)\n",
            "  Downloading datasets-2.16.1-py3-none-any.whl (507 kB)\n",
            "\u001b[2K     \u001b[90m━━━━━━━━━━━━━━━━━━━━━━━━━━━━━━━━━━━━━━━━\u001b[0m \u001b[32m507.1/507.1 kB\u001b[0m \u001b[31m11.2 MB/s\u001b[0m eta \u001b[36m0:00:00\u001b[0m\n",
            "\u001b[?25hRequirement already satisfied: numpy>=1.17 in /usr/local/lib/python3.10/dist-packages (from evaluate) (1.23.5)\n",
            "Collecting dill (from evaluate)\n",
            "  Downloading dill-0.3.7-py3-none-any.whl (115 kB)\n",
            "\u001b[2K     \u001b[90m━━━━━━━━━━━━━━━━━━━━━━━━━━━━━━━━━━━━━━━━\u001b[0m \u001b[32m115.3/115.3 kB\u001b[0m \u001b[31m15.2 MB/s\u001b[0m eta \u001b[36m0:00:00\u001b[0m\n",
            "\u001b[?25hRequirement already satisfied: pandas in /usr/local/lib/python3.10/dist-packages (from evaluate) (1.5.3)\n",
            "Requirement already satisfied: requests>=2.19.0 in /usr/local/lib/python3.10/dist-packages (from evaluate) (2.31.0)\n",
            "Requirement already satisfied: tqdm>=4.62.1 in /usr/local/lib/python3.10/dist-packages (from evaluate) (4.66.1)\n",
            "Requirement already satisfied: xxhash in /usr/local/lib/python3.10/dist-packages (from evaluate) (3.4.1)\n",
            "Collecting multiprocess (from evaluate)\n",
            "  Downloading multiprocess-0.70.15-py310-none-any.whl (134 kB)\n",
            "\u001b[2K     \u001b[90m━━━━━━━━━━━━━━━━━━━━━━━━━━━━━━━━━━━━━━━━\u001b[0m \u001b[32m134.8/134.8 kB\u001b[0m \u001b[31m11.3 MB/s\u001b[0m eta \u001b[36m0:00:00\u001b[0m\n",
            "\u001b[?25hRequirement already satisfied: fsspec[http]>=2021.05.0 in /usr/local/lib/python3.10/dist-packages (from evaluate) (2023.6.0)\n",
            "Requirement already satisfied: huggingface-hub>=0.7.0 in /usr/local/lib/python3.10/dist-packages (from evaluate) (0.20.1)\n",
            "Requirement already satisfied: packaging in /usr/local/lib/python3.10/dist-packages (from evaluate) (23.2)\n",
            "Collecting responses<0.19 (from evaluate)\n",
            "  Downloading responses-0.18.0-py3-none-any.whl (38 kB)\n",
            "Requirement already satisfied: filelock in /usr/local/lib/python3.10/dist-packages (from datasets>=2.0.0->evaluate) (3.13.1)\n",
            "Requirement already satisfied: pyarrow>=8.0.0 in /usr/local/lib/python3.10/dist-packages (from datasets>=2.0.0->evaluate) (10.0.1)\n",
            "Collecting pyarrow-hotfix (from datasets>=2.0.0->evaluate)\n",
            "  Downloading pyarrow_hotfix-0.6-py3-none-any.whl (7.9 kB)\n",
            "Requirement already satisfied: aiohttp in /usr/local/lib/python3.10/dist-packages (from datasets>=2.0.0->evaluate) (3.9.1)\n",
            "Requirement already satisfied: pyyaml>=5.1 in /usr/local/lib/python3.10/dist-packages (from datasets>=2.0.0->evaluate) (6.0.1)\n",
            "Requirement already satisfied: typing-extensions>=3.7.4.3 in /usr/local/lib/python3.10/dist-packages (from huggingface-hub>=0.7.0->evaluate) (4.5.0)\n",
            "Requirement already satisfied: charset-normalizer<4,>=2 in /usr/local/lib/python3.10/dist-packages (from requests>=2.19.0->evaluate) (3.3.2)\n",
            "Requirement already satisfied: idna<4,>=2.5 in /usr/local/lib/python3.10/dist-packages (from requests>=2.19.0->evaluate) (3.6)\n",
            "Requirement already satisfied: urllib3<3,>=1.21.1 in /usr/local/lib/python3.10/dist-packages (from requests>=2.19.0->evaluate) (2.0.7)\n",
            "Requirement already satisfied: certifi>=2017.4.17 in /usr/local/lib/python3.10/dist-packages (from requests>=2.19.0->evaluate) (2023.11.17)\n",
            "Requirement already satisfied: python-dateutil>=2.8.1 in /usr/local/lib/python3.10/dist-packages (from pandas->evaluate) (2.8.2)\n",
            "Requirement already satisfied: pytz>=2020.1 in /usr/local/lib/python3.10/dist-packages (from pandas->evaluate) (2023.3.post1)\n",
            "Requirement already satisfied: attrs>=17.3.0 in /usr/local/lib/python3.10/dist-packages (from aiohttp->datasets>=2.0.0->evaluate) (23.1.0)\n",
            "Requirement already satisfied: multidict<7.0,>=4.5 in /usr/local/lib/python3.10/dist-packages (from aiohttp->datasets>=2.0.0->evaluate) (6.0.4)\n",
            "Requirement already satisfied: yarl<2.0,>=1.0 in /usr/local/lib/python3.10/dist-packages (from aiohttp->datasets>=2.0.0->evaluate) (1.9.4)\n",
            "Requirement already satisfied: frozenlist>=1.1.1 in /usr/local/lib/python3.10/dist-packages (from aiohttp->datasets>=2.0.0->evaluate) (1.4.1)\n",
            "Requirement already satisfied: aiosignal>=1.1.2 in /usr/local/lib/python3.10/dist-packages (from aiohttp->datasets>=2.0.0->evaluate) (1.3.1)\n",
            "Requirement already satisfied: async-timeout<5.0,>=4.0 in /usr/local/lib/python3.10/dist-packages (from aiohttp->datasets>=2.0.0->evaluate) (4.0.3)\n",
            "Requirement already satisfied: six>=1.5 in /usr/local/lib/python3.10/dist-packages (from python-dateutil>=2.8.1->pandas->evaluate) (1.16.0)\n",
            "Installing collected packages: pyarrow-hotfix, dill, responses, multiprocess, datasets, evaluate\n",
            "Successfully installed datasets-2.16.1 dill-0.3.7 evaluate-0.4.1 multiprocess-0.70.15 pyarrow-hotfix-0.6 responses-0.18.0\n"
          ]
        }
      ]
    },
    {
      "cell_type": "code",
      "source": [
        "!pip install jiwer"
      ],
      "metadata": {
        "colab": {
          "base_uri": "https://localhost:8080/"
        },
        "id": "M1XS3r966y-R",
        "outputId": "bb89584c-17b5-4824-cb19-af319dab1a15"
      },
      "execution_count": 96,
      "outputs": [
        {
          "output_type": "stream",
          "name": "stdout",
          "text": [
            "Collecting jiwer\n",
            "  Downloading jiwer-3.0.3-py3-none-any.whl (21 kB)\n",
            "Requirement already satisfied: click<9.0.0,>=8.1.3 in /usr/local/lib/python3.10/dist-packages (from jiwer) (8.1.7)\n",
            "Collecting rapidfuzz<4,>=3 (from jiwer)\n",
            "  Downloading rapidfuzz-3.6.1-cp310-cp310-manylinux_2_17_x86_64.manylinux2014_x86_64.whl (3.4 MB)\n",
            "\u001b[2K     \u001b[90m━━━━━━━━━━━━━━━━━━━━━━━━━━━━━━━━━━━━━━━━\u001b[0m \u001b[32m3.4/3.4 MB\u001b[0m \u001b[31m16.3 MB/s\u001b[0m eta \u001b[36m0:00:00\u001b[0m\n",
            "\u001b[?25hInstalling collected packages: rapidfuzz, jiwer\n",
            "Successfully installed jiwer-3.0.3 rapidfuzz-3.6.1\n"
          ]
        }
      ]
    },
    {
      "cell_type": "code",
      "source": [
        "from evaluate import load\n",
        "# Load the evaluation metric for Character Error Rate (CER) and Word Error Rate (WER) and Exact Match(em)\n",
        "cer_metric = load(\"cer\")\n",
        "wer_metric = load(\"wer\")\n",
        "meteor = load('meteor')\n",
        "exact_match_metric = load(\"exact_match\")\n",
        "\n",
        "# Load BLEU and ROUGE metrics\n",
        "bleu_metric = load(\"bleu\")\n",
        "rouge_metric = load('rouge')"
      ],
      "metadata": {
        "colab": {
          "base_uri": "https://localhost:8080/",
          "height": 310,
          "referenced_widgets": [
            "deab151f2a5e49299901a4fa088dd8b3",
            "a2b95873768e47d186fdae86c8169aa7",
            "5e8532badee64d9cb0ba0440fd55a7c0",
            "3cf7e8fa0bca4974bb0582bc302f1358",
            "b23579c5825a4196b7b145f4cb8b47f0",
            "37a042ae8b854226bbe30278f615fab2",
            "d43797eb157e4613a9847374cca381c4",
            "f552462ce4d942dc9993c3fe38c862d8",
            "79a32c929b0a4a439be3075f97b5e6cb",
            "9fd80916ea354afeaff5d70f4f21bba1",
            "00cd3a0cf969461c80ad8f80e3addccc",
            "fc6f5c313c14406ca0f4aa59992c34a0",
            "1a1fd000bacd40a488b908ea9bc5cf31",
            "b90e29416fde455c8476157cc2c5d268",
            "838c5f1219d4412c954c2029e969855e",
            "3f4b2921f640452a8704648ac563c60d",
            "e19273718c274a3b9943b6f8079c260a",
            "73af0cb53d7841bbb154813bac8dd015",
            "b3e3735f6eec4512b624cf5d9faabb0b",
            "a40fc9baed754100bf5a6ac9c3942daa",
            "442900f8b6094af49dc50f7205a44bd0",
            "37e05f8b5b2749b38ce65ffe6ed79d17",
            "502bc78156574ead943da40588b85a64",
            "85f1b4ceadec4d10a32805e7cad1e14e",
            "44de0151147a4f6c970335bde60f9982",
            "e7c3fe18bac84b80a9f8426257c9c22e",
            "08bad3cd32474175b4f20c9abdbe3da5",
            "62e34889be314707ad4f1accc54c42cd",
            "46bc13820cef486193d7b227b183b182",
            "f022a27d5ddc456fafdd88f2854a0040",
            "55ccd33dd4624c56b22d47c950c6929e",
            "cd99a904bc3d4aff814309d7d688c4d1",
            "ad42baaebccd4344b453616480003adf",
            "91558dc8c55e4fbf9618fd8be9c0a0ae",
            "1c13f048a1c4431a8129a5cc39359682",
            "e3f915d7110e4346a216ef8ed7399b01",
            "4f0615afe5b340d7beee909ededbe2aa",
            "9c6f2e8e3684440cab25da6f7703a1ef",
            "dea29c0d5380464ebe5989d40bb1105f",
            "47d79526eab341aaa6f72aa13a34708b",
            "a56a65d893124f69bcc497a8488ed024",
            "66d772e79676463bbfc34a3c88466101",
            "ca467ecc72ef411781cae7e590ca3f5f",
            "507e68fe9d3d4835a60a5ab1d0162e15",
            "48730dd369f54e97b65cc17e7c535c10",
            "1af29e6a20984e71a7431b7631ce864a",
            "ec26d7b9ad314a5699395fc3f550d319",
            "4df57c17ac0e44e68771b50894b684aa",
            "c1e30ebbb18644538c0578dad543fcc0",
            "e440f0891ba54f7aafe21301e1740a0d",
            "61066b04332844e9b9911d12a5741c5e",
            "0cffd85ea11c440bb3530b7bdf250776",
            "9af387f68c1d4506a109fdb6113dcfec",
            "0b6ddf5e58a54644b7ed80e8f16a8169",
            "5252c110d5b24ccfa3eb8d434eb7edce",
            "fe36d6f8d6f94a8fabaf16061d616fce",
            "f20659ed9b9f49a8b1cfa14c94088d2e",
            "a72f7ba46a564afbb5162bc422fe9ab6",
            "94113fe802d04ec08b78e199b867c386",
            "d7bf967b8bea49ada074ac4370f8cff1",
            "02b3979a2cde4b849e31c3328d650d2c",
            "02eed5b8305940409bedde8b2d45f3cb",
            "10cb6526516644f486b78b813a441c78",
            "1e520070a6fb4a7eaa66198d3a63e4ac",
            "7abef546378442509e97fc7d9c317572",
            "3e68995117314f84bf7d30e84b78dac9",
            "d77f31aa95e544a8ae635b5cf300915c",
            "f54d8720e9174c78bee8699fd9a55cc7",
            "5d164f39eda94efb82d772aee1d8f485",
            "147d9bf01a184719aa0f223e257912eb",
            "bdb5cf9428bd45908b2c44b42222b90b",
            "b71c0a094fac4f9a9a74783a98674dc2",
            "59accde22a8b4c7a92bf40cfd9a36169",
            "c7c98f9cc59d4f87942d65b35d96fff4",
            "7a9b7420005648eca0c2058f88de8982",
            "58179344cab04eb0bb6d2cba3ac00d04",
            "4867a7a8bc9a4d39b72ba55401ab8e17"
          ]
        },
        "id": "TrF_SmPF6qPU",
        "outputId": "6f3055f4-ffb9-48dc-be86-6bdde0b7a817"
      },
      "execution_count": 97,
      "outputs": [
        {
          "output_type": "display_data",
          "data": {
            "text/plain": [
              "Downloading builder script:   0%|          | 0.00/4.49k [00:00<?, ?B/s]"
            ],
            "application/vnd.jupyter.widget-view+json": {
              "version_major": 2,
              "version_minor": 0,
              "model_id": "deab151f2a5e49299901a4fa088dd8b3"
            }
          },
          "metadata": {}
        },
        {
          "output_type": "display_data",
          "data": {
            "text/plain": [
              "Downloading builder script:   0%|          | 0.00/6.93k [00:00<?, ?B/s]"
            ],
            "application/vnd.jupyter.widget-view+json": {
              "version_major": 2,
              "version_minor": 0,
              "model_id": "fc6f5c313c14406ca0f4aa59992c34a0"
            }
          },
          "metadata": {}
        },
        {
          "output_type": "stream",
          "name": "stderr",
          "text": [
            "[nltk_data] Downloading package wordnet to /root/nltk_data...\n",
            "[nltk_data] Downloading package punkt to /root/nltk_data...\n",
            "[nltk_data]   Unzipping tokenizers/punkt.zip.\n",
            "[nltk_data] Downloading package omw-1.4 to /root/nltk_data...\n"
          ]
        },
        {
          "output_type": "display_data",
          "data": {
            "text/plain": [
              "Downloading builder script:   0%|          | 0.00/5.67k [00:00<?, ?B/s]"
            ],
            "application/vnd.jupyter.widget-view+json": {
              "version_major": 2,
              "version_minor": 0,
              "model_id": "502bc78156574ead943da40588b85a64"
            }
          },
          "metadata": {}
        },
        {
          "output_type": "display_data",
          "data": {
            "text/plain": [
              "Downloading builder script:   0%|          | 0.00/5.94k [00:00<?, ?B/s]"
            ],
            "application/vnd.jupyter.widget-view+json": {
              "version_major": 2,
              "version_minor": 0,
              "model_id": "91558dc8c55e4fbf9618fd8be9c0a0ae"
            }
          },
          "metadata": {}
        },
        {
          "output_type": "display_data",
          "data": {
            "text/plain": [
              "Downloading extra modules:   0%|          | 0.00/1.55k [00:00<?, ?B/s]"
            ],
            "application/vnd.jupyter.widget-view+json": {
              "version_major": 2,
              "version_minor": 0,
              "model_id": "48730dd369f54e97b65cc17e7c535c10"
            }
          },
          "metadata": {}
        },
        {
          "output_type": "display_data",
          "data": {
            "text/plain": [
              "Downloading extra modules:   0%|          | 0.00/3.34k [00:00<?, ?B/s]"
            ],
            "application/vnd.jupyter.widget-view+json": {
              "version_major": 2,
              "version_minor": 0,
              "model_id": "fe36d6f8d6f94a8fabaf16061d616fce"
            }
          },
          "metadata": {}
        },
        {
          "output_type": "display_data",
          "data": {
            "text/plain": [
              "Downloading builder script:   0%|          | 0.00/6.27k [00:00<?, ?B/s]"
            ],
            "application/vnd.jupyter.widget-view+json": {
              "version_major": 2,
              "version_minor": 0,
              "model_id": "d77f31aa95e544a8ae635b5cf300915c"
            }
          },
          "metadata": {}
        }
      ]
    },
    {
      "cell_type": "code",
      "source": [
        "# Calculate Character Error Rate (CER) and Word Error Rate (WER)\n",
        "results_CER = cer_metric.compute(predictions=list_of_generated_recipes, references=list_of_20_examples)\n",
        "results_WER = wer_metric.compute(predictions=list_of_generated_recipes, references=list_of_20_examples)\n",
        "\n",
        "# Calculate Exact Match (EM) and METEOR(M)\n",
        "results_em = exact_match_metric.compute(predictions=list_of_generated_recipes, references=list_of_20_examples)\n",
        "results_met = meteor.compute(predictions=list_of_generated_recipes, references=list_of_20_examples)\n",
        "\n",
        "# Calculate Bilingual Evaluation Understudy (BLEU)\n",
        "results_bleu = bleu_metric.compute(predictions=list_of_generated_recipes, references=list_of_20_examples)"
      ],
      "metadata": {
        "id": "cX_-CAXQ05c-"
      },
      "execution_count": 98,
      "outputs": []
    },
    {
      "cell_type": "markdown",
      "source": [
        "# **Printing evaluation metrics**"
      ],
      "metadata": {
        "id": "MQGVDMuN5jRY"
      }
    },
    {
      "cell_type": "code",
      "source": [
        "print(\"Character Error Rate for Recipe Generation:\", results_CER)\n",
        "print(\"Word Error Rate for Recipe Generation:\",results_WER)\n",
        "print(\"Exact Match for Recipe Generation:\",results_em)\n",
        "print(\"BLEU Score for Recipe Generation:\",results_bleu)\n",
        "print(\"METEOR for Recipe Generation:\",results_met)"
      ],
      "metadata": {
        "colab": {
          "base_uri": "https://localhost:8080/"
        },
        "id": "NeL2eQv45hXx",
        "outputId": "7009ef99-4b74-4f5c-ed77-b41ecd0ba27b"
      },
      "execution_count": 99,
      "outputs": [
        {
          "output_type": "stream",
          "name": "stdout",
          "text": [
            "Character Error Rate for Recipe Generation: 1.5342884431709647\n",
            "Word Error Rate for Recipe Generation: 1.8310961968680088\n",
            "Exact Match for Recipe Generation: {'exact_match': 0.0}\n",
            "BLEU Score for Recipe Generation: {'bleu': 0.10685527548350646, 'precisions': [0.26300927793465106, 0.1252541683611224, 0.07421074210742107, 0.05332782141380736], 'brevity_penalty': 1.0, 'length_ratio': 1.992765273311897, 'translation_length': 2479, 'reference_length': 1244}\n",
            "METEOR for Recipe Generation: {'meteor': 0.30166785600493634}\n"
          ]
        }
      ]
    },
    {
      "cell_type": "code",
      "source": [
        "from rouge_score import rouge_scorer\n",
        "# Initialize the Rouge scorer\n",
        "scorer = rouge_scorer.RougeScorer(['rouge1', 'rouge2', 'rougeL'], use_stemmer=False)\n",
        "\n",
        "# Preprocess the text\n",
        "def preprocess_text(text):\n",
        "    tokens = text.split()\n",
        "    return ' '.join(tokens)\n",
        "\n",
        "# Calculate scores for each pair of predictions and references\n",
        "rouge1_f1_scores = []\n",
        "rouge1_precision_scores = []\n",
        "rouge1_recall_scores = []\n",
        "rouge2_f1_scores = []\n",
        "rouge2_precision_scores = []\n",
        "rouge2_recall_scores = []\n",
        "rougeL_f1_scores = []\n",
        "rougeL_precision_scores = []\n",
        "rougeL_recall_scores = []\n",
        "\n",
        "for ref, pred in zip(list_of_20_examples, list_of_generated_recipes):\n",
        "    candidate = preprocess_text(pred)\n",
        "    reference = preprocess_text(' '.join(ref))\n",
        "    scores = scorer.score(reference, candidate)\n",
        "\n",
        "    rouge1_f1_scores.append(scores['rouge1'].fmeasure)\n",
        "    rouge1_precision_scores.append(scores['rouge1'].precision)\n",
        "    rouge1_recall_scores.append(scores['rouge1'].recall)\n",
        "    rouge2_f1_scores.append(scores['rouge2'].fmeasure)\n",
        "    rouge2_precision_scores.append(scores['rouge2'].precision)\n",
        "    rouge2_recall_scores.append(scores['rouge2'].recall)\n",
        "    rougeL_f1_scores.append(scores['rougeL'].fmeasure)\n",
        "    rougeL_precision_scores.append(scores['rougeL'].precision)\n",
        "    rougeL_recall_scores.append(scores['rougeL'].recall)\n",
        "\n",
        "# Calculate the average scores\n",
        "avg_rouge1_f1 = sum(rouge1_f1_scores) / len(rouge1_f1_scores)\n",
        "avg_rouge1_precision = sum(rouge1_precision_scores) / len(rouge1_precision_scores)\n",
        "avg_rouge1_recall = sum(rouge1_recall_scores) / len(rouge1_recall_scores)\n",
        "avg_rouge2_f1 = sum(rouge2_f1_scores) / len(rouge2_f1_scores)\n",
        "avg_rouge2_precision = sum(rouge2_precision_scores) / len(rouge2_precision_scores)\n",
        "avg_rouge2_recall = sum(rouge2_recall_scores) / len(rouge2_recall_scores)\n",
        "avg_rougeL_f1 = sum(rougeL_f1_scores) / len(rougeL_f1_scores)\n",
        "avg_rougeL_precision = sum(rougeL_precision_scores) / len(rougeL_precision_scores)\n",
        "avg_rougeL_recall = sum(rougeL_recall_scores) / len(rougeL_recall_scores)\n",
        "\n",
        "# Print the average scores\n",
        "print(\"Average Rouge-1 F1 Score:\", avg_rouge1_f1)\n",
        "print(\"Average Rouge-1 Precision:\", avg_rouge1_precision)\n",
        "print(\"Average Rouge-1 Recall:\", avg_rouge1_recall)\n",
        "\n",
        "print(\"Average Rouge-2 F1 Score:\", avg_rouge2_f1)\n",
        "print(\"Average Rouge-2 Precision:\", avg_rouge2_precision)\n",
        "print(\"Average Rouge-2 Recall:\", avg_rouge2_recall)\n",
        "\n",
        "print(\"Average Rouge-L F1 Score:\", avg_rougeL_f1)\n",
        "print(\"Average Rouge-L Precision:\", avg_rougeL_precision)\n",
        "print(\"Average Rouge-L Recall:\", avg_rougeL_recall)"
      ],
      "metadata": {
        "colab": {
          "base_uri": "https://localhost:8080/"
        },
        "id": "mYa3KzT37C0v",
        "outputId": "e25ab0b1-655a-4a87-c12a-88bf18854927"
      },
      "execution_count": 100,
      "outputs": [
        {
          "output_type": "stream",
          "name": "stdout",
          "text": [
            "Average Rouge-1 F1 Score: 0.029069723928599724\n",
            "Average Rouge-1 Precision: 0.040044938060854365\n",
            "Average Rouge-1 Recall: 0.02966973301740704\n",
            "Average Rouge-2 F1 Score: 0.0037649484386785754\n",
            "Average Rouge-2 Precision: 0.0037757545227833852\n",
            "Average Rouge-2 Recall: 0.0050208141607210955\n",
            "Average Rouge-L F1 Score: 0.02626064157835723\n",
            "Average Rouge-L Precision: 0.036315605072322364\n",
            "Average Rouge-L Recall: 0.02699192091551721\n"
          ]
        }
      ]
    }
  ]
}